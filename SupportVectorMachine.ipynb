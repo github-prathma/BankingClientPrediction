{
 "cells": [
  {
   "cell_type": "code",
   "execution_count": 2,
   "metadata": {},
   "outputs": [],
   "source": [
    "import pandas as pd\n",
    "import numpy as np\n",
    "import seaborn as sns\n",
    "import matplotlib.pyplot as plt\n",
    "from sklearn import svm\n",
    "from sklearn.model_selection import train_test_split, GridSearchCV, cross_val_score, cross_validate, ShuffleSplit, LeaveOneOut\n",
    "from sklearn.metrics import classification_report\n",
    "from sklearn.metrics import confusion_matrix\n",
    "from sklearn.metrics import roc_curve,roc_auc_score,balanced_accuracy_score\n",
    "from imblearn.over_sampling import RandomOverSampler, SMOTE\n",
    "from imblearn.under_sampling import RandomUnderSampler\n",
    "from sklearn import metrics\n",
    "from sklearn.metrics import plot_confusion_matrix\n",
    "from mlxtend.plotting import plot_confusion_matrix\n",
    "from matplotlib.colors import ListedColormap\n",
    "from sklearn.svm import SVC\n",
    "from sklearn.preprocessing import StandardScaler\n",
    "from sklearn.pipeline import make_pipeline\n",
    "from sklearn.metrics import f1_score\n"
   ]
  },
  {
   "cell_type": "markdown",
   "metadata": {},
   "source": [
    "***"
   ]
  },
  {
   "cell_type": "markdown",
   "metadata": {},
   "source": [
    "### Reading data"
   ]
  },
  {
   "cell_type": "code",
   "execution_count": 3,
   "metadata": {},
   "outputs": [
    {
     "data": {
      "text/html": [
       "<div>\n",
       "<style scoped>\n",
       "    .dataframe tbody tr th:only-of-type {\n",
       "        vertical-align: middle;\n",
       "    }\n",
       "\n",
       "    .dataframe tbody tr th {\n",
       "        vertical-align: top;\n",
       "    }\n",
       "\n",
       "    .dataframe thead th {\n",
       "        text-align: right;\n",
       "    }\n",
       "</style>\n",
       "<table border=\"1\" class=\"dataframe\">\n",
       "  <thead>\n",
       "    <tr style=\"text-align: right;\">\n",
       "      <th></th>\n",
       "      <th>age</th>\n",
       "      <th>duration</th>\n",
       "      <th>campaign</th>\n",
       "      <th>pdays</th>\n",
       "      <th>previous</th>\n",
       "      <th>emp.var.rate</th>\n",
       "      <th>cons.price.idx</th>\n",
       "      <th>cons.conf.idx</th>\n",
       "      <th>euribor3m</th>\n",
       "      <th>nr.employed</th>\n",
       "      <th>...</th>\n",
       "      <th>month_jul</th>\n",
       "      <th>month_jun</th>\n",
       "      <th>month_mar</th>\n",
       "      <th>month_may</th>\n",
       "      <th>month_nov</th>\n",
       "      <th>month_oct</th>\n",
       "      <th>month_sep</th>\n",
       "      <th>marital_divorced</th>\n",
       "      <th>marital_married</th>\n",
       "      <th>marital_single</th>\n",
       "    </tr>\n",
       "  </thead>\n",
       "  <tbody>\n",
       "    <tr>\n",
       "      <th>0</th>\n",
       "      <td>5</td>\n",
       "      <td>261</td>\n",
       "      <td>1</td>\n",
       "      <td>3</td>\n",
       "      <td>0</td>\n",
       "      <td>1.1</td>\n",
       "      <td>93.994</td>\n",
       "      <td>-36.4</td>\n",
       "      <td>4.857</td>\n",
       "      <td>5191.0</td>\n",
       "      <td>...</td>\n",
       "      <td>0</td>\n",
       "      <td>0</td>\n",
       "      <td>0</td>\n",
       "      <td>1</td>\n",
       "      <td>0</td>\n",
       "      <td>0</td>\n",
       "      <td>0</td>\n",
       "      <td>0</td>\n",
       "      <td>1</td>\n",
       "      <td>0</td>\n",
       "    </tr>\n",
       "    <tr>\n",
       "      <th>1</th>\n",
       "      <td>5</td>\n",
       "      <td>149</td>\n",
       "      <td>1</td>\n",
       "      <td>3</td>\n",
       "      <td>0</td>\n",
       "      <td>1.1</td>\n",
       "      <td>93.994</td>\n",
       "      <td>-36.4</td>\n",
       "      <td>4.857</td>\n",
       "      <td>5191.0</td>\n",
       "      <td>...</td>\n",
       "      <td>0</td>\n",
       "      <td>0</td>\n",
       "      <td>0</td>\n",
       "      <td>1</td>\n",
       "      <td>0</td>\n",
       "      <td>0</td>\n",
       "      <td>0</td>\n",
       "      <td>0</td>\n",
       "      <td>1</td>\n",
       "      <td>0</td>\n",
       "    </tr>\n",
       "    <tr>\n",
       "      <th>2</th>\n",
       "      <td>3</td>\n",
       "      <td>226</td>\n",
       "      <td>1</td>\n",
       "      <td>3</td>\n",
       "      <td>0</td>\n",
       "      <td>1.1</td>\n",
       "      <td>93.994</td>\n",
       "      <td>-36.4</td>\n",
       "      <td>4.857</td>\n",
       "      <td>5191.0</td>\n",
       "      <td>...</td>\n",
       "      <td>0</td>\n",
       "      <td>0</td>\n",
       "      <td>0</td>\n",
       "      <td>1</td>\n",
       "      <td>0</td>\n",
       "      <td>0</td>\n",
       "      <td>0</td>\n",
       "      <td>0</td>\n",
       "      <td>1</td>\n",
       "      <td>0</td>\n",
       "    </tr>\n",
       "    <tr>\n",
       "      <th>3</th>\n",
       "      <td>3</td>\n",
       "      <td>151</td>\n",
       "      <td>1</td>\n",
       "      <td>3</td>\n",
       "      <td>0</td>\n",
       "      <td>1.1</td>\n",
       "      <td>93.994</td>\n",
       "      <td>-36.4</td>\n",
       "      <td>4.857</td>\n",
       "      <td>5191.0</td>\n",
       "      <td>...</td>\n",
       "      <td>0</td>\n",
       "      <td>0</td>\n",
       "      <td>0</td>\n",
       "      <td>1</td>\n",
       "      <td>0</td>\n",
       "      <td>0</td>\n",
       "      <td>0</td>\n",
       "      <td>0</td>\n",
       "      <td>1</td>\n",
       "      <td>0</td>\n",
       "    </tr>\n",
       "    <tr>\n",
       "      <th>4</th>\n",
       "      <td>5</td>\n",
       "      <td>307</td>\n",
       "      <td>1</td>\n",
       "      <td>3</td>\n",
       "      <td>0</td>\n",
       "      <td>1.1</td>\n",
       "      <td>93.994</td>\n",
       "      <td>-36.4</td>\n",
       "      <td>4.857</td>\n",
       "      <td>5191.0</td>\n",
       "      <td>...</td>\n",
       "      <td>0</td>\n",
       "      <td>0</td>\n",
       "      <td>0</td>\n",
       "      <td>1</td>\n",
       "      <td>0</td>\n",
       "      <td>0</td>\n",
       "      <td>0</td>\n",
       "      <td>0</td>\n",
       "      <td>1</td>\n",
       "      <td>0</td>\n",
       "    </tr>\n",
       "    <tr>\n",
       "      <th>...</th>\n",
       "      <td>...</td>\n",
       "      <td>...</td>\n",
       "      <td>...</td>\n",
       "      <td>...</td>\n",
       "      <td>...</td>\n",
       "      <td>...</td>\n",
       "      <td>...</td>\n",
       "      <td>...</td>\n",
       "      <td>...</td>\n",
       "      <td>...</td>\n",
       "      <td>...</td>\n",
       "      <td>...</td>\n",
       "      <td>...</td>\n",
       "      <td>...</td>\n",
       "      <td>...</td>\n",
       "      <td>...</td>\n",
       "      <td>...</td>\n",
       "      <td>...</td>\n",
       "      <td>...</td>\n",
       "      <td>...</td>\n",
       "      <td>...</td>\n",
       "    </tr>\n",
       "    <tr>\n",
       "      <th>41183</th>\n",
       "      <td>5</td>\n",
       "      <td>334</td>\n",
       "      <td>1</td>\n",
       "      <td>3</td>\n",
       "      <td>0</td>\n",
       "      <td>-1.1</td>\n",
       "      <td>94.767</td>\n",
       "      <td>-50.8</td>\n",
       "      <td>1.028</td>\n",
       "      <td>4963.6</td>\n",
       "      <td>...</td>\n",
       "      <td>0</td>\n",
       "      <td>0</td>\n",
       "      <td>0</td>\n",
       "      <td>0</td>\n",
       "      <td>1</td>\n",
       "      <td>0</td>\n",
       "      <td>0</td>\n",
       "      <td>0</td>\n",
       "      <td>1</td>\n",
       "      <td>0</td>\n",
       "    </tr>\n",
       "    <tr>\n",
       "      <th>41184</th>\n",
       "      <td>4</td>\n",
       "      <td>383</td>\n",
       "      <td>1</td>\n",
       "      <td>3</td>\n",
       "      <td>0</td>\n",
       "      <td>-1.1</td>\n",
       "      <td>94.767</td>\n",
       "      <td>-50.8</td>\n",
       "      <td>1.028</td>\n",
       "      <td>4963.6</td>\n",
       "      <td>...</td>\n",
       "      <td>0</td>\n",
       "      <td>0</td>\n",
       "      <td>0</td>\n",
       "      <td>0</td>\n",
       "      <td>1</td>\n",
       "      <td>0</td>\n",
       "      <td>0</td>\n",
       "      <td>0</td>\n",
       "      <td>1</td>\n",
       "      <td>0</td>\n",
       "    </tr>\n",
       "    <tr>\n",
       "      <th>41185</th>\n",
       "      <td>5</td>\n",
       "      <td>189</td>\n",
       "      <td>2</td>\n",
       "      <td>3</td>\n",
       "      <td>0</td>\n",
       "      <td>-1.1</td>\n",
       "      <td>94.767</td>\n",
       "      <td>-50.8</td>\n",
       "      <td>1.028</td>\n",
       "      <td>4963.6</td>\n",
       "      <td>...</td>\n",
       "      <td>0</td>\n",
       "      <td>0</td>\n",
       "      <td>0</td>\n",
       "      <td>0</td>\n",
       "      <td>1</td>\n",
       "      <td>0</td>\n",
       "      <td>0</td>\n",
       "      <td>0</td>\n",
       "      <td>1</td>\n",
       "      <td>0</td>\n",
       "    </tr>\n",
       "    <tr>\n",
       "      <th>41186</th>\n",
       "      <td>4</td>\n",
       "      <td>442</td>\n",
       "      <td>1</td>\n",
       "      <td>3</td>\n",
       "      <td>0</td>\n",
       "      <td>-1.1</td>\n",
       "      <td>94.767</td>\n",
       "      <td>-50.8</td>\n",
       "      <td>1.028</td>\n",
       "      <td>4963.6</td>\n",
       "      <td>...</td>\n",
       "      <td>0</td>\n",
       "      <td>0</td>\n",
       "      <td>0</td>\n",
       "      <td>0</td>\n",
       "      <td>1</td>\n",
       "      <td>0</td>\n",
       "      <td>0</td>\n",
       "      <td>0</td>\n",
       "      <td>1</td>\n",
       "      <td>0</td>\n",
       "    </tr>\n",
       "    <tr>\n",
       "      <th>41187</th>\n",
       "      <td>5</td>\n",
       "      <td>239</td>\n",
       "      <td>3</td>\n",
       "      <td>3</td>\n",
       "      <td>1</td>\n",
       "      <td>-1.1</td>\n",
       "      <td>94.767</td>\n",
       "      <td>-50.8</td>\n",
       "      <td>1.028</td>\n",
       "      <td>4963.6</td>\n",
       "      <td>...</td>\n",
       "      <td>0</td>\n",
       "      <td>0</td>\n",
       "      <td>0</td>\n",
       "      <td>0</td>\n",
       "      <td>1</td>\n",
       "      <td>0</td>\n",
       "      <td>0</td>\n",
       "      <td>0</td>\n",
       "      <td>1</td>\n",
       "      <td>0</td>\n",
       "    </tr>\n",
       "  </tbody>\n",
       "</table>\n",
       "<p>41173 rows × 58 columns</p>\n",
       "</div>"
      ],
      "text/plain": [
       "       age  duration  campaign  pdays  previous  emp.var.rate  cons.price.idx  \\\n",
       "0        5       261         1      3         0           1.1          93.994   \n",
       "1        5       149         1      3         0           1.1          93.994   \n",
       "2        3       226         1      3         0           1.1          93.994   \n",
       "3        3       151         1      3         0           1.1          93.994   \n",
       "4        5       307         1      3         0           1.1          93.994   \n",
       "...    ...       ...       ...    ...       ...           ...             ...   \n",
       "41183    5       334         1      3         0          -1.1          94.767   \n",
       "41184    4       383         1      3         0          -1.1          94.767   \n",
       "41185    5       189         2      3         0          -1.1          94.767   \n",
       "41186    4       442         1      3         0          -1.1          94.767   \n",
       "41187    5       239         3      3         1          -1.1          94.767   \n",
       "\n",
       "       cons.conf.idx  euribor3m  nr.employed  ... month_jul  month_jun  \\\n",
       "0              -36.4      4.857       5191.0  ...         0          0   \n",
       "1              -36.4      4.857       5191.0  ...         0          0   \n",
       "2              -36.4      4.857       5191.0  ...         0          0   \n",
       "3              -36.4      4.857       5191.0  ...         0          0   \n",
       "4              -36.4      4.857       5191.0  ...         0          0   \n",
       "...              ...        ...          ...  ...       ...        ...   \n",
       "41183          -50.8      1.028       4963.6  ...         0          0   \n",
       "41184          -50.8      1.028       4963.6  ...         0          0   \n",
       "41185          -50.8      1.028       4963.6  ...         0          0   \n",
       "41186          -50.8      1.028       4963.6  ...         0          0   \n",
       "41187          -50.8      1.028       4963.6  ...         0          0   \n",
       "\n",
       "       month_mar  month_may  month_nov  month_oct  month_sep  \\\n",
       "0              0          1          0          0          0   \n",
       "1              0          1          0          0          0   \n",
       "2              0          1          0          0          0   \n",
       "3              0          1          0          0          0   \n",
       "4              0          1          0          0          0   \n",
       "...          ...        ...        ...        ...        ...   \n",
       "41183          0          0          1          0          0   \n",
       "41184          0          0          1          0          0   \n",
       "41185          0          0          1          0          0   \n",
       "41186          0          0          1          0          0   \n",
       "41187          0          0          1          0          0   \n",
       "\n",
       "       marital_divorced  marital_married  marital_single  \n",
       "0                     0                1               0  \n",
       "1                     0                1               0  \n",
       "2                     0                1               0  \n",
       "3                     0                1               0  \n",
       "4                     0                1               0  \n",
       "...                 ...              ...             ...  \n",
       "41183                 0                1               0  \n",
       "41184                 0                1               0  \n",
       "41185                 0                1               0  \n",
       "41186                 0                1               0  \n",
       "41187                 0                1               0  \n",
       "\n",
       "[41173 rows x 58 columns]"
      ]
     },
     "execution_count": 3,
     "metadata": {},
     "output_type": "execute_result"
    }
   ],
   "source": [
    "df = pd.read_csv('processedData.csv', index_col=[0])\n",
    "df"
   ]
  },
  {
   "cell_type": "code",
   "execution_count": 4,
   "metadata": {},
   "outputs": [],
   "source": [
    "def converty(x):\n",
    "    if x=='yes':\n",
    "        return 1\n",
    "    return 0\n",
    "\n",
    "y = df['y']\n",
    "y = y.apply(converty)\n",
    "X = df.drop(columns=['y'])"
   ]
  },
  {
   "cell_type": "markdown",
   "metadata": {},
   "source": [
    "***"
   ]
  },
  {
   "cell_type": "markdown",
   "metadata": {},
   "source": [
    "### Splitting data into test and train"
   ]
  },
  {
   "cell_type": "code",
   "execution_count": 7,
   "metadata": {},
   "outputs": [],
   "source": [
    "X_train, X_test, y_train, y_test = train_test_split(X, y, test_size = 0.2, random_state = 17)\n"
   ]
  },
  {
   "cell_type": "markdown",
   "metadata": {},
   "source": [
    "### SMOTE oversampled Data"
   ]
  },
  {
   "cell_type": "code",
   "execution_count": 8,
   "metadata": {},
   "outputs": [],
   "source": [
    "# Create an oversampled training data\n",
    "smote = SMOTE(random_state = 17)\n",
    "X_SMOTE, y_SMOTE = smote.fit_resample(X_train, y_train)"
   ]
  },
  {
   "cell_type": "markdown",
   "metadata": {},
   "source": [
    "### Standardized data"
   ]
  },
  {
   "cell_type": "code",
   "execution_count": 9,
   "metadata": {},
   "outputs": [],
   "source": [
    "scaler = StandardScaler()\n",
    "scaler.fit(X_train)\n",
    "X_train_std = scaler.transform(X_train)\n",
    "X_test_std = scaler.transform(X_test)\n",
    "X_SMOTE_std = scaler.transform(X_SMOTE)"
   ]
  },
  {
   "cell_type": "markdown",
   "metadata": {},
   "source": [
    "***"
   ]
  },
  {
   "cell_type": "markdown",
   "metadata": {},
   "source": [
    "### Classification Report Plot function"
   ]
  },
  {
   "cell_type": "code",
   "execution_count": 11,
   "metadata": {},
   "outputs": [],
   "source": [
    "def plot_classification_report(cr, title='Classification report ', with_avg_total=False, cmap=plt.cm.summer):\n",
    "    title = title or 'Classification report'\n",
    "    lines = cr.split('\\n')\n",
    "    classes = []\n",
    "    matrix = []\n",
    "\n",
    "    for line in lines[2:(len(lines)-4)]:\n",
    "        s = line.split()\n",
    "        classes.append(s[0])\n",
    "        value = [float(x) for x in s[1: len(s) - 1]]\n",
    "        matrix.append(value)\n",
    "\n",
    "    fig, ax = plt.subplots(1)\n",
    "\n",
    "    for column in range(len(matrix)+1):\n",
    "        for row in range(len(classes)):\n",
    "            txt = matrix[row][column]\n",
    "            ax.text(column,row,matrix[row][column],va='center',ha='center')\n",
    "\n",
    "    fig = plt.imshow(matrix, interpolation='nearest', cmap=cmap)\n",
    "    plt.title(title)\n",
    "    plt.colorbar()\n",
    "    x_tick_marks = np.arange(len(classes)+1)\n",
    "    y_tick_marks = np.arange(len(classes))\n",
    "    plt.xticks(x_tick_marks, ['precision', 'recall', 'f1-score'], rotation=45)\n",
    "    plt.yticks(y_tick_marks, classes)\n",
    "    plt.ylabel('Classes')\n",
    "    plt.xlabel('Measures')\n",
    "    plt.show()"
   ]
  },
  {
   "cell_type": "markdown",
   "metadata": {},
   "source": [
    "***"
   ]
  },
  {
   "cell_type": "markdown",
   "metadata": {},
   "source": [
    "## SVM"
   ]
  },
  {
   "cell_type": "markdown",
   "metadata": {},
   "source": [
    "* ### SVM Linear on imbalanced data"
   ]
  },
  {
   "cell_type": "code",
   "execution_count": 43,
   "metadata": {},
   "outputs": [
    {
     "data": {
      "text/plain": [
       "SVC(kernel='linear')"
      ]
     },
     "execution_count": 43,
     "metadata": {},
     "output_type": "execute_result"
    }
   ],
   "source": [
    "svm_model = svm.SVC(kernel='linear')\n",
    "svm_model.fit(X_train, y_train)"
   ]
  },
  {
   "cell_type": "code",
   "execution_count": 44,
   "metadata": {},
   "outputs": [],
   "source": [
    "y_pred = svm_model.predict(X_test)"
   ]
  },
  {
   "cell_type": "code",
   "execution_count": 45,
   "metadata": {},
   "outputs": [
    {
     "name": "stdout",
     "output_type": "stream",
     "text": [
      "Accuracy: 87.57%\n",
      "Balanced Accuracy: 67.53%\n"
     ]
    }
   ],
   "source": [
    "svm_acc = round(metrics.accuracy_score(y_test, y_pred)*100, 2)\n",
    "svm_bacc = round(metrics.balanced_accuracy_score(y_test, y_pred)*100, 2)\n",
    "\n",
    "print(f\"Accuracy: {svm_acc}%\")\n",
    "print(f\"Balanced Accuracy: {svm_bacc}%\")"
   ]
  },
  {
   "cell_type": "code",
   "execution_count": 46,
   "metadata": {},
   "outputs": [
    {
     "name": "stdout",
     "output_type": "stream",
     "text": [
      "[[6823  480]\n",
      " [ 544  388]]\n"
     ]
    }
   ],
   "source": [
    "svm_cm = confusion_matrix(y_test, y_pred)\n",
    "print(svm_cm)"
   ]
  },
  {
   "cell_type": "code",
   "execution_count": 47,
   "metadata": {},
   "outputs": [
    {
     "data": {
      "text/plain": [
       "(<Figure size 432x288 with 1 Axes>,\n",
       " <AxesSubplot:xlabel='predicted label', ylabel='true label'>)"
      ]
     },
     "execution_count": 47,
     "metadata": {},
     "output_type": "execute_result"
    },
    {
     "data": {
      "image/png": "[encoded data removed]",
      "text/plain": [
       "<Figure size 432x288 with 1 Axes>"
      ]
     },
     "metadata": {
      "needs_background": "light"
     },
     "output_type": "display_data"
    }
   ],
   "source": [
    "plot_confusion_matrix(svm_cm)"
   ]
  },
  {
   "cell_type": "code",
   "execution_count": 48,
   "metadata": {},
   "outputs": [
    {
     "name": "stdout",
     "output_type": "stream",
     "text": [
      "              precision    recall  f1-score   support\n",
      "\n",
      "           0       0.93      0.93      0.93      7303\n",
      "           1       0.45      0.42      0.43       932\n",
      "\n",
      "    accuracy                           0.88      8235\n",
      "   macro avg       0.69      0.68      0.68      8235\n",
      "weighted avg       0.87      0.88      0.87      8235\n",
      "\n"
     ]
    }
   ],
   "source": [
    "svm_classification_report = classification_report(y_test, y_pred)\n",
    "print(svm_classification_report)"
   ]
  },
  {
   "cell_type": "code",
   "execution_count": 14,
   "metadata": {},
   "outputs": [
    {
     "data": {
      "image/png": "[encoded data removed]",
      "text/plain": [
       "<Figure size 432x288 with 2 Axes>"
      ]
     },
     "metadata": {
      "needs_background": "light"
     },
     "output_type": "display_data"
    }
   ],
   "source": [
    "svm_cr = \"\"\"            precision    recall  f1-score   support\n",
    "\n",
    "           0       0.93      0.93      0.93      7303\n",
    "           1       0.45      0.42      0.43       932\n",
    "\n",
    "    accuracy                           0.88      8235\n",
    "   macro avg       0.69      0.68      0.68      8235\n",
    "weighted avg       0.87      0.88      0.87      8235\"\"\"\n",
    "\n",
    "plot_classification_report(svm_cr)"
   ]
  },
  {
   "cell_type": "code",
   "execution_count": 49,
   "metadata": {},
   "outputs": [
    {
     "data": {
      "text/plain": [
       "array([0.93019768, 0.43111111])"
      ]
     },
     "execution_count": 49,
     "metadata": {},
     "output_type": "execute_result"
    }
   ],
   "source": [
    "svm_f1 = f1_score(y_test, y_pred, average=None)\n",
    "svm_f1"
   ]
  },
  {
   "cell_type": "markdown",
   "metadata": {},
   "source": [
    "* ### SVM Linear on standard scaled imbalanced data"
   ]
  },
  {
   "cell_type": "code",
   "execution_count": 51,
   "metadata": {},
   "outputs": [
    {
     "data": {
      "text/plain": [
       "SVC(kernel='linear')"
      ]
     },
     "execution_count": 51,
     "metadata": {},
     "output_type": "execute_result"
    }
   ],
   "source": [
    "svm_std_model = svm.SVC(kernel='linear')\n",
    "svm_std_model.fit(X_train_std, y_train)"
   ]
  },
  {
   "cell_type": "code",
   "execution_count": 52,
   "metadata": {},
   "outputs": [],
   "source": [
    "y_pred_std = svm_std_model.predict(X_test)"
   ]
  },
  {
   "cell_type": "code",
   "execution_count": 53,
   "metadata": {},
   "outputs": [
    {
     "name": "stdout",
     "output_type": "stream",
     "text": [
      "Accuracy: 11.32%\n",
      "Balanced Accuracy: 50.0%\n"
     ]
    }
   ],
   "source": [
    "svm_std_acc = round(metrics.accuracy_score(y_test, y_pred_std)*100, 2)\n",
    "svm_std_bacc = round(metrics.balanced_accuracy_score(y_test, y_pred_std)*100, 2)\n",
    "\n",
    "print(f\"Accuracy: {svm_std_acc}%\")\n",
    "print(f\"Balanced Accuracy: {svm_std_bacc}%\")"
   ]
  },
  {
   "cell_type": "code",
   "execution_count": 54,
   "metadata": {},
   "outputs": [
    {
     "name": "stdout",
     "output_type": "stream",
     "text": [
      "[[   0 7303]\n",
      " [   0  932]]\n"
     ]
    }
   ],
   "source": [
    "svm_std_cm = confusion_matrix(y_test, y_pred_std)\n",
    "print(svm_std_cm)"
   ]
  },
  {
   "cell_type": "code",
   "execution_count": 55,
   "metadata": {},
   "outputs": [
    {
     "data": {
      "text/plain": [
       "(<Figure size 432x288 with 1 Axes>,\n",
       " <AxesSubplot:xlabel='predicted label', ylabel='true label'>)"
      ]
     },
     "execution_count": 55,
     "metadata": {},
     "output_type": "execute_result"
    },
    {
     "data": {
      "image/png": "[encoded data removed]",
      "text/plain": [
       "<Figure size 432x288 with 1 Axes>"
      ]
     },
     "metadata": {
      "needs_background": "light"
     },
     "output_type": "display_data"
    }
   ],
   "source": [
    "plot_confusion_matrix(svm_std_cm)"
   ]
  },
  {
   "cell_type": "code",
   "execution_count": 56,
   "metadata": {},
   "outputs": [
    {
     "name": "stdout",
     "output_type": "stream",
     "text": [
      "              precision    recall  f1-score   support\n",
      "\n",
      "           0       0.00      0.00      0.00      7303\n",
      "           1       0.11      1.00      0.20       932\n",
      "\n",
      "    accuracy                           0.11      8235\n",
      "   macro avg       0.06      0.50      0.10      8235\n",
      "weighted avg       0.01      0.11      0.02      8235\n",
      "\n"
     ]
    },
    {
     "name": "stderr",
     "output_type": "stream",
     "text": [
      "/home/prastogi/anaconda3/envs/my_env_py/lib/python3.6/site-packages/sklearn/metrics/_classification.py:1221: UndefinedMetricWarning: Precision and F-score are ill-defined and being set to 0.0 in labels with no predicted samples. Use `zero_division` parameter to control this behavior.\n",
      "  _warn_prf(average, modifier, msg_start, len(result))\n"
     ]
    }
   ],
   "source": [
    "svm_std_classification_report = classification_report(y_test, y_pred_std)\n",
    "print(svm_std_classification_report)"
   ]
  },
  {
   "cell_type": "code",
   "execution_count": 43,
   "metadata": {},
   "outputs": [
    {
     "data": {
      "image/png": "[encoded data removed]",
      "text/plain": [
       "<Figure size 432x288 with 2 Axes>"
      ]
     },
     "metadata": {
      "needs_background": "light"
     },
     "output_type": "display_data"
    }
   ],
   "source": [
    "svm_std_cr = \"\"\"           precision    recall  f1-score   support\n",
    "\n",
    "           0       0.00      0.00      0.00      7303\n",
    "           1       0.11      1.00      0.20       932\n",
    "\n",
    "    accuracy                           0.11      8235\n",
    "   macro avg       0.06      0.50      0.10      8235\n",
    "weighted avg       0.01      0.11      0.02      8235\"\"\"\n",
    "\n",
    "plot_classification_report(svm_std_cr)"
   ]
  },
  {
   "cell_type": "code",
   "execution_count": 57,
   "metadata": {},
   "outputs": [
    {
     "data": {
      "text/plain": [
       "array([0.        , 0.20333806])"
      ]
     },
     "execution_count": 57,
     "metadata": {},
     "output_type": "execute_result"
    }
   ],
   "source": [
    "svm_std_f1 = f1_score(y_test, y_pred_std, average=None)\n",
    "svm_std_f1"
   ]
  },
  {
   "cell_type": "markdown",
   "metadata": {},
   "source": [
    "* ### SVM RBF (Radial Basis Function) on standard scaled imbalanced data"
   ]
  },
  {
   "cell_type": "code",
   "execution_count": 63,
   "metadata": {},
   "outputs": [
    {
     "name": "stdout",
     "output_type": "stream",
     "text": [
      "Fitting 5 folds for each of 9 candidates, totalling 45 fits\n"
     ]
    },
    {
     "name": "stderr",
     "output_type": "stream",
     "text": [
      "[Parallel(n_jobs=-1)]: Using backend LokyBackend with 16 concurrent workers.\n",
      "[Parallel(n_jobs=-1)]: Done   9 tasks      | elapsed: 16.7min\n",
      "[Parallel(n_jobs=-1)]: Done  37 out of  45 | elapsed: 47.4min remaining: 10.2min\n",
      "[Parallel(n_jobs=-1)]: Done  45 out of  45 | elapsed: 50.8min finished\n"
     ]
    },
    {
     "data": {
      "text/plain": [
       "GridSearchCV(estimator=SVC(), n_jobs=-1,\n",
       "             param_grid={'C': [0.1, 1, 10], 'gamma': [1, 0.1, 0.01],\n",
       "                         'kernel': ['rbf']},\n",
       "             verbose=2)"
      ]
     },
     "execution_count": 63,
     "metadata": {},
     "output_type": "execute_result"
    }
   ],
   "source": [
    "param_grid1 = {'C': [0.1,1, 10], 'gamma': [1,0.1,0.01],'kernel': ['rbf']}\n",
    "grid = GridSearchCV(SVC(),param_grid1,refit=True,verbose=2, n_jobs = -1)\n",
    "grid.fit(X_train_std,y_train)"
   ]
  },
  {
   "cell_type": "code",
   "execution_count": 64,
   "metadata": {},
   "outputs": [
    {
     "name": "stdout",
     "output_type": "stream",
     "text": [
      "SVC(C=1, gamma=0.01)\n"
     ]
    }
   ],
   "source": [
    "print(grid.best_estimator_)"
   ]
  },
  {
   "cell_type": "code",
   "execution_count": 65,
   "metadata": {},
   "outputs": [],
   "source": [
    "grid_predictions = grid.predict(X_test_std)"
   ]
  },
  {
   "cell_type": "code",
   "execution_count": 66,
   "metadata": {},
   "outputs": [
    {
     "name": "stdout",
     "output_type": "stream",
     "text": [
      "Accuracy: 91.04%\n",
      "Balanced Accuracy: 68.83%\n"
     ]
    }
   ],
   "source": [
    "svm_rbf_ss_acc = round(metrics.accuracy_score(y_test, grid_predictions)*100, 2)\n",
    "svm_rbf_ss_bacc = round(metrics.balanced_accuracy_score(y_test, grid_predictions)*100, 2)\n",
    "\n",
    "print(f\"Accuracy: {svm_rbf_ss_acc}%\")\n",
    "print(f\"Balanced Accuracy: {svm_rbf_ss_bacc}%\")"
   ]
  },
  {
   "cell_type": "code",
   "execution_count": 67,
   "metadata": {},
   "outputs": [
    {
     "name": "stdout",
     "output_type": "stream",
     "text": [
      "[[7123  180]\n",
      " [ 558  374]]\n"
     ]
    }
   ],
   "source": [
    "svm_rbf_ss_cm = confusion_matrix(y_test, grid_predictions)\n",
    "print(svm_rbf_ss_cm)"
   ]
  },
  {
   "cell_type": "code",
   "execution_count": 68,
   "metadata": {},
   "outputs": [
    {
     "data": {
      "text/plain": [
       "(<Figure size 432x288 with 1 Axes>,\n",
       " <AxesSubplot:xlabel='predicted label', ylabel='true label'>)"
      ]
     },
     "execution_count": 68,
     "metadata": {},
     "output_type": "execute_result"
    },
    {
     "data": {
      "image/png": "[encoded data removed]",
      "text/plain": [
       "<Figure size 432x288 with 1 Axes>"
      ]
     },
     "metadata": {
      "needs_background": "light"
     },
     "output_type": "display_data"
    }
   ],
   "source": [
    "plot_confusion_matrix(svm_rbf_ss_cm)"
   ]
  },
  {
   "cell_type": "code",
   "execution_count": 69,
   "metadata": {},
   "outputs": [
    {
     "name": "stdout",
     "output_type": "stream",
     "text": [
      "              precision    recall  f1-score   support\n",
      "\n",
      "           0       0.93      0.98      0.95      7303\n",
      "           1       0.68      0.40      0.50       932\n",
      "\n",
      "    accuracy                           0.91      8235\n",
      "   macro avg       0.80      0.69      0.73      8235\n",
      "weighted avg       0.90      0.91      0.90      8235\n",
      "\n"
     ]
    }
   ],
   "source": [
    "svm_rbf_ss_classification_report = classification_report(y_test, grid_predictions)\n",
    "print(svm_rbf_ss_classification_report)"
   ]
  },
  {
   "cell_type": "code",
   "execution_count": 12,
   "metadata": {},
   "outputs": [
    {
     "data": {
      "image/png": "[encoded data removed]",
      "text/plain": [
       "<Figure size 432x288 with 2 Axes>"
      ]
     },
     "metadata": {
      "needs_background": "light"
     },
     "output_type": "display_data"
    }
   ],
   "source": [
    "svm_rbf_ss_cr = \"\"\"            precision    recall  f1-score   support\n",
    "\n",
    "           0       0.93      0.98      0.95      7303\n",
    "           1       0.68      0.40      0.50       932\n",
    "\n",
    "    accuracy                           0.91      8235\n",
    "   macro avg       0.80      0.69      0.73      8235\n",
    "weighted avg       0.90      0.91      0.90      8235\"\"\"\n",
    "\n",
    "plot_classification_report(svm_rbf_ss_cr)"
   ]
  },
  {
   "cell_type": "code",
   "execution_count": 70,
   "metadata": {},
   "outputs": [
    {
     "data": {
      "text/plain": [
       "array([0.95074746, 0.50336474])"
      ]
     },
     "execution_count": 70,
     "metadata": {},
     "output_type": "execute_result"
    }
   ],
   "source": [
    "svm_rbf_ss_f1 = f1_score(y_test, grid_predictions, average=None)\n",
    "svm_rbf_ss_f1"
   ]
  },
  {
   "cell_type": "markdown",
   "metadata": {},
   "source": [
    "* ### SVM Linear on SMOTE data"
   ]
  },
  {
   "cell_type": "code",
   "execution_count": 71,
   "metadata": {},
   "outputs": [
    {
     "name": "stdout",
     "output_type": "stream",
     "text": [
      "Fitting 5 folds for each of 9 candidates, totalling 45 fits\n"
     ]
    },
    {
     "name": "stderr",
     "output_type": "stream",
     "text": [
      "[Parallel(n_jobs=-1)]: Using backend LokyBackend with 16 concurrent workers.\n",
      "[Parallel(n_jobs=-1)]: Done  45 out of  45 | elapsed: 33.3min finished\n"
     ]
    },
    {
     "data": {
      "text/plain": [
       "GridSearchCV(estimator=SVC(), n_jobs=-1,\n",
       "             param_grid={'C': [0.1, 1, 10], 'gamma': [1, 0.1, 0.01],\n",
       "                         'kernel': ['linear']},\n",
       "             verbose=1)"
      ]
     },
     "execution_count": 71,
     "metadata": {},
     "output_type": "execute_result"
    }
   ],
   "source": [
    "param_gridS = {'C': [0.1, 1, 10], 'gamma': [1,0.1,0.01],'kernel': ['linear']}\n",
    "svm_smote = GridSearchCV(SVC(), param_gridS, refit=True, verbose=1, n_jobs = -1)\n",
    "svm_smote.fit(X_SMOTE, y_SMOTE) "
   ]
  },
  {
   "cell_type": "code",
   "execution_count": 72,
   "metadata": {},
   "outputs": [
    {
     "name": "stdout",
     "output_type": "stream",
     "text": [
      "SVC(C=0.1, gamma=1, kernel='linear')\n"
     ]
    }
   ],
   "source": [
    "print(svm_smote.best_estimator_)"
   ]
  },
  {
   "cell_type": "code",
   "execution_count": 73,
   "metadata": {},
   "outputs": [],
   "source": [
    "y_smote_predictions = svm_smote.predict(X_test)"
   ]
  },
  {
   "cell_type": "code",
   "execution_count": 74,
   "metadata": {},
   "outputs": [
    {
     "name": "stdout",
     "output_type": "stream",
     "text": [
      "Accuracy: 89.36%\n",
      "Balanced Accuracy: 66.67%\n"
     ]
    }
   ],
   "source": [
    "svm_smote_acc = round(metrics.accuracy_score(y_test, y_smote_predictions)*100, 2)\n",
    "svm_smote_bacc = round(metrics.balanced_accuracy_score(y_test, y_smote_predictions)*100, 2)\n",
    "\n",
    "print(f\"Accuracy: {svm_smote_acc}%\")\n",
    "print(f\"Balanced Accuracy: {svm_smote_bacc}%\")"
   ]
  },
  {
   "cell_type": "code",
   "execution_count": 75,
   "metadata": {},
   "outputs": [
    {
     "name": "stdout",
     "output_type": "stream",
     "text": [
      "[[7011  292]\n",
      " [ 584  348]]\n"
     ]
    }
   ],
   "source": [
    "svm_smote_cm = confusion_matrix(y_test, y_smote_predictions)\n",
    "print(svm_smote_cm)"
   ]
  },
  {
   "cell_type": "code",
   "execution_count": 76,
   "metadata": {},
   "outputs": [
    {
     "data": {
      "text/plain": [
       "(<Figure size 432x288 with 1 Axes>,\n",
       " <AxesSubplot:xlabel='predicted label', ylabel='true label'>)"
      ]
     },
     "execution_count": 76,
     "metadata": {},
     "output_type": "execute_result"
    },
    {
     "data": {
      "image/png": "[encoded data removed]",
      "text/plain": [
       "<Figure size 432x288 with 1 Axes>"
      ]
     },
     "metadata": {
      "needs_background": "light"
     },
     "output_type": "display_data"
    }
   ],
   "source": [
    "plot_confusion_matrix(svm_smote_cm)"
   ]
  },
  {
   "cell_type": "code",
   "execution_count": 77,
   "metadata": {},
   "outputs": [
    {
     "name": "stdout",
     "output_type": "stream",
     "text": [
      "              precision    recall  f1-score   support\n",
      "\n",
      "           0       0.92      0.96      0.94      7303\n",
      "           1       0.54      0.37      0.44       932\n",
      "\n",
      "    accuracy                           0.89      8235\n",
      "   macro avg       0.73      0.67      0.69      8235\n",
      "weighted avg       0.88      0.89      0.88      8235\n",
      "\n"
     ]
    }
   ],
   "source": [
    "svm_smote_classification_report = classification_report(y_test, y_smote_predictions)\n",
    "print(svm_smote_classification_report)"
   ]
  },
  {
   "cell_type": "code",
   "execution_count": 24,
   "metadata": {},
   "outputs": [
    {
     "data": {
      "image/png": "[encoded data removed]",
      "text/plain": [
       "<Figure size 432x288 with 2 Axes>"
      ]
     },
     "metadata": {
      "needs_background": "light"
     },
     "output_type": "display_data"
    }
   ],
   "source": [
    "svm_smote_cr = \"\"\"            precision    recall  f1-score   support\n",
    "\n",
    "           0       0.92      0.96      0.94      7303\n",
    "           1       0.54      0.37      0.44       932\n",
    "\n",
    "    accuracy                           0.89      8235\n",
    "   macro avg       0.73      0.67      0.69      8235\n",
    "weighted avg       0.88      0.89      0.88      8235\"\"\"\n",
    "\n",
    "plot_classification_report(svm_smote_cr)"
   ]
  },
  {
   "cell_type": "code",
   "execution_count": 78,
   "metadata": {},
   "outputs": [
    {
     "data": {
      "text/plain": [
       "array([0.94120016, 0.44274809])"
      ]
     },
     "execution_count": 78,
     "metadata": {},
     "output_type": "execute_result"
    }
   ],
   "source": [
    "svm_smote_f1 = f1_score(y_test, y_smote_predictions, average=None)\n",
    "svm_smote_f1"
   ]
  },
  {
   "cell_type": "markdown",
   "metadata": {},
   "source": [
    "* ### SVM Linear on Standard Scaled SMOTE Data"
   ]
  },
  {
   "cell_type": "code",
   "execution_count": 13,
   "metadata": {},
   "outputs": [
    {
     "name": "stdout",
     "output_type": "stream",
     "text": [
      "Fitting 5 folds for each of 3 candidates, totalling 15 fits\n"
     ]
    },
    {
     "name": "stderr",
     "output_type": "stream",
     "text": [
      "[Parallel(n_jobs=-1)]: Using backend LokyBackend with 16 concurrent workers.\n",
      "[Parallel(n_jobs=-1)]: Done   8 out of  15 | elapsed: 15.7min remaining: 13.7min\n",
      "[Parallel(n_jobs=-1)]: Done  15 out of  15 | elapsed: 48.6min finished\n"
     ]
    },
    {
     "data": {
      "text/plain": [
       "GridSearchCV(cv=ShuffleSplit(n_splits=5, random_state=17, test_size=0.2, train_size=None),\n",
       "             estimator=SVC(kernel='linear'), n_jobs=-1,\n",
       "             param_grid={'C': [0.1, 1, 10]}, verbose=2)"
      ]
     },
     "execution_count": 13,
     "metadata": {},
     "output_type": "execute_result"
    }
   ],
   "source": [
    "bs = ShuffleSplit(n_splits=5,test_size=0.2,random_state=17)\n",
    "param_grid = {'C':[0.1,1, 10]}\n",
    "\n",
    "svm_ss_smote = GridSearchCV(SVC(kernel = 'linear'), param_grid, refit=True,verbose=2, cv = bs, n_jobs = -1)\n",
    "svm_ss_smote.fit(X_SMOTE_std, y_SMOTE)\n"
   ]
  },
  {
   "cell_type": "code",
   "execution_count": 14,
   "metadata": {},
   "outputs": [
    {
     "name": "stdout",
     "output_type": "stream",
     "text": [
      "SVC(C=0.1, kernel='linear')\n"
     ]
    }
   ],
   "source": [
    "print(svm_ss_smote.best_estimator_)"
   ]
  },
  {
   "cell_type": "code",
   "execution_count": 15,
   "metadata": {},
   "outputs": [],
   "source": [
    "grid_predictions_ss_SMOTE = svm_ss_smote.predict(X_test_std)"
   ]
  },
  {
   "cell_type": "code",
   "execution_count": 16,
   "metadata": {},
   "outputs": [
    {
     "name": "stdout",
     "output_type": "stream",
     "text": [
      "Accuracy: 90.53%\n",
      "Balanced Accuracy: 65.55%\n"
     ]
    }
   ],
   "source": [
    "svm_ss_smote_acc = round(metrics.accuracy_score(y_test, grid_predictions_ss_SMOTE)*100, 2)\n",
    "svm_ss_smote_bacc = round(metrics.balanced_accuracy_score(y_test, grid_predictions_ss_SMOTE)*100, 2)\n",
    "\n",
    "print(f\"Accuracy: {svm_ss_smote_acc}%\")\n",
    "print(f\"Balanced Accuracy: {svm_ss_smote_bacc}%\")"
   ]
  },
  {
   "cell_type": "code",
   "execution_count": 17,
   "metadata": {},
   "outputs": [
    {
     "name": "stdout",
     "output_type": "stream",
     "text": [
      "[[7145  158]\n",
      " [ 622  310]]\n"
     ]
    }
   ],
   "source": [
    "svm_ss_smote_cm = confusion_matrix(y_test, grid_predictions_ss_SMOTE)\n",
    "print(svm_ss_smote_cm)"
   ]
  },
  {
   "cell_type": "code",
   "execution_count": 18,
   "metadata": {},
   "outputs": [
    {
     "data": {
      "text/plain": [
       "(<Figure size 432x288 with 1 Axes>,\n",
       " <AxesSubplot:xlabel='predicted label', ylabel='true label'>)"
      ]
     },
     "execution_count": 18,
     "metadata": {},
     "output_type": "execute_result"
    },
    {
     "data": {
      "image/png": "[encoded data removed]",
      "text/plain": [
       "<Figure size 432x288 with 1 Axes>"
      ]
     },
     "metadata": {
      "needs_background": "light"
     },
     "output_type": "display_data"
    }
   ],
   "source": [
    "plot_confusion_matrix(svm_ss_smote_cm)"
   ]
  },
  {
   "cell_type": "code",
   "execution_count": 19,
   "metadata": {},
   "outputs": [
    {
     "name": "stdout",
     "output_type": "stream",
     "text": [
      "              precision    recall  f1-score   support\n",
      "\n",
      "           0       0.92      0.98      0.95      7303\n",
      "           1       0.66      0.33      0.44       932\n",
      "\n",
      "    accuracy                           0.91      8235\n",
      "   macro avg       0.79      0.66      0.70      8235\n",
      "weighted avg       0.89      0.91      0.89      8235\n",
      "\n"
     ]
    }
   ],
   "source": [
    "svm_ss_smote_classification_report = classification_report(y_test, grid_predictions_ss_SMOTE)\n",
    "print(svm_ss_smote_classification_report)"
   ]
  },
  {
   "cell_type": "code",
   "execution_count": 20,
   "metadata": {},
   "outputs": [
    {
     "data": {
      "image/png": "[encoded data removed]",
      "text/plain": [
       "<Figure size 432x288 with 2 Axes>"
      ]
     },
     "metadata": {
      "needs_background": "light"
     },
     "output_type": "display_data"
    }
   ],
   "source": [
    "svm_ss_smote_cr = \"\"\"            precision    recall  f1-score   support\n",
    "\n",
    "           0       0.92      0.98      0.95      7303\n",
    "           1       0.66      0.33      0.44       932\n",
    "\n",
    "    accuracy                           0.91      8235\n",
    "   macro avg       0.79      0.66      0.70      8235\n",
    "weighted avg       0.89      0.91      0.89      8235\"\"\"\n",
    "\n",
    "plot_classification_report(svm_ss_smote_cr)"
   ]
  },
  {
   "cell_type": "code",
   "execution_count": 61,
   "metadata": {},
   "outputs": [
    {
     "data": {
      "text/plain": [
       "array([0.94824154, 0.44285714])"
      ]
     },
     "execution_count": 61,
     "metadata": {},
     "output_type": "execute_result"
    }
   ],
   "source": [
    "svm_ss_smote_f1 = f1_score(y_test, grid_predictions_ss_SMOTE, average=None)\n",
    "svm_ss_smote_f1"
   ]
  },
  {
   "cell_type": "markdown",
   "metadata": {},
   "source": [
    "* ### SVM RBF on Standard Scaled SMOTE data\n"
   ]
  },
  {
   "cell_type": "code",
   "execution_count": 34,
   "metadata": {},
   "outputs": [
    {
     "data": {
      "text/plain": [
       "Pipeline(steps=[('standardscaler', StandardScaler()),\n",
       "                ('svc', SVC(C=10, gamma=0.01))])"
      ]
     },
     "execution_count": 34,
     "metadata": {},
     "output_type": "execute_result"
    }
   ],
   "source": [
    "svm_rbf_ss_smote = make_pipeline(StandardScaler(), SVC(C=10, cache_size = 200, kernel = 'rbf', gamma = 0.01))\n",
    "svm_rbf_ss_smote.fit(X_SMOTE, y_SMOTE)"
   ]
  },
  {
   "cell_type": "code",
   "execution_count": 37,
   "metadata": {},
   "outputs": [],
   "source": [
    "y_pred_rbf_ss_SMOTE = svm_rbf_ss_smote.predict(X_test_std)"
   ]
  },
  {
   "cell_type": "code",
   "execution_count": 36,
   "metadata": {},
   "outputs": [
    {
     "name": "stdout",
     "output_type": "stream",
     "text": [
      "Accuracy: 90.53%\n",
      "Balanced Accuracy: 65.55%\n"
     ]
    }
   ],
   "source": [
    "svm_rbf_ss_smote_acc = round(metrics.accuracy_score(y_test, y_pred_rbf_ss_SMOTE)*100, 2)\n",
    "svm_rbf_ss_smote_bacc = round(metrics.balanced_accuracy_score(y_test, y_pred_rbf_ss_SMOTE)*100, 2)\n",
    "\n",
    "print(f\"Accuracy: {svm_rbf_ss_smote_acc}%\")\n",
    "print(f\"Balanced Accuracy: {svm_rbf_ss_smote_bacc}%\")"
   ]
  },
  {
   "cell_type": "code",
   "execution_count": 38,
   "metadata": {},
   "outputs": [
    {
     "name": "stdout",
     "output_type": "stream",
     "text": [
      "[[7303    0]\n",
      " [ 932    0]]\n"
     ]
    }
   ],
   "source": [
    "svm_rbf_ss_smote_cm = confusion_matrix(y_test, y_pred_rbf_ss_SMOTE)\n",
    "print(svm_rbf_ss_smote_cm)"
   ]
  },
  {
   "cell_type": "code",
   "execution_count": 39,
   "metadata": {},
   "outputs": [
    {
     "data": {
      "text/plain": [
       "(<Figure size 432x288 with 1 Axes>,\n",
       " <AxesSubplot:xlabel='predicted label', ylabel='true label'>)"
      ]
     },
     "execution_count": 39,
     "metadata": {},
     "output_type": "execute_result"
    },
    {
     "data": {
      "image/png": "[encoded data removed]",
      "text/plain": [
       "<Figure size 432x288 with 1 Axes>"
      ]
     },
     "metadata": {
      "needs_background": "light"
     },
     "output_type": "display_data"
    }
   ],
   "source": [
    "plot_confusion_matrix(svm_rbf_ss_smote_cm)"
   ]
  },
  {
   "cell_type": "code",
   "execution_count": 40,
   "metadata": {},
   "outputs": [
    {
     "name": "stdout",
     "output_type": "stream",
     "text": [
      "              precision    recall  f1-score   support\n",
      "\n",
      "           0       0.89      1.00      0.94      7303\n",
      "           1       0.00      0.00      0.00       932\n",
      "\n",
      "    accuracy                           0.89      8235\n",
      "   macro avg       0.44      0.50      0.47      8235\n",
      "weighted avg       0.79      0.89      0.83      8235\n",
      "\n"
     ]
    },
    {
     "name": "stderr",
     "output_type": "stream",
     "text": [
      "/home/prastogi/anaconda3/envs/my_env_py/lib/python3.6/site-packages/sklearn/metrics/_classification.py:1221: UndefinedMetricWarning: Precision and F-score are ill-defined and being set to 0.0 in labels with no predicted samples. Use `zero_division` parameter to control this behavior.\n",
      "  _warn_prf(average, modifier, msg_start, len(result))\n"
     ]
    }
   ],
   "source": [
    "svm_rbf_ss_smote_classification_report = classification_report(y_test, y_pred_rbf_ss_SMOTE)\n",
    "print(svm_rbf_ss_smote_classification_report)"
   ]
  },
  {
   "cell_type": "code",
   "execution_count": 41,
   "metadata": {},
   "outputs": [
    {
     "data": {
      "image/png": "[encoded data removed]",
      "text/plain": [
       "<Figure size 432x288 with 2 Axes>"
      ]
     },
     "metadata": {
      "needs_background": "light"
     },
     "output_type": "display_data"
    }
   ],
   "source": [
    "svm_rbf_ss_smote_cr = \"\"\"             precision    recall  f1-score   support\n",
    "\n",
    "           0       0.89      1.00      0.94      7303\n",
    "           1       0.00      0.00      0.00       932\n",
    "\n",
    "    accuracy                           0.89      8235\n",
    "   macro avg       0.44      0.50      0.47      8235\n",
    "weighted avg       0.79      0.89      0.83      8235\"\"\"\n",
    "\n",
    "plot_classification_report(svm_rbf_ss_smote_cr)"
   ]
  },
  {
   "cell_type": "code",
   "execution_count": 59,
   "metadata": {},
   "outputs": [
    {
     "data": {
      "text/plain": [
       "array([0.94001802, 0.        ])"
      ]
     },
     "execution_count": 59,
     "metadata": {},
     "output_type": "execute_result"
    }
   ],
   "source": [
    "svm_rbf_ss_smote_f1 = f1_score(y_test, y_pred_rbf_ss_SMOTE, average=None)\n",
    "svm_rbf_ss_smote_f1"
   ]
  },
  {
   "cell_type": "markdown",
   "metadata": {},
   "source": [
    "***"
   ]
  },
  {
   "cell_type": "markdown",
   "metadata": {},
   "source": [
    "## Final Results:"
   ]
  },
  {
   "cell_type": "code",
   "execution_count": 82,
   "metadata": {},
   "outputs": [
    {
     "data": {
      "text/html": [
       "<div>\n",
       "<style scoped>\n",
       "    .dataframe tbody tr th:only-of-type {\n",
       "        vertical-align: middle;\n",
       "    }\n",
       "\n",
       "    .dataframe tbody tr th {\n",
       "        vertical-align: top;\n",
       "    }\n",
       "\n",
       "    .dataframe thead th {\n",
       "        text-align: right;\n",
       "    }\n",
       "</style>\n",
       "<table border=\"1\" class=\"dataframe\">\n",
       "  <thead>\n",
       "    <tr style=\"text-align: right;\">\n",
       "      <th></th>\n",
       "      <th>Models</th>\n",
       "      <th>Accuracies</th>\n",
       "      <th>Balanced Accuracies</th>\n",
       "      <th>f1-Scores</th>\n",
       "    </tr>\n",
       "  </thead>\n",
       "  <tbody>\n",
       "    <tr>\n",
       "      <th>0</th>\n",
       "      <td>SVM Linear: Imbalanced Data</td>\n",
       "      <td>87.57</td>\n",
       "      <td>67.53</td>\n",
       "      <td>0.431111</td>\n",
       "    </tr>\n",
       "    <tr>\n",
       "      <th>1</th>\n",
       "      <td>SVM Linear: Imbalanced Scaled Data</td>\n",
       "      <td>11.32</td>\n",
       "      <td>50.00</td>\n",
       "      <td>0.203338</td>\n",
       "    </tr>\n",
       "    <tr>\n",
       "      <th>2</th>\n",
       "      <td>SVM RBF: Imbalanced Scaled Data</td>\n",
       "      <td>91.04</td>\n",
       "      <td>68.83</td>\n",
       "      <td>0.503365</td>\n",
       "    </tr>\n",
       "    <tr>\n",
       "      <th>3</th>\n",
       "      <td>SVM Linear: SMOTE Data</td>\n",
       "      <td>89.36</td>\n",
       "      <td>66.67</td>\n",
       "      <td>0.442748</td>\n",
       "    </tr>\n",
       "    <tr>\n",
       "      <th>4</th>\n",
       "      <td>SVM Linear: SMOTE Scaled Data</td>\n",
       "      <td>90.53</td>\n",
       "      <td>65.55</td>\n",
       "      <td>0.442857</td>\n",
       "    </tr>\n",
       "    <tr>\n",
       "      <th>5</th>\n",
       "      <td>SVM RBF: SMOTE Scaled Data</td>\n",
       "      <td>90.53</td>\n",
       "      <td>65.55</td>\n",
       "      <td>0.000000</td>\n",
       "    </tr>\n",
       "  </tbody>\n",
       "</table>\n",
       "</div>"
      ],
      "text/plain": [
       "                               Models  Accuracies  Balanced Accuracies  \\\n",
       "0         SVM Linear: Imbalanced Data       87.57                67.53   \n",
       "1  SVM Linear: Imbalanced Scaled Data       11.32                50.00   \n",
       "2     SVM RBF: Imbalanced Scaled Data       91.04                68.83   \n",
       "3              SVM Linear: SMOTE Data       89.36                66.67   \n",
       "4       SVM Linear: SMOTE Scaled Data       90.53                65.55   \n",
       "5          SVM RBF: SMOTE Scaled Data       90.53                65.55   \n",
       "\n",
       "   f1-Scores  \n",
       "0   0.431111  \n",
       "1   0.203338  \n",
       "2   0.503365  \n",
       "3   0.442748  \n",
       "4   0.442857  \n",
       "5   0.000000  "
      ]
     },
     "execution_count": 82,
     "metadata": {},
     "output_type": "execute_result"
    }
   ],
   "source": [
    "models = ['SVM Linear: Imbalanced Data', 'SVM Linear: Imbalanced Scaled Data', 'SVM RBF: Imbalanced Scaled Data', 'SVM Linear: SMOTE Data', 'SVM Linear: SMOTE Scaled Data', 'SVM RBF: SMOTE Scaled Data']\n",
    "accs = [svm_acc, svm_std_acc, svm_rbf_ss_acc, svm_smote_acc, svm_ss_smote_acc, svm_rbf_ss_smote_acc]\n",
    "balanced_accs = [svm_bacc, svm_std_bacc, svm_rbf_ss_bacc, svm_smote_bacc, svm_ss_smote_bacc, svm_rbf_ss_smote_bacc]\n",
    "f1_scores = [svm_f1[1], svm_std_f1[1], svm_rbf_ss_f1[1], svm_smote_f1[1], svm_ss_smote_f1[1], svm_rbf_ss_smote_f1[1]]\n",
    "\n",
    "modelsResult = {'Models': models, 'Accuracies': accs, 'Balanced Accuracies': balanced_accs, 'f1-Scores': f1_scores}\n",
    "\n",
    "modelsDf = pd.DataFrame(modelsResult)\n",
    "modelsDf"
   ]
  },
  {
   "cell_type": "markdown",
   "metadata": {},
   "source": [
    "### Models Performance Comparison"
   ]
  },
  {
   "cell_type": "code",
   "execution_count": 80,
   "metadata": {},
   "outputs": [
    {
     "data": {
      "text/plain": [
       "Text(0.5, 1.0, 'Accuracies vs Balanced Accuracies')"
      ]
     },
     "execution_count": 80,
     "metadata": {},
     "output_type": "execute_result"
    },
    {
     "data": {
      "image/png": "[encoded data removed]",
      "text/plain": [
       "<Figure size 432x288 with 1 Axes>"
      ]
     },
     "metadata": {
      "needs_background": "light"
     },
     "output_type": "display_data"
    }
   ],
   "source": [
    "x = modelsDf['Accuracies']\n",
    "y = modelsDf['Balanced Accuracies']\n",
    "classes = list(modelsDf['Models'])\n",
    "values = [0, 1, 2, 3, 4, 5]\n",
    "colours = ListedColormap(['red','brown','cyan', 'green', 'blue', 'orange'])\n",
    "scatter = plt.scatter(x, y,c=values, cmap=colours)\n",
    "plt.xlabel('Accuracies', labelpad=10)\n",
    "plt.ylabel('Balanced Accuracies', labelpad=10)\n",
    "plt.legend(handles=scatter.legend_elements()[0], labels=classes)\n",
    "plt.title('Accuracies vs Balanced Accuracies', fontweight='bold', size=14)"
   ]
  },
  {
   "cell_type": "code",
   "execution_count": 83,
   "metadata": {},
   "outputs": [
    {
     "data": {
      "text/plain": [
       "Text(0.5, 1.0, 'f1-Scores vs Balanced Accuracies')"
      ]
     },
     "execution_count": 83,
     "metadata": {},
     "output_type": "execute_result"
    },
    {
     "data": {
      "image/png": "[encoded data removed]",
      "text/plain": [
       "<Figure size 432x288 with 1 Axes>"
      ]
     },
     "metadata": {
      "needs_background": "light"
     },
     "output_type": "display_data"
    }
   ],
   "source": [
    "x = modelsDf['f1-Scores']\n",
    "y = modelsDf['Balanced Accuracies']\n",
    "classes = list(modelsDf['Models'])\n",
    "values = [0, 1, 2, 3, 4, 5]\n",
    "colours = ListedColormap(['red','brown','cyan', 'green', 'blue', 'orange'])\n",
    "scatter = plt.scatter(x, y,c=values, cmap=colours)\n",
    "plt.xlabel('f1-Scores', labelpad=10)\n",
    "plt.ylabel('Balanced Accuracies', labelpad=10)\n",
    "plt.legend(handles=scatter.legend_elements()[0], labels=classes)\n",
    "plt.title('f1-Scores vs Balanced Accuracies', fontweight='bold', size=14)"
   ]
  },
  {
   "cell_type": "markdown",
   "metadata": {},
   "source": [
    "***"
   ]
  },
  {
   "cell_type": "markdown",
   "metadata": {},
   "source": [
    "## References\n",
    "\n",
    "* https://www.datacamp.com/community/tutorials/svm-classification-scikit-learn-python\n",
    "* https://towardsdatascience.com/a-guide-to-svm-parameter-tuning-8bfe6b8a452c\n",
    "* https://stats.stackexchange.com/questions/65094/why-scaling-is-important-for-the-linear-svm-classification\n",
    "* https://towardsdatascience.com/effect-of-feature-standardization-on-linear-support-vector-machines-13213765b812"
   ]
  },
  {
   "cell_type": "code",
   "execution_count": null,
   "metadata": {},
   "outputs": [],
   "source": []
  }
 ],
 "metadata": {
  "kernelspec": {
   "display_name": "Python 3",
   "language": "python",
   "name": "python3"
  },
  "language_info": {
   "codemirror_mode": {
    "name": "ipython",
    "version": 3
   },
   "file_extension": ".py",
   "mimetype": "text/x-python",
   "name": "python",
   "nbconvert_exporter": "python",
   "pygments_lexer": "ipython3",
   "version": "3.8.5"
  }
 },
 "nbformat": 4,
 "nbformat_minor": 4
}
