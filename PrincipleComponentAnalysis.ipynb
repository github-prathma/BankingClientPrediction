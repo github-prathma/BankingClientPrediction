{
 "cells": [
  {
   "cell_type": "code",
   "execution_count": 1,
   "metadata": {},
   "outputs": [],
   "source": [
    "import pandas as pd\n",
    "import numpy as np\n",
    "import seaborn as sns\n",
    "import matplotlib.pyplot as plt\n",
    "from sklearn.linear_model import LogisticRegression\n",
    "from sklearn.model_selection import train_test_split, GridSearchCV, cross_val_score, cross_validate, ShuffleSplit, LeaveOneOut\n",
    "from sklearn.metrics import classification_report\n",
    "from sklearn.metrics import confusion_matrix\n",
    "from sklearn.metrics import roc_curve,roc_auc_score,balanced_accuracy_score\n",
    "from imblearn.over_sampling import RandomOverSampler, SMOTE\n",
    "from imblearn.under_sampling import RandomUnderSampler\n",
    "from sklearn import metrics\n",
    "from sklearn.metrics import plot_confusion_matrix\n",
    "from mlxtend.plotting import plot_confusion_matrix\n",
    "from sklearn.decomposition import PCA\n",
    "from sklearn.preprocessing import StandardScaler\n",
    "from sklearn.neighbors import KNeighborsClassifier\n",
    "from sklearn.pipeline import make_pipeline\n",
    "from matplotlib.colors import ListedColormap\n",
    "from sklearn.ensemble import RandomForestClassifier, GradientBoostingClassifier\n",
    "from sklearn.svm import SVC\n",
    "from sklearn import svm\n",
    "from sklearn.metrics import f1_score\n",
    "import pickle\n",
    "\n"
   ]
  },
  {
   "cell_type": "markdown",
   "metadata": {},
   "source": [
    "### Reading Data"
   ]
  },
  {
   "cell_type": "code",
   "execution_count": 2,
   "metadata": {},
   "outputs": [
    {
     "data": {
      "text/html": [
       "<div>\n",
       "<style scoped>\n",
       "    .dataframe tbody tr th:only-of-type {\n",
       "        vertical-align: middle;\n",
       "    }\n",
       "\n",
       "    .dataframe tbody tr th {\n",
       "        vertical-align: top;\n",
       "    }\n",
       "\n",
       "    .dataframe thead th {\n",
       "        text-align: right;\n",
       "    }\n",
       "</style>\n",
       "<table border=\"1\" class=\"dataframe\">\n",
       "  <thead>\n",
       "    <tr style=\"text-align: right;\">\n",
       "      <th></th>\n",
       "      <th>age</th>\n",
       "      <th>duration</th>\n",
       "      <th>campaign</th>\n",
       "      <th>pdays</th>\n",
       "      <th>previous</th>\n",
       "      <th>emp.var.rate</th>\n",
       "      <th>cons.price.idx</th>\n",
       "      <th>cons.conf.idx</th>\n",
       "      <th>euribor3m</th>\n",
       "      <th>nr.employed</th>\n",
       "      <th>...</th>\n",
       "      <th>month_jul</th>\n",
       "      <th>month_jun</th>\n",
       "      <th>month_mar</th>\n",
       "      <th>month_may</th>\n",
       "      <th>month_nov</th>\n",
       "      <th>month_oct</th>\n",
       "      <th>month_sep</th>\n",
       "      <th>marital_divorced</th>\n",
       "      <th>marital_married</th>\n",
       "      <th>marital_single</th>\n",
       "    </tr>\n",
       "  </thead>\n",
       "  <tbody>\n",
       "    <tr>\n",
       "      <th>0</th>\n",
       "      <td>5</td>\n",
       "      <td>261</td>\n",
       "      <td>1</td>\n",
       "      <td>3</td>\n",
       "      <td>0</td>\n",
       "      <td>1.1</td>\n",
       "      <td>93.994</td>\n",
       "      <td>-36.4</td>\n",
       "      <td>4.857</td>\n",
       "      <td>5191.0</td>\n",
       "      <td>...</td>\n",
       "      <td>0</td>\n",
       "      <td>0</td>\n",
       "      <td>0</td>\n",
       "      <td>1</td>\n",
       "      <td>0</td>\n",
       "      <td>0</td>\n",
       "      <td>0</td>\n",
       "      <td>0</td>\n",
       "      <td>1</td>\n",
       "      <td>0</td>\n",
       "    </tr>\n",
       "    <tr>\n",
       "      <th>1</th>\n",
       "      <td>5</td>\n",
       "      <td>149</td>\n",
       "      <td>1</td>\n",
       "      <td>3</td>\n",
       "      <td>0</td>\n",
       "      <td>1.1</td>\n",
       "      <td>93.994</td>\n",
       "      <td>-36.4</td>\n",
       "      <td>4.857</td>\n",
       "      <td>5191.0</td>\n",
       "      <td>...</td>\n",
       "      <td>0</td>\n",
       "      <td>0</td>\n",
       "      <td>0</td>\n",
       "      <td>1</td>\n",
       "      <td>0</td>\n",
       "      <td>0</td>\n",
       "      <td>0</td>\n",
       "      <td>0</td>\n",
       "      <td>1</td>\n",
       "      <td>0</td>\n",
       "    </tr>\n",
       "    <tr>\n",
       "      <th>2</th>\n",
       "      <td>3</td>\n",
       "      <td>226</td>\n",
       "      <td>1</td>\n",
       "      <td>3</td>\n",
       "      <td>0</td>\n",
       "      <td>1.1</td>\n",
       "      <td>93.994</td>\n",
       "      <td>-36.4</td>\n",
       "      <td>4.857</td>\n",
       "      <td>5191.0</td>\n",
       "      <td>...</td>\n",
       "      <td>0</td>\n",
       "      <td>0</td>\n",
       "      <td>0</td>\n",
       "      <td>1</td>\n",
       "      <td>0</td>\n",
       "      <td>0</td>\n",
       "      <td>0</td>\n",
       "      <td>0</td>\n",
       "      <td>1</td>\n",
       "      <td>0</td>\n",
       "    </tr>\n",
       "    <tr>\n",
       "      <th>3</th>\n",
       "      <td>3</td>\n",
       "      <td>151</td>\n",
       "      <td>1</td>\n",
       "      <td>3</td>\n",
       "      <td>0</td>\n",
       "      <td>1.1</td>\n",
       "      <td>93.994</td>\n",
       "      <td>-36.4</td>\n",
       "      <td>4.857</td>\n",
       "      <td>5191.0</td>\n",
       "      <td>...</td>\n",
       "      <td>0</td>\n",
       "      <td>0</td>\n",
       "      <td>0</td>\n",
       "      <td>1</td>\n",
       "      <td>0</td>\n",
       "      <td>0</td>\n",
       "      <td>0</td>\n",
       "      <td>0</td>\n",
       "      <td>1</td>\n",
       "      <td>0</td>\n",
       "    </tr>\n",
       "    <tr>\n",
       "      <th>4</th>\n",
       "      <td>5</td>\n",
       "      <td>307</td>\n",
       "      <td>1</td>\n",
       "      <td>3</td>\n",
       "      <td>0</td>\n",
       "      <td>1.1</td>\n",
       "      <td>93.994</td>\n",
       "      <td>-36.4</td>\n",
       "      <td>4.857</td>\n",
       "      <td>5191.0</td>\n",
       "      <td>...</td>\n",
       "      <td>0</td>\n",
       "      <td>0</td>\n",
       "      <td>0</td>\n",
       "      <td>1</td>\n",
       "      <td>0</td>\n",
       "      <td>0</td>\n",
       "      <td>0</td>\n",
       "      <td>0</td>\n",
       "      <td>1</td>\n",
       "      <td>0</td>\n",
       "    </tr>\n",
       "    <tr>\n",
       "      <th>...</th>\n",
       "      <td>...</td>\n",
       "      <td>...</td>\n",
       "      <td>...</td>\n",
       "      <td>...</td>\n",
       "      <td>...</td>\n",
       "      <td>...</td>\n",
       "      <td>...</td>\n",
       "      <td>...</td>\n",
       "      <td>...</td>\n",
       "      <td>...</td>\n",
       "      <td>...</td>\n",
       "      <td>...</td>\n",
       "      <td>...</td>\n",
       "      <td>...</td>\n",
       "      <td>...</td>\n",
       "      <td>...</td>\n",
       "      <td>...</td>\n",
       "      <td>...</td>\n",
       "      <td>...</td>\n",
       "      <td>...</td>\n",
       "      <td>...</td>\n",
       "    </tr>\n",
       "    <tr>\n",
       "      <th>41183</th>\n",
       "      <td>5</td>\n",
       "      <td>334</td>\n",
       "      <td>1</td>\n",
       "      <td>3</td>\n",
       "      <td>0</td>\n",
       "      <td>-1.1</td>\n",
       "      <td>94.767</td>\n",
       "      <td>-50.8</td>\n",
       "      <td>1.028</td>\n",
       "      <td>4963.6</td>\n",
       "      <td>...</td>\n",
       "      <td>0</td>\n",
       "      <td>0</td>\n",
       "      <td>0</td>\n",
       "      <td>0</td>\n",
       "      <td>1</td>\n",
       "      <td>0</td>\n",
       "      <td>0</td>\n",
       "      <td>0</td>\n",
       "      <td>1</td>\n",
       "      <td>0</td>\n",
       "    </tr>\n",
       "    <tr>\n",
       "      <th>41184</th>\n",
       "      <td>4</td>\n",
       "      <td>383</td>\n",
       "      <td>1</td>\n",
       "      <td>3</td>\n",
       "      <td>0</td>\n",
       "      <td>-1.1</td>\n",
       "      <td>94.767</td>\n",
       "      <td>-50.8</td>\n",
       "      <td>1.028</td>\n",
       "      <td>4963.6</td>\n",
       "      <td>...</td>\n",
       "      <td>0</td>\n",
       "      <td>0</td>\n",
       "      <td>0</td>\n",
       "      <td>0</td>\n",
       "      <td>1</td>\n",
       "      <td>0</td>\n",
       "      <td>0</td>\n",
       "      <td>0</td>\n",
       "      <td>1</td>\n",
       "      <td>0</td>\n",
       "    </tr>\n",
       "    <tr>\n",
       "      <th>41185</th>\n",
       "      <td>5</td>\n",
       "      <td>189</td>\n",
       "      <td>2</td>\n",
       "      <td>3</td>\n",
       "      <td>0</td>\n",
       "      <td>-1.1</td>\n",
       "      <td>94.767</td>\n",
       "      <td>-50.8</td>\n",
       "      <td>1.028</td>\n",
       "      <td>4963.6</td>\n",
       "      <td>...</td>\n",
       "      <td>0</td>\n",
       "      <td>0</td>\n",
       "      <td>0</td>\n",
       "      <td>0</td>\n",
       "      <td>1</td>\n",
       "      <td>0</td>\n",
       "      <td>0</td>\n",
       "      <td>0</td>\n",
       "      <td>1</td>\n",
       "      <td>0</td>\n",
       "    </tr>\n",
       "    <tr>\n",
       "      <th>41186</th>\n",
       "      <td>4</td>\n",
       "      <td>442</td>\n",
       "      <td>1</td>\n",
       "      <td>3</td>\n",
       "      <td>0</td>\n",
       "      <td>-1.1</td>\n",
       "      <td>94.767</td>\n",
       "      <td>-50.8</td>\n",
       "      <td>1.028</td>\n",
       "      <td>4963.6</td>\n",
       "      <td>...</td>\n",
       "      <td>0</td>\n",
       "      <td>0</td>\n",
       "      <td>0</td>\n",
       "      <td>0</td>\n",
       "      <td>1</td>\n",
       "      <td>0</td>\n",
       "      <td>0</td>\n",
       "      <td>0</td>\n",
       "      <td>1</td>\n",
       "      <td>0</td>\n",
       "    </tr>\n",
       "    <tr>\n",
       "      <th>41187</th>\n",
       "      <td>5</td>\n",
       "      <td>239</td>\n",
       "      <td>3</td>\n",
       "      <td>3</td>\n",
       "      <td>1</td>\n",
       "      <td>-1.1</td>\n",
       "      <td>94.767</td>\n",
       "      <td>-50.8</td>\n",
       "      <td>1.028</td>\n",
       "      <td>4963.6</td>\n",
       "      <td>...</td>\n",
       "      <td>0</td>\n",
       "      <td>0</td>\n",
       "      <td>0</td>\n",
       "      <td>0</td>\n",
       "      <td>1</td>\n",
       "      <td>0</td>\n",
       "      <td>0</td>\n",
       "      <td>0</td>\n",
       "      <td>1</td>\n",
       "      <td>0</td>\n",
       "    </tr>\n",
       "  </tbody>\n",
       "</table>\n",
       "<p>41173 rows × 58 columns</p>\n",
       "</div>"
      ],
      "text/plain": [
       "       age  duration  campaign  pdays  previous  emp.var.rate  cons.price.idx  \\\n",
       "0        5       261         1      3         0           1.1          93.994   \n",
       "1        5       149         1      3         0           1.1          93.994   \n",
       "2        3       226         1      3         0           1.1          93.994   \n",
       "3        3       151         1      3         0           1.1          93.994   \n",
       "4        5       307         1      3         0           1.1          93.994   \n",
       "...    ...       ...       ...    ...       ...           ...             ...   \n",
       "41183    5       334         1      3         0          -1.1          94.767   \n",
       "41184    4       383         1      3         0          -1.1          94.767   \n",
       "41185    5       189         2      3         0          -1.1          94.767   \n",
       "41186    4       442         1      3         0          -1.1          94.767   \n",
       "41187    5       239         3      3         1          -1.1          94.767   \n",
       "\n",
       "       cons.conf.idx  euribor3m  nr.employed  ... month_jul  month_jun  \\\n",
       "0              -36.4      4.857       5191.0  ...         0          0   \n",
       "1              -36.4      4.857       5191.0  ...         0          0   \n",
       "2              -36.4      4.857       5191.0  ...         0          0   \n",
       "3              -36.4      4.857       5191.0  ...         0          0   \n",
       "4              -36.4      4.857       5191.0  ...         0          0   \n",
       "...              ...        ...          ...  ...       ...        ...   \n",
       "41183          -50.8      1.028       4963.6  ...         0          0   \n",
       "41184          -50.8      1.028       4963.6  ...         0          0   \n",
       "41185          -50.8      1.028       4963.6  ...         0          0   \n",
       "41186          -50.8      1.028       4963.6  ...         0          0   \n",
       "41187          -50.8      1.028       4963.6  ...         0          0   \n",
       "\n",
       "       month_mar  month_may  month_nov  month_oct  month_sep  \\\n",
       "0              0          1          0          0          0   \n",
       "1              0          1          0          0          0   \n",
       "2              0          1          0          0          0   \n",
       "3              0          1          0          0          0   \n",
       "4              0          1          0          0          0   \n",
       "...          ...        ...        ...        ...        ...   \n",
       "41183          0          0          1          0          0   \n",
       "41184          0          0          1          0          0   \n",
       "41185          0          0          1          0          0   \n",
       "41186          0          0          1          0          0   \n",
       "41187          0          0          1          0          0   \n",
       "\n",
       "       marital_divorced  marital_married  marital_single  \n",
       "0                     0                1               0  \n",
       "1                     0                1               0  \n",
       "2                     0                1               0  \n",
       "3                     0                1               0  \n",
       "4                     0                1               0  \n",
       "...                 ...              ...             ...  \n",
       "41183                 0                1               0  \n",
       "41184                 0                1               0  \n",
       "41185                 0                1               0  \n",
       "41186                 0                1               0  \n",
       "41187                 0                1               0  \n",
       "\n",
       "[41173 rows x 58 columns]"
      ]
     },
     "execution_count": 2,
     "metadata": {},
     "output_type": "execute_result"
    }
   ],
   "source": [
    "df = pd.read_csv('processedData.csv', index_col=[0])\n",
    "df"
   ]
  },
  {
   "cell_type": "code",
   "execution_count": 3,
   "metadata": {},
   "outputs": [],
   "source": [
    "def converty(x):\n",
    "    if x=='yes':\n",
    "        return 1\n",
    "    return 0\n",
    "\n",
    "y = df['y']\n",
    "y = y.apply(converty)\n",
    "X = df.drop(columns=['y'])"
   ]
  },
  {
   "cell_type": "markdown",
   "metadata": {},
   "source": [
    "### Splitting data into test and train"
   ]
  },
  {
   "cell_type": "code",
   "execution_count": 4,
   "metadata": {},
   "outputs": [],
   "source": [
    "X_train, X_test, y_train, y_test = train_test_split(X, y, test_size = 0.2, random_state = 17)"
   ]
  },
  {
   "cell_type": "markdown",
   "metadata": {},
   "source": [
    "### SMOTE Oversampled data"
   ]
  },
  {
   "cell_type": "code",
   "execution_count": 5,
   "metadata": {},
   "outputs": [],
   "source": [
    "# Create an oversampled training data\n",
    "smote = SMOTE(random_state = 17)\n",
    "X_SMOTE, y_SMOTE = smote.fit_resample(X_train, y_train)"
   ]
  },
  {
   "cell_type": "markdown",
   "metadata": {},
   "source": [
    "***"
   ]
  },
  {
   "cell_type": "markdown",
   "metadata": {},
   "source": [
    "### Classification Report Plot function"
   ]
  },
  {
   "cell_type": "code",
   "execution_count": 6,
   "metadata": {},
   "outputs": [],
   "source": [
    "def plot_classification_report(cr, title='Classification report ', with_avg_total=False, cmap=plt.cm.summer):\n",
    "    title = title or 'Classification report'\n",
    "    lines = cr.split('\\n')\n",
    "    classes = []\n",
    "    matrix = []\n",
    "\n",
    "    for line in lines[2:(len(lines)-4)]:\n",
    "        s = line.split()\n",
    "        classes.append(s[0])\n",
    "        value = [float(x) for x in s[1: len(s) - 1]]\n",
    "        matrix.append(value)\n",
    "\n",
    "    fig, ax = plt.subplots(1)\n",
    "\n",
    "    for column in range(len(matrix)+1):\n",
    "        for row in range(len(classes)):\n",
    "            txt = matrix[row][column]\n",
    "            ax.text(column,row,matrix[row][column],va='center',ha='center')\n",
    "\n",
    "    fig = plt.imshow(matrix, interpolation='nearest', cmap=cmap)\n",
    "    plt.title(title)\n",
    "    plt.colorbar()\n",
    "    x_tick_marks = np.arange(len(classes)+1)\n",
    "    y_tick_marks = np.arange(len(classes))\n",
    "    plt.xticks(x_tick_marks, ['precision', 'recall', 'f1-score'], rotation=45)\n",
    "    plt.yticks(y_tick_marks, classes)\n",
    "    plt.ylabel('Classes')\n",
    "    plt.xlabel('Measures')\n",
    "    plt.show()"
   ]
  },
  {
   "cell_type": "markdown",
   "metadata": {},
   "source": [
    "### ROC Curve plot function"
   ]
  },
  {
   "cell_type": "code",
   "execution_count": 7,
   "metadata": {},
   "outputs": [],
   "source": [
    "def ROC_function(model,X_test,y_test):\n",
    "    noskill_probs = [0 for _ in range(len(y_test))]\n",
    "\n",
    "    # predict probabilities\n",
    "    prob = model.predict_proba(X_test)\n",
    "    # keep probabilities for the positive outcome only\n",
    "    prob = prob[:, 1]\n",
    "    # calculate scores\n",
    "    noskill_auc = roc_auc_score(y_test, noskill_probs)\n",
    "    auc = roc_auc_score(y_test, prob)\n",
    "    # summarize scores\n",
    "    print('No Skill: ROC AUC=%.3f' % (noskill_auc))\n",
    "    print('RF: ROC AUC=%.3f' % (auc))\n",
    "    # calculate roc curves\n",
    "    noskill_fpr, noskill_tpr, _ = roc_curve(y_test, noskill_probs)\n",
    "    fpr, tpr, _ = roc_curve(y_test, prob)\n",
    "    # plot the roc curve for the model\n",
    "    plt.figure(figsize=(16,8))\n",
    "    plt.plot(noskill_fpr, noskill_tpr, linestyle='--', label='No Skill')\n",
    "    plt.plot(fpr, tpr, marker='.', label='RF')\n",
    "    # axis labels\n",
    "    plt.xlabel('False Positive Rate')\n",
    "    plt.ylabel('True Positive Rate')\n",
    "    # show the legend\n",
    "    plt.legend()\n",
    "    # show the plot\n",
    "    plt.show()"
   ]
  },
  {
   "cell_type": "markdown",
   "metadata": {},
   "source": [
    "***"
   ]
  },
  {
   "cell_type": "markdown",
   "metadata": {},
   "source": [
    "### PCA (projects data on lower dimension)"
   ]
  },
  {
   "cell_type": "code",
   "execution_count": 8,
   "metadata": {},
   "outputs": [],
   "source": [
    "pca = PCA(n_components=21)\n",
    "X_pca_train = pca.fit_transform(X_train)\n",
    "X_pca_test = pca.transform(X_test)"
   ]
  },
  {
   "cell_type": "code",
   "execution_count": 9,
   "metadata": {},
   "outputs": [
    {
     "data": {
      "text/plain": [
       "array([[-1.79284440e+02, -5.88994120e+01,  4.05664140e+00, ...,\n",
       "         1.87862759e-01, -4.56456786e-01, -2.04686258e-01],\n",
       "       [-2.39710350e+02,  7.09980011e+01, -6.21989223e+00, ...,\n",
       "        -1.25580161e-01, -3.21079480e-01,  7.52160181e-01],\n",
       "       [-1.67285395e+02, -5.90451730e+01,  4.07816785e+00, ...,\n",
       "         9.92475715e-02, -5.98152685e-01, -1.41744335e-01],\n",
       "       ...,\n",
       "       [-5.07228690e+01,  6.87076198e+01, -5.25330265e+00, ...,\n",
       "        -2.58940232e-01,  1.97803247e-01, -3.67575464e-01],\n",
       "       [-1.89712611e+02,  7.03924404e+01, -5.25563609e+00, ...,\n",
       "         8.50168076e-01,  3.21431737e-01, -3.19691324e-01],\n",
       "       [-1.87284014e+02, -5.87764940e+01, -1.71414743e+00, ...,\n",
       "        -5.46495797e-01, -1.89518271e-01, -2.79600695e-01]])"
      ]
     },
     "execution_count": 9,
     "metadata": {},
     "output_type": "execute_result"
    }
   ],
   "source": [
    "X_pca_train"
   ]
  },
  {
   "cell_type": "code",
   "execution_count": 10,
   "metadata": {},
   "outputs": [
    {
     "data": {
      "text/plain": [
       "array([[ 1.15404127e+00, -2.39969258e+01,  4.06677306e+00, ...,\n",
       "        -2.89138010e-01, -1.42437920e-01,  1.93193406e-01],\n",
       "       [-2.14282616e+02, -5.84772025e+01,  3.98781814e+00, ...,\n",
       "         9.51989309e-01, -4.83264409e-01, -2.24840207e-02],\n",
       "       [-1.72283380e+02, -5.89345603e+01, -2.62910831e+00, ...,\n",
       "         1.24594094e-02, -2.37751545e-01,  1.10250674e-01],\n",
       "       ...,\n",
       "       [-2.36279689e+02, -5.81731645e+01, -1.67229806e+00, ...,\n",
       "        -1.61454827e-01, -6.11158577e-02,  3.31939473e-01],\n",
       "       [ 1.09255096e+02,  1.48264272e+02,  1.13113952e+01, ...,\n",
       "        -2.53627885e-01,  2.61579523e-01,  6.80888137e-01],\n",
       "       [ 1.34692739e+02, -6.26869918e+01, -1.62400815e+00, ...,\n",
       "         6.91884717e-01, -3.42612057e-01, -1.99474889e-01]])"
      ]
     },
     "execution_count": 10,
     "metadata": {},
     "output_type": "execute_result"
    }
   ],
   "source": [
    "X_pca_test"
   ]
  },
  {
   "cell_type": "markdown",
   "metadata": {},
   "source": [
    "### PCA on SMOTE Oversampled Data"
   ]
  },
  {
   "cell_type": "code",
   "execution_count": 11,
   "metadata": {},
   "outputs": [],
   "source": [
    "pca = PCA(n_components=21)\n",
    "X_smote_pca_train = pca.fit_transform(X_SMOTE)\n",
    "X_smote_pca_test = pca.transform(X_test)"
   ]
  },
  {
   "cell_type": "markdown",
   "metadata": {},
   "source": [
    "***"
   ]
  },
  {
   "cell_type": "markdown",
   "metadata": {},
   "source": [
    "## Logistic Regression"
   ]
  },
  {
   "cell_type": "markdown",
   "metadata": {},
   "source": [
    "* ### Logistic Regression on PCA data"
   ]
  },
  {
   "cell_type": "code",
   "execution_count": 12,
   "metadata": {},
   "outputs": [
    {
     "data": {
      "text/plain": [
       "LogisticRegression(max_iter=500)"
      ]
     },
     "execution_count": 12,
     "metadata": {},
     "output_type": "execute_result"
    }
   ],
   "source": [
    "lr_model = LogisticRegression(solver='lbfgs', max_iter=500)\n",
    "lr_model.fit(X_pca_train, y_train)"
   ]
  },
  {
   "cell_type": "code",
   "execution_count": 13,
   "metadata": {},
   "outputs": [],
   "source": [
    "y_pred = lr_model.predict(X_pca_test)"
   ]
  },
  {
   "cell_type": "code",
   "execution_count": 14,
   "metadata": {},
   "outputs": [
    {
     "name": "stdout",
     "output_type": "stream",
     "text": [
      "Accuracy: 90.22%\n",
      "Balanced Accuracy: 66.64%\n"
     ]
    }
   ],
   "source": [
    "lr_acc = round(metrics.accuracy_score(y_test, y_pred)*100, 2)\n",
    "lr_bacc = round(metrics.balanced_accuracy_score(y_test, y_pred)*100, 2)\n",
    "\n",
    "print(f\"Accuracy: {lr_acc}%\")\n",
    "print(f\"Balanced Accuracy: {lr_bacc}%\")"
   ]
  },
  {
   "cell_type": "code",
   "execution_count": 15,
   "metadata": {},
   "outputs": [
    {
     "name": "stdout",
     "output_type": "stream",
     "text": [
      "              precision    recall  f1-score   support\n",
      "\n",
      "           0       0.92      0.97      0.95      7303\n",
      "           1       0.62      0.36      0.46       932\n",
      "\n",
      "    accuracy                           0.90      8235\n",
      "   macro avg       0.77      0.67      0.70      8235\n",
      "weighted avg       0.89      0.90      0.89      8235\n",
      "\n"
     ]
    }
   ],
   "source": [
    "lr_classification_report = classification_report(y_test, y_pred)\n",
    "print(lr_classification_report)"
   ]
  },
  {
   "cell_type": "code",
   "execution_count": 16,
   "metadata": {},
   "outputs": [
    {
     "name": "stdout",
     "output_type": "stream",
     "text": [
      "[[7093  210]\n",
      " [ 595  337]]\n"
     ]
    }
   ],
   "source": [
    "lr_pca_cm = confusion_matrix(y_test, y_pred)\n",
    "print(lr_pca_cm)"
   ]
  },
  {
   "cell_type": "code",
   "execution_count": 17,
   "metadata": {},
   "outputs": [
    {
     "data": {
      "text/plain": [
       "(<Figure size 432x288 with 1 Axes>,\n",
       " <AxesSubplot:xlabel='predicted label', ylabel='true label'>)"
      ]
     },
     "execution_count": 17,
     "metadata": {},
     "output_type": "execute_result"
    },
    {
     "data": {
      "image/png": "[encoded data removed]",
      "text/plain": [
       "<Figure size 432x288 with 1 Axes>"
      ]
     },
     "metadata": {
      "needs_background": "light"
     },
     "output_type": "display_data"
    }
   ],
   "source": [
    "plot_confusion_matrix(lr_pca_cm)"
   ]
  },
  {
   "cell_type": "code",
   "execution_count": 21,
   "metadata": {},
   "outputs": [
    {
     "data": {
      "image/png": "[encoded data removed]",
      "text/plain": [
       "<Figure size 432x288 with 2 Axes>"
      ]
     },
     "metadata": {
      "needs_background": "light"
     },
     "output_type": "display_data"
    }
   ],
   "source": [
    "lr_pca_cr = \"\"\" precision    recall  f1-score   support\n",
    "\n",
    "           0       0.92      0.97      0.95      7303\n",
    "           1       0.61      0.36      0.46       932\n",
    "\n",
    "    accuracy                           0.90      8235\n",
    "   macro avg       0.77      0.67      0.70      8235\n",
    "weighted avg       0.89      0.90      0.89      8235\"\"\"\n",
    "\n",
    "plot_classification_report(lr_pca_cr)"
   ]
  },
  {
   "cell_type": "code",
   "execution_count": 18,
   "metadata": {},
   "outputs": [
    {
     "data": {
      "text/plain": [
       "array([0.94630111, 0.45571332])"
      ]
     },
     "execution_count": 18,
     "metadata": {},
     "output_type": "execute_result"
    }
   ],
   "source": [
    "lr_pca_f1 = f1_score(y_test, y_pred, average=None)\n",
    "lr_pca_f1"
   ]
  },
  {
   "cell_type": "markdown",
   "metadata": {},
   "source": [
    "#### ROC Curve:"
   ]
  },
  {
   "cell_type": "code",
   "execution_count": 19,
   "metadata": {},
   "outputs": [
    {
     "name": "stdout",
     "output_type": "stream",
     "text": [
      "No Skill: ROC AUC=0.500\n",
      "RF: ROC AUC=0.927\n"
     ]
    },
    {
     "data": {
      "image/png": "[encoded data removed]",
      "text/plain": [
       "<Figure size 1152x576 with 1 Axes>"
      ]
     },
     "metadata": {
      "needs_background": "light"
     },
     "output_type": "display_data"
    }
   ],
   "source": [
    "ROC_function(lr_model, X_pca_test, y_test)"
   ]
  },
  {
   "cell_type": "markdown",
   "metadata": {},
   "source": [
    "* ### Logistic Regression on SMOTE PCA Data"
   ]
  },
  {
   "cell_type": "code",
   "execution_count": 20,
   "metadata": {},
   "outputs": [
    {
     "name": "stderr",
     "output_type": "stream",
     "text": [
      "/home/prastogi/anaconda3/envs/my_env_py/lib/python3.6/site-packages/sklearn/linear_model/_logistic.py:764: ConvergenceWarning: lbfgs failed to converge (status=1):\n",
      "STOP: TOTAL NO. of ITERATIONS REACHED LIMIT.\n",
      "\n",
      "Increase the number of iterations (max_iter) or scale the data as shown in:\n",
      "    https://scikit-learn.org/stable/modules/preprocessing.html\n",
      "Please also refer to the documentation for alternative solver options:\n",
      "    https://scikit-learn.org/stable/modules/linear_model.html#logistic-regression\n",
      "  extra_warning_msg=_LOGISTIC_SOLVER_CONVERGENCE_MSG)\n"
     ]
    },
    {
     "data": {
      "text/plain": [
       "LogisticRegression(max_iter=500)"
      ]
     },
     "execution_count": 20,
     "metadata": {},
     "output_type": "execute_result"
    }
   ],
   "source": [
    "lrsmote_model = LogisticRegression(solver='lbfgs', max_iter=500)\n",
    "lrsmote_model.fit(X_smote_pca_train, y_SMOTE)"
   ]
  },
  {
   "cell_type": "code",
   "execution_count": 21,
   "metadata": {},
   "outputs": [],
   "source": [
    "y_pred_SMOTE = lrsmote_model.predict(X_smote_pca_test)"
   ]
  },
  {
   "cell_type": "code",
   "execution_count": 22,
   "metadata": {},
   "outputs": [
    {
     "name": "stdout",
     "output_type": "stream",
     "text": [
      "Accuracy: 88.72%\n",
      "Balanced Accuracy: 75.2%\n"
     ]
    }
   ],
   "source": [
    "lrsmote_acc = round(metrics.accuracy_score(y_test, y_pred_SMOTE)*100, 2)\n",
    "lrsmote_bacc = round(metrics.balanced_accuracy_score(y_test, y_pred_SMOTE)*100, 2)\n",
    "\n",
    "print(f\"Accuracy: {lrsmote_acc}%\")\n",
    "print(f\"Balanced Accuracy: {lrsmote_bacc}%\")"
   ]
  },
  {
   "cell_type": "code",
   "execution_count": 23,
   "metadata": {},
   "outputs": [
    {
     "name": "stdout",
     "output_type": "stream",
     "text": [
      "              precision    recall  f1-score   support\n",
      "\n",
      "           0       0.94      0.93      0.94      7303\n",
      "           1       0.50      0.58      0.54       932\n",
      "\n",
      "    accuracy                           0.89      8235\n",
      "   macro avg       0.72      0.75      0.74      8235\n",
      "weighted avg       0.89      0.89      0.89      8235\n",
      "\n"
     ]
    }
   ],
   "source": [
    "lrsmote_classification_report = classification_report(y_test, y_pred_SMOTE)\n",
    "print(lrsmote_classification_report)"
   ]
  },
  {
   "cell_type": "code",
   "execution_count": 24,
   "metadata": {},
   "outputs": [
    {
     "name": "stdout",
     "output_type": "stream",
     "text": [
      "[[6768  535]\n",
      " [ 394  538]]\n"
     ]
    }
   ],
   "source": [
    "lr_pca_smote_cm = confusion_matrix(y_test, y_pred_SMOTE)\n",
    "print(lr_pca_smote_cm)"
   ]
  },
  {
   "cell_type": "code",
   "execution_count": 25,
   "metadata": {},
   "outputs": [
    {
     "data": {
      "text/plain": [
       "(<Figure size 432x288 with 1 Axes>,\n",
       " <AxesSubplot:xlabel='predicted label', ylabel='true label'>)"
      ]
     },
     "execution_count": 25,
     "metadata": {},
     "output_type": "execute_result"
    },
    {
     "data": {
      "image/png": "[encoded data removed]",
      "text/plain": [
       "<Figure size 432x288 with 1 Axes>"
      ]
     },
     "metadata": {
      "needs_background": "light"
     },
     "output_type": "display_data"
    }
   ],
   "source": [
    "plot_confusion_matrix(lr_pca_smote_cm)"
   ]
  },
  {
   "cell_type": "code",
   "execution_count": 28,
   "metadata": {},
   "outputs": [
    {
     "data": {
      "image/png": "[encoded data removed]",
      "text/plain": [
       "<Figure size 432x288 with 2 Axes>"
      ]
     },
     "metadata": {
      "needs_background": "light"
     },
     "output_type": "display_data"
    }
   ],
   "source": [
    "lr_pca_smote_cr = \"\"\" precision    recall  f1-score   support\n",
    "\n",
    "           0       0.94      0.93      0.94      7303\n",
    "           1       0.50      0.58      0.54       932\n",
    "\n",
    "    accuracy                           0.89      8235\n",
    "   macro avg       0.72      0.75      0.74      8235\n",
    "weighted avg       0.89      0.89      0.89      8235\"\"\"\n",
    "\n",
    "plot_classification_report(lr_pca_smote_cr)"
   ]
  },
  {
   "cell_type": "code",
   "execution_count": 26,
   "metadata": {},
   "outputs": [
    {
     "data": {
      "text/plain": [
       "array([0.93577601, 0.53665835])"
      ]
     },
     "execution_count": 26,
     "metadata": {},
     "output_type": "execute_result"
    }
   ],
   "source": [
    "lr_pca_smote_f1 = f1_score(y_test, y_pred_SMOTE, average=None)\n",
    "lr_pca_smote_f1"
   ]
  },
  {
   "cell_type": "markdown",
   "metadata": {},
   "source": [
    "#### ROC Curve:"
   ]
  },
  {
   "cell_type": "code",
   "execution_count": 29,
   "metadata": {},
   "outputs": [
    {
     "name": "stdout",
     "output_type": "stream",
     "text": [
      "No Skill: ROC AUC=0.500\n",
      "RF: ROC AUC=0.901\n"
     ]
    },
    {
     "data": {
      "image/png": "[encoded data removed]",
      "text/plain": [
       "<Figure size 1152x576 with 1 Axes>"
      ]
     },
     "metadata": {
      "needs_background": "light"
     },
     "output_type": "display_data"
    }
   ],
   "source": [
    "ROC_function(lrsmote_model, X_smote_pca_test, y_test)"
   ]
  },
  {
   "cell_type": "markdown",
   "metadata": {},
   "source": [
    "***"
   ]
  },
  {
   "cell_type": "markdown",
   "metadata": {},
   "source": [
    "## K-Nearest Neighbors"
   ]
  },
  {
   "cell_type": "markdown",
   "metadata": {},
   "source": [
    "* ### KNN on PCA Imbalanced Data"
   ]
  },
  {
   "cell_type": "code",
   "execution_count": 30,
   "metadata": {},
   "outputs": [
    {
     "data": {
      "text/plain": [
       "0.8942319368548877"
      ]
     },
     "execution_count": 30,
     "metadata": {},
     "output_type": "execute_result"
    }
   ],
   "source": [
    "knn_pca = make_pipeline(StandardScaler(), KNeighborsClassifier())\n",
    "knn_pca.fit(X_pca_train, y_train)\n",
    "knn_pca.score(X_pca_test, y_test)"
   ]
  },
  {
   "cell_type": "code",
   "execution_count": 31,
   "metadata": {},
   "outputs": [],
   "source": [
    "knn_pca_pred = knn_pca.predict(X_pca_test)"
   ]
  },
  {
   "cell_type": "code",
   "execution_count": 32,
   "metadata": {},
   "outputs": [
    {
     "name": "stdout",
     "output_type": "stream",
     "text": [
      "Accuracy: 89.42%\n",
      "Balanced Accuracy: 64.36%\n"
     ]
    }
   ],
   "source": [
    "knn_pca_acc = round(metrics.accuracy_score(y_test, knn_pca_pred)*100, 2)\n",
    "knn_pca_bacc = round(metrics.balanced_accuracy_score(y_test, knn_pca_pred)*100, 2)\n",
    "\n",
    "print(f\"Accuracy: {knn_pca_acc}%\")\n",
    "print(f\"Balanced Accuracy: {knn_pca_bacc}%\")"
   ]
  },
  {
   "cell_type": "code",
   "execution_count": 33,
   "metadata": {},
   "outputs": [
    {
     "name": "stdout",
     "output_type": "stream",
     "text": [
      "              precision    recall  f1-score   support\n",
      "\n",
      "           0       0.92      0.97      0.94      7303\n",
      "           1       0.56      0.32      0.41       932\n",
      "\n",
      "    accuracy                           0.89      8235\n",
      "   macro avg       0.74      0.64      0.67      8235\n",
      "weighted avg       0.88      0.89      0.88      8235\n",
      "\n"
     ]
    }
   ],
   "source": [
    "knn_pca_classification_report = classification_report(y_test, knn_pca_pred)\n",
    "print(knn_pca_classification_report)"
   ]
  },
  {
   "cell_type": "code",
   "execution_count": 34,
   "metadata": {},
   "outputs": [
    {
     "name": "stdout",
     "output_type": "stream",
     "text": [
      "[[7066  237]\n",
      " [ 634  298]]\n"
     ]
    }
   ],
   "source": [
    "knn_pca_cm = confusion_matrix(y_test, knn_pca_pred)\n",
    "print(knn_pca_cm)"
   ]
  },
  {
   "cell_type": "code",
   "execution_count": 35,
   "metadata": {},
   "outputs": [
    {
     "data": {
      "text/plain": [
       "(<Figure size 432x288 with 1 Axes>,\n",
       " <AxesSubplot:xlabel='predicted label', ylabel='true label'>)"
      ]
     },
     "execution_count": 35,
     "metadata": {},
     "output_type": "execute_result"
    },
    {
     "data": {
      "image/png": "[encoded data removed]",
      "text/plain": [
       "<Figure size 432x288 with 1 Axes>"
      ]
     },
     "metadata": {
      "needs_background": "light"
     },
     "output_type": "display_data"
    }
   ],
   "source": [
    "plot_confusion_matrix(knn_pca_cm)"
   ]
  },
  {
   "cell_type": "code",
   "execution_count": 39,
   "metadata": {},
   "outputs": [
    {
     "data": {
      "image/png": "[encoded data removed]",
      "text/plain": [
       "<Figure size 432x288 with 2 Axes>"
      ]
     },
     "metadata": {
      "needs_background": "light"
     },
     "output_type": "display_data"
    }
   ],
   "source": [
    "knn_pca_cr = \"\"\" precision    recall  f1-score   support\n",
    "\n",
    "           0       0.92      0.97      0.94      7303\n",
    "           1       0.56      0.32      0.41       932\n",
    "\n",
    "    accuracy                           0.89      8235\n",
    "   macro avg       0.74      0.64      0.67      8235\n",
    "weighted avg       0.88      0.89      0.88      8235\"\"\"\n",
    "\n",
    "plot_classification_report(knn_pca_cr)"
   ]
  },
  {
   "cell_type": "code",
   "execution_count": 36,
   "metadata": {},
   "outputs": [
    {
     "data": {
      "text/plain": [
       "array([0.94194494, 0.4062713 ])"
      ]
     },
     "execution_count": 36,
     "metadata": {},
     "output_type": "execute_result"
    }
   ],
   "source": [
    "knn_pca_f1 = f1_score(y_test, knn_pca_pred, average=None)\n",
    "knn_pca_f1"
   ]
  },
  {
   "cell_type": "markdown",
   "metadata": {},
   "source": [
    "#### ROC Curve:"
   ]
  },
  {
   "cell_type": "code",
   "execution_count": 37,
   "metadata": {},
   "outputs": [
    {
     "name": "stdout",
     "output_type": "stream",
     "text": [
      "No Skill: ROC AUC=0.500\n",
      "RF: ROC AUC=0.836\n"
     ]
    },
    {
     "data": {
      "image/png": "[encoded data removed]",
      "text/plain": [
       "<Figure size 1152x576 with 1 Axes>"
      ]
     },
     "metadata": {
      "needs_background": "light"
     },
     "output_type": "display_data"
    }
   ],
   "source": [
    "ROC_function(knn_pca, X_pca_test, y_test)"
   ]
  },
  {
   "cell_type": "markdown",
   "metadata": {},
   "source": [
    "* ### KNN on PCA SMOTE Data"
   ]
  },
  {
   "cell_type": "code",
   "execution_count": 38,
   "metadata": {},
   "outputs": [
    {
     "data": {
      "text/plain": [
       "0.8864602307225258"
      ]
     },
     "execution_count": 38,
     "metadata": {},
     "output_type": "execute_result"
    }
   ],
   "source": [
    "knn_smote = make_pipeline(StandardScaler(), KNeighborsClassifier())\n",
    "knn_smote.fit(X_smote_pca_train, y_SMOTE)\n",
    "knn_smote.score(X_smote_pca_test, y_test)"
   ]
  },
  {
   "cell_type": "code",
   "execution_count": 39,
   "metadata": {},
   "outputs": [],
   "source": [
    "knn_smote_pred = knn_smote.predict(X_smote_pca_test)"
   ]
  },
  {
   "cell_type": "code",
   "execution_count": 40,
   "metadata": {},
   "outputs": [
    {
     "name": "stdout",
     "output_type": "stream",
     "text": [
      "Accuracy: 88.65%\n",
      "Balanced Accuracy: 68.51%\n"
     ]
    }
   ],
   "source": [
    "knn_smote_acc = round(metrics.accuracy_score(y_test, knn_smote_pred)*100, 2)\n",
    "knn_smote_bacc = round(metrics.balanced_accuracy_score(y_test, knn_smote_pred)*100, 2)\n",
    "\n",
    "print(f\"Accuracy: {knn_smote_acc}%\")\n",
    "print(f\"Balanced Accuracy: {knn_smote_bacc}%\")"
   ]
  },
  {
   "cell_type": "code",
   "execution_count": 41,
   "metadata": {},
   "outputs": [
    {
     "name": "stdout",
     "output_type": "stream",
     "text": [
      "              precision    recall  f1-score   support\n",
      "\n",
      "           0       0.93      0.95      0.94      7303\n",
      "           1       0.50      0.42      0.46       932\n",
      "\n",
      "    accuracy                           0.89      8235\n",
      "   macro avg       0.71      0.69      0.70      8235\n",
      "weighted avg       0.88      0.89      0.88      8235\n",
      "\n"
     ]
    }
   ],
   "source": [
    "knn_smote_classification_report = classification_report(y_test, knn_smote_pred)\n",
    "print(knn_smote_classification_report)"
   ]
  },
  {
   "cell_type": "code",
   "execution_count": 42,
   "metadata": {},
   "outputs": [
    {
     "name": "stdout",
     "output_type": "stream",
     "text": [
      "[[6904  399]\n",
      " [ 536  396]]\n"
     ]
    }
   ],
   "source": [
    "knn_smote_cm = confusion_matrix(y_test, knn_smote_pred)\n",
    "print(knn_smote_cm)"
   ]
  },
  {
   "cell_type": "code",
   "execution_count": 43,
   "metadata": {},
   "outputs": [
    {
     "data": {
      "text/plain": [
       "(<Figure size 432x288 with 1 Axes>,\n",
       " <AxesSubplot:xlabel='predicted label', ylabel='true label'>)"
      ]
     },
     "execution_count": 43,
     "metadata": {},
     "output_type": "execute_result"
    },
    {
     "data": {
      "image/png": "[encoded data removed]",
      "text/plain": [
       "<Figure size 432x288 with 1 Axes>"
      ]
     },
     "metadata": {
      "needs_background": "light"
     },
     "output_type": "display_data"
    }
   ],
   "source": [
    "plot_confusion_matrix(knn_smote_cm)"
   ]
  },
  {
   "cell_type": "code",
   "execution_count": 46,
   "metadata": {},
   "outputs": [
    {
     "data": {
      "image/png": "[encoded data removed]",
      "text/plain": [
       "<Figure size 432x288 with 2 Axes>"
      ]
     },
     "metadata": {
      "needs_background": "light"
     },
     "output_type": "display_data"
    }
   ],
   "source": [
    "knn_smote_cr = \"\"\" precision    recall  f1-score   support\n",
    "\n",
    "           0       0.93      0.95      0.94      7303\n",
    "           1       0.50      0.42      0.46       932\n",
    "\n",
    "    accuracy                           0.89      8235\n",
    "   macro avg       0.71      0.69      0.70      8235\n",
    "weighted avg       0.88      0.89      0.88      8235\"\"\"\n",
    "\n",
    "plot_classification_report(knn_smote_cr)"
   ]
  },
  {
   "cell_type": "code",
   "execution_count": 44,
   "metadata": {},
   "outputs": [
    {
     "data": {
      "text/plain": [
       "array([0.93658007, 0.45859873])"
      ]
     },
     "execution_count": 44,
     "metadata": {},
     "output_type": "execute_result"
    }
   ],
   "source": [
    "knn_smote_f1 = f1_score(y_test, knn_smote_pred, average=None)\n",
    "knn_smote_f1"
   ]
  },
  {
   "cell_type": "markdown",
   "metadata": {},
   "source": [
    "#### ROC Curve:"
   ]
  },
  {
   "cell_type": "code",
   "execution_count": 45,
   "metadata": {},
   "outputs": [
    {
     "name": "stdout",
     "output_type": "stream",
     "text": [
      "No Skill: ROC AUC=0.500\n",
      "RF: ROC AUC=0.818\n"
     ]
    },
    {
     "data": {
      "image/png": "[encoded data removed]",
      "text/plain": [
       "<Figure size 1152x576 with 1 Axes>"
      ]
     },
     "metadata": {
      "needs_background": "light"
     },
     "output_type": "display_data"
    }
   ],
   "source": [
    "ROC_function(knn_smote, X_smote_pca_test, y_test)"
   ]
  },
  {
   "cell_type": "markdown",
   "metadata": {},
   "source": [
    "***"
   ]
  },
  {
   "cell_type": "markdown",
   "metadata": {},
   "source": [
    "## SVM Linear"
   ]
  },
  {
   "cell_type": "markdown",
   "metadata": {},
   "source": [
    "* ### SVM Linear on PCA Imbalanced Data"
   ]
  },
  {
   "cell_type": "code",
   "execution_count": 94,
   "metadata": {},
   "outputs": [
    {
     "data": {
      "text/plain": [
       "Pipeline(steps=[('standardscaler', StandardScaler()),\n",
       "                ('svc', SVC(kernel='linear'))])"
      ]
     },
     "execution_count": 94,
     "metadata": {},
     "output_type": "execute_result"
    }
   ],
   "source": [
    "svm_pca_model = make_pipeline(StandardScaler(), svm.SVC(kernel='linear'))\n",
    "svm_pca_model.fit(X_pca_train, y_train)"
   ]
  },
  {
   "cell_type": "code",
   "execution_count": 95,
   "metadata": {},
   "outputs": [],
   "source": [
    "svm_pca_predictions = svm_pca_model.predict(X_pca_test)"
   ]
  },
  {
   "cell_type": "code",
   "execution_count": 96,
   "metadata": {},
   "outputs": [
    {
     "name": "stdout",
     "output_type": "stream",
     "text": [
      "Accuracy: 89.95%\n",
      "Balanced Accuracy: 62.32%\n"
     ]
    }
   ],
   "source": [
    "svm_li_pca_acc = round(metrics.accuracy_score(y_test, svm_pca_predictions)*100, 2)\n",
    "svm_li_pca_bacc = round(metrics.balanced_accuracy_score(y_test, svm_pca_predictions)*100, 2)\n",
    "\n",
    "print(f\"Accuracy: {svm_li_pca_acc}%\")\n",
    "print(f\"Balanced Accuracy: {svm_li_pca_bacc}%\")"
   ]
  },
  {
   "cell_type": "code",
   "execution_count": 97,
   "metadata": {},
   "outputs": [
    {
     "name": "stdout",
     "output_type": "stream",
     "text": [
      "[[7159  144]\n",
      " [ 684  248]]\n"
     ]
    }
   ],
   "source": [
    "svm_pca_cm = confusion_matrix(y_test, svm_pca_predictions)\n",
    "print(svm_pca_cm)"
   ]
  },
  {
   "cell_type": "code",
   "execution_count": 98,
   "metadata": {},
   "outputs": [
    {
     "data": {
      "text/plain": [
       "(<Figure size 432x288 with 1 Axes>,\n",
       " <AxesSubplot:xlabel='predicted label', ylabel='true label'>)"
      ]
     },
     "execution_count": 98,
     "metadata": {},
     "output_type": "execute_result"
    },
    {
     "data": {
      "image/png": "[encoded data removed]",
      "text/plain": [
       "<Figure size 432x288 with 1 Axes>"
      ]
     },
     "metadata": {
      "needs_background": "light"
     },
     "output_type": "display_data"
    }
   ],
   "source": [
    "plot_confusion_matrix(svm_pca_cm)"
   ]
  },
  {
   "cell_type": "code",
   "execution_count": 99,
   "metadata": {},
   "outputs": [
    {
     "name": "stdout",
     "output_type": "stream",
     "text": [
      "              precision    recall  f1-score   support\n",
      "\n",
      "           0       0.91      0.98      0.95      7303\n",
      "           1       0.63      0.27      0.37       932\n",
      "\n",
      "    accuracy                           0.90      8235\n",
      "   macro avg       0.77      0.62      0.66      8235\n",
      "weighted avg       0.88      0.90      0.88      8235\n",
      "\n"
     ]
    }
   ],
   "source": [
    "svm_pca_classification_report = classification_report(y_test, svm_pca_predictions)\n",
    "print(svm_pca_classification_report)"
   ]
  },
  {
   "cell_type": "code",
   "execution_count": 101,
   "metadata": {},
   "outputs": [
    {
     "data": {
      "image/png": "[encoded data removed]",
      "text/plain": [
       "<Figure size 432x288 with 2 Axes>"
      ]
     },
     "metadata": {
      "needs_background": "light"
     },
     "output_type": "display_data"
    }
   ],
   "source": [
    "svm_pca_cr = \"\"\"          precision    recall  f1-score   support\n",
    "\n",
    "           0       0.91      0.98      0.95      7303\n",
    "           1       0.63      0.27      0.37       932\n",
    "\n",
    "    accuracy                           0.90      8235\n",
    "   macro avg       0.77      0.62      0.66      8235\n",
    "weighted avg       0.88      0.90      0.88      8235\"\"\"\n",
    "\n",
    "plot_classification_report(svm_pca_cr)"
   ]
  },
  {
   "cell_type": "code",
   "execution_count": 100,
   "metadata": {},
   "outputs": [
    {
     "data": {
      "text/plain": [
       "array([0.9453321 , 0.37462236])"
      ]
     },
     "execution_count": 100,
     "metadata": {},
     "output_type": "execute_result"
    }
   ],
   "source": [
    "svm_li_pca_f1 = f1_score(y_test, svm_pca_predictions, average=None)\n",
    "svm_li_pca_f1"
   ]
  },
  {
   "cell_type": "markdown",
   "metadata": {},
   "source": [
    "* ### SVM Linear on SMOTE PCA Data"
   ]
  },
  {
   "cell_type": "code",
   "execution_count": 12,
   "metadata": {},
   "outputs": [
    {
     "data": {
      "text/plain": [
       "SVC(kernel='linear')"
      ]
     },
     "execution_count": 12,
     "metadata": {},
     "output_type": "execute_result"
    }
   ],
   "source": [
    "svm_smote = SVC(kernel='linear')\n",
    "svm_smote.fit(X_smote_pca_train, y_SMOTE) "
   ]
  },
  {
   "cell_type": "code",
   "execution_count": 13,
   "metadata": {},
   "outputs": [],
   "source": [
    "filename = 'SavedModels/svm_li_SMOTE_PCA.pkl'\n",
    "pickle.dump(svm_smote, open(filename, 'wb'))"
   ]
  },
  {
   "cell_type": "code",
   "execution_count": 14,
   "metadata": {},
   "outputs": [],
   "source": [
    "# load the model from disk\n",
    "svm_smote = pickle.load(open(filename, 'rb'))"
   ]
  },
  {
   "cell_type": "code",
   "execution_count": 15,
   "metadata": {},
   "outputs": [],
   "source": [
    "svm_smote_predictions = svm_smote.predict(X_smote_pca_test)"
   ]
  },
  {
   "cell_type": "code",
   "execution_count": 16,
   "metadata": {},
   "outputs": [
    {
     "name": "stdout",
     "output_type": "stream",
     "text": [
      "Accuracy: 88.8%\n",
      "Balanced Accuracy: 75.95%\n"
     ]
    }
   ],
   "source": [
    "svm_li_smote_acc = round(metrics.accuracy_score(y_test, svm_smote_predictions)*100, 2)\n",
    "svm_li_smote_bacc = round(metrics.balanced_accuracy_score(y_test, svm_smote_predictions)*100, 2)\n",
    "\n",
    "print(f\"Accuracy: {svm_li_smote_acc}%\")\n",
    "print(f\"Balanced Accuracy: {svm_li_smote_bacc}%\")"
   ]
  },
  {
   "cell_type": "code",
   "execution_count": 17,
   "metadata": {},
   "outputs": [
    {
     "name": "stdout",
     "output_type": "stream",
     "text": [
      "[[6760  543]\n",
      " [ 379  553]]\n"
     ]
    }
   ],
   "source": [
    "svm_smote_cm = confusion_matrix(y_test, svm_smote_predictions)\n",
    "print(svm_smote_cm)"
   ]
  },
  {
   "cell_type": "code",
   "execution_count": 18,
   "metadata": {},
   "outputs": [
    {
     "data": {
      "text/plain": [
       "(<Figure size 432x288 with 1 Axes>,\n",
       " <matplotlib.axes._subplots.AxesSubplot at 0x195211c8bc8>)"
      ]
     },
     "execution_count": 18,
     "metadata": {},
     "output_type": "execute_result"
    },
    {
     "data": {
      "image/png": "[encoded data removed]",
      "text/plain": [
       "<Figure size 432x288 with 1 Axes>"
      ]
     },
     "metadata": {
      "needs_background": "light"
     },
     "output_type": "display_data"
    }
   ],
   "source": [
    "plot_confusion_matrix(svm_smote_cm)"
   ]
  },
  {
   "cell_type": "code",
   "execution_count": 19,
   "metadata": {},
   "outputs": [
    {
     "name": "stdout",
     "output_type": "stream",
     "text": [
      "              precision    recall  f1-score   support\n",
      "\n",
      "           0       0.95      0.93      0.94      7303\n",
      "           1       0.50      0.59      0.55       932\n",
      "\n",
      "    accuracy                           0.89      8235\n",
      "   macro avg       0.73      0.76      0.74      8235\n",
      "weighted avg       0.90      0.89      0.89      8235\n",
      "\n"
     ]
    }
   ],
   "source": [
    "svm_smote_classification_report = classification_report(y_test, svm_smote_predictions)\n",
    "print(svm_smote_classification_report)"
   ]
  },
  {
   "cell_type": "code",
   "execution_count": 21,
   "metadata": {},
   "outputs": [
    {
     "data": {
      "image/png": "[encoded data removed]",
      "text/plain": [
       "<Figure size 432x288 with 2 Axes>"
      ]
     },
     "metadata": {
      "needs_background": "light"
     },
     "output_type": "display_data"
    }
   ],
   "source": [
    "svm_smote_cr = \"\"\"            precision    recall  f1-score   support\n",
    "\n",
    "           0       0.95      0.93      0.94      7303\n",
    "           1       0.50      0.59      0.55       932\n",
    "\n",
    "    accuracy                           0.89      8235\n",
    "   macro avg       0.73      0.76      0.74      8235\n",
    "weighted avg       0.90      0.89      0.89      8235\"\"\"\n",
    "\n",
    "plot_classification_report(svm_smote_cr)"
   ]
  },
  {
   "cell_type": "code",
   "execution_count": 22,
   "metadata": {},
   "outputs": [
    {
     "data": {
      "text/plain": [
       "array([0.93615843, 0.54536489])"
      ]
     },
     "execution_count": 22,
     "metadata": {},
     "output_type": "execute_result"
    }
   ],
   "source": [
    "svm_li_smote_f1 = f1_score(y_test, svm_smote_predictions, average=None)\n",
    "svm_li_smote_f1"
   ]
  },
  {
   "cell_type": "markdown",
   "metadata": {},
   "source": [
    "***"
   ]
  },
  {
   "cell_type": "markdown",
   "metadata": {},
   "source": [
    "## SVM RBF"
   ]
  },
  {
   "cell_type": "markdown",
   "metadata": {},
   "source": [
    "* ### SVM RBF on PCA Imbalanced Data"
   ]
  },
  {
   "cell_type": "code",
   "execution_count": 102,
   "metadata": {},
   "outputs": [
    {
     "name": "stdout",
     "output_type": "stream",
     "text": [
      "Fitting 5 folds for each of 9 candidates, totalling 45 fits\n"
     ]
    },
    {
     "name": "stderr",
     "output_type": "stream",
     "text": [
      "[Parallel(n_jobs=-1)]: Using backend LokyBackend with 16 concurrent workers.\n",
      "[Parallel(n_jobs=-1)]: Done   9 tasks      | elapsed:  9.1min\n",
      "[Parallel(n_jobs=-1)]: Done  37 out of  45 | elapsed: 25.9min remaining:  5.6min\n",
      "[Parallel(n_jobs=-1)]: Done  45 out of  45 | elapsed: 28.3min finished\n"
     ]
    },
    {
     "data": {
      "text/plain": [
       "GridSearchCV(estimator=SVC(), n_jobs=-1,\n",
       "             param_grid={'C': [0.1, 1, 10], 'gamma': [1, 0.1, 0.01],\n",
       "                         'kernel': ['rbf']},\n",
       "             verbose=2)"
      ]
     },
     "execution_count": 102,
     "metadata": {},
     "output_type": "execute_result"
    }
   ],
   "source": [
    "param_grid1 = {'C': [0.1,1, 10], 'gamma': [1,0.1,0.01],'kernel': ['rbf']}\n",
    "svm_rbf_pca = GridSearchCV(SVC(),param_grid1,refit=True,verbose=2, n_jobs = -1)\n",
    "svm_rbf_pca.fit(X_pca_train, y_train)"
   ]
  },
  {
   "cell_type": "code",
   "execution_count": 103,
   "metadata": {},
   "outputs": [
    {
     "name": "stdout",
     "output_type": "stream",
     "text": [
      "SVC(C=1, gamma=0.01)\n"
     ]
    }
   ],
   "source": [
    "print(svm_rbf_pca.best_estimator_)"
   ]
  },
  {
   "cell_type": "code",
   "execution_count": 104,
   "metadata": {},
   "outputs": [],
   "source": [
    "svm_rbf_pca_predictions = svm_rbf_pca.predict(X_pca_test)"
   ]
  },
  {
   "cell_type": "code",
   "execution_count": 105,
   "metadata": {},
   "outputs": [
    {
     "name": "stdout",
     "output_type": "stream",
     "text": [
      "Accuracy: 90.49%\n",
      "Balanced Accuracy: 69.23%\n"
     ]
    }
   ],
   "source": [
    "svm_rbf_pca_acc = round(metrics.accuracy_score(y_test, svm_rbf_pca_predictions)*100, 2)\n",
    "svm_rbf_pca_bacc = round(metrics.balanced_accuracy_score(y_test, svm_rbf_pca_predictions)*100, 2)\n",
    "\n",
    "print(f\"Accuracy: {svm_rbf_pca_acc}%\")\n",
    "print(f\"Balanced Accuracy: {svm_rbf_pca_bacc}%\")"
   ]
  },
  {
   "cell_type": "code",
   "execution_count": 106,
   "metadata": {},
   "outputs": [
    {
     "name": "stdout",
     "output_type": "stream",
     "text": [
      "[[7063  240]\n",
      " [ 543  389]]\n"
     ]
    }
   ],
   "source": [
    "svm_rbf_pca_cm = confusion_matrix(y_test, svm_rbf_pca_predictions)\n",
    "print(svm_rbf_pca_cm)"
   ]
  },
  {
   "cell_type": "code",
   "execution_count": 107,
   "metadata": {},
   "outputs": [
    {
     "data": {
      "text/plain": [
       "(<Figure size 432x288 with 1 Axes>,\n",
       " <AxesSubplot:xlabel='predicted label', ylabel='true label'>)"
      ]
     },
     "execution_count": 107,
     "metadata": {},
     "output_type": "execute_result"
    },
    {
     "data": {
      "image/png": "[encoded data removed]",
      "text/plain": [
       "<Figure size 432x288 with 1 Axes>"
      ]
     },
     "metadata": {
      "needs_background": "light"
     },
     "output_type": "display_data"
    }
   ],
   "source": [
    "plot_confusion_matrix(svm_rbf_pca_cm)"
   ]
  },
  {
   "cell_type": "code",
   "execution_count": 108,
   "metadata": {},
   "outputs": [
    {
     "name": "stdout",
     "output_type": "stream",
     "text": [
      "              precision    recall  f1-score   support\n",
      "\n",
      "           0       0.93      0.97      0.95      7303\n",
      "           1       0.62      0.42      0.50       932\n",
      "\n",
      "    accuracy                           0.90      8235\n",
      "   macro avg       0.77      0.69      0.72      8235\n",
      "weighted avg       0.89      0.90      0.90      8235\n",
      "\n"
     ]
    }
   ],
   "source": [
    "svm_rbf_pca_classification_report = classification_report(y_test, svm_rbf_pca_predictions)\n",
    "print(svm_rbf_pca_classification_report)"
   ]
  },
  {
   "cell_type": "code",
   "execution_count": null,
   "metadata": {},
   "outputs": [],
   "source": [
    "svm_rbf_pca_cr = \"\"\"            precision    recall  f1-score   support\n",
    "\n",
    "           0       0.93      0.97      0.95      7303\n",
    "           1       0.62      0.42      0.50       932\n",
    "\n",
    "    accuracy                           0.90      8235\n",
    "   macro avg       0.77      0.69      0.72      8235\n",
    "weighted avg       0.89      0.90      0.90      8235\"\"\"\n",
    "\n",
    "plot_classification_report(svm_rbf_pca_cr)"
   ]
  },
  {
   "cell_type": "code",
   "execution_count": 109,
   "metadata": {},
   "outputs": [
    {
     "data": {
      "text/plain": [
       "array([0.94748139, 0.49839846])"
      ]
     },
     "execution_count": 109,
     "metadata": {},
     "output_type": "execute_result"
    }
   ],
   "source": [
    "svm_rbf_pca_f1 = f1_score(y_test, svm_rbf_pca_predictions, average=None)\n",
    "svm_rbf_pca_f1"
   ]
  },
  {
   "cell_type": "markdown",
   "metadata": {},
   "source": [
    "* ### SVM RBF on PCA SMOTE Data"
   ]
  },
  {
   "cell_type": "code",
   "execution_count": 85,
   "metadata": {},
   "outputs": [
    {
     "data": {
      "text/plain": [
       "Pipeline(steps=[('standardscaler', StandardScaler()),\n",
       "                ('svc', SVC(C=10, gamma=0.01))])"
      ]
     },
     "execution_count": 85,
     "metadata": {},
     "output_type": "execute_result"
    }
   ],
   "source": [
    "svm_rbf_smote = make_pipeline(StandardScaler(), SVC(C=10, cache_size = 200, kernel = 'rbf', gamma = 0.01))\n",
    "svm_rbf_smote.fit(X_smote_pca_train, y_SMOTE)"
   ]
  },
  {
   "cell_type": "code",
   "execution_count": 86,
   "metadata": {},
   "outputs": [],
   "source": [
    "svm_rbf_smote_predictions = svm_rbf_smote.predict(X_smote_pca_test)"
   ]
  },
  {
   "cell_type": "code",
   "execution_count": 88,
   "metadata": {},
   "outputs": [
    {
     "name": "stdout",
     "output_type": "stream",
     "text": [
      "Accuracy: 90.59%\n",
      "Balanced Accuracy: 71.53%\n"
     ]
    }
   ],
   "source": [
    "svm_rbf_smote_acc = round(metrics.accuracy_score(y_test, svm_rbf_smote_predictions)*100, 2)\n",
    "svm_rbf_smote_bacc = round(metrics.balanced_accuracy_score(y_test, svm_rbf_smote_predictions)*100, 2)\n",
    "\n",
    "print(f\"Accuracy: {svm_rbf_smote_acc}%\")\n",
    "print(f\"Balanced Accuracy: {svm_rbf_smote_bacc}%\")"
   ]
  },
  {
   "cell_type": "code",
   "execution_count": 89,
   "metadata": {},
   "outputs": [
    {
     "name": "stdout",
     "output_type": "stream",
     "text": [
      "[[7023  280]\n",
      " [ 495  437]]\n"
     ]
    }
   ],
   "source": [
    "svm_rbf_smote_cm = confusion_matrix(y_test, svm_rbf_smote_predictions)\n",
    "print(svm_rbf_smote_cm)"
   ]
  },
  {
   "cell_type": "code",
   "execution_count": 90,
   "metadata": {},
   "outputs": [
    {
     "data": {
      "text/plain": [
       "(<Figure size 432x288 with 1 Axes>,\n",
       " <AxesSubplot:xlabel='predicted label', ylabel='true label'>)"
      ]
     },
     "execution_count": 90,
     "metadata": {},
     "output_type": "execute_result"
    },
    {
     "data": {
      "image/png": "[encoded data removed]",
      "text/plain": [
       "<Figure size 432x288 with 1 Axes>"
      ]
     },
     "metadata": {
      "needs_background": "light"
     },
     "output_type": "display_data"
    }
   ],
   "source": [
    "plot_confusion_matrix(svm_rbf_smote_cm)"
   ]
  },
  {
   "cell_type": "code",
   "execution_count": 91,
   "metadata": {},
   "outputs": [
    {
     "name": "stdout",
     "output_type": "stream",
     "text": [
      "              precision    recall  f1-score   support\n",
      "\n",
      "           0       0.93      0.96      0.95      7303\n",
      "           1       0.61      0.47      0.53       932\n",
      "\n",
      "    accuracy                           0.91      8235\n",
      "   macro avg       0.77      0.72      0.74      8235\n",
      "weighted avg       0.90      0.91      0.90      8235\n",
      "\n"
     ]
    }
   ],
   "source": [
    "svm_rbf_smote_classification_report = classification_report(y_test, svm_rbf_smote_predictions)\n",
    "print(svm_rbf_smote_classification_report)"
   ]
  },
  {
   "cell_type": "code",
   "execution_count": 92,
   "metadata": {},
   "outputs": [
    {
     "data": {
      "image/png": "[encoded data removed]",
      "text/plain": [
       "<Figure size 432x288 with 2 Axes>"
      ]
     },
     "metadata": {
      "needs_background": "light"
     },
     "output_type": "display_data"
    }
   ],
   "source": [
    "svm_rbf_smote_cr = \"\"\"            precision    recall  f1-score   support\n",
    "\n",
    "           0       0.93      0.96      0.95      7303\n",
    "           1       0.61      0.47      0.53       932\n",
    "\n",
    "    accuracy                           0.91      8235\n",
    "   macro avg       0.77      0.72      0.74      8235\n",
    "weighted avg       0.90      0.91      0.90      8235\"\"\"\n",
    "\n",
    "plot_classification_report(svm_rbf_smote_cr)"
   ]
  },
  {
   "cell_type": "code",
   "execution_count": 93,
   "metadata": {},
   "outputs": [
    {
     "data": {
      "text/plain": [
       "array([0.94770933, 0.53001819])"
      ]
     },
     "execution_count": 93,
     "metadata": {},
     "output_type": "execute_result"
    }
   ],
   "source": [
    "svm_rbf_smote_f1 = f1_score(y_test, svm_rbf_smote_predictions, average=None)\n",
    "svm_rbf_smote_f1"
   ]
  },
  {
   "cell_type": "markdown",
   "metadata": {},
   "source": [
    "***"
   ]
  },
  {
   "cell_type": "markdown",
   "metadata": {},
   "source": [
    "## Random Forest"
   ]
  },
  {
   "cell_type": "markdown",
   "metadata": {},
   "source": [
    "* ### Random Forest on PCA Imbalanced Data"
   ]
  },
  {
   "cell_type": "code",
   "execution_count": 76,
   "metadata": {},
   "outputs": [
    {
     "data": {
      "text/plain": [
       "RandomForestClassifier(random_state=12)"
      ]
     },
     "execution_count": 76,
     "metadata": {},
     "output_type": "execute_result"
    }
   ],
   "source": [
    "rf_pca_model = RandomForestClassifier(random_state=12)\n",
    "rf_pca_model.fit(X_pca_train, y_train)"
   ]
  },
  {
   "cell_type": "code",
   "execution_count": 77,
   "metadata": {},
   "outputs": [],
   "source": [
    "rf_pred = rf_pca_model.predict(X_pca_test)"
   ]
  },
  {
   "cell_type": "code",
   "execution_count": 78,
   "metadata": {},
   "outputs": [
    {
     "name": "stdout",
     "output_type": "stream",
     "text": [
      "Accuracy: 91.04%\n",
      "Balanced Accuracy: 72.11%\n"
     ]
    }
   ],
   "source": [
    "rf_pca_acc = round(metrics.accuracy_score(y_test, rf_pred)*100, 2)\n",
    "rf_pca_bacc = round(metrics.balanced_accuracy_score(y_test, rf_pred)*100, 2)\n",
    "\n",
    "print(f\"Accuracy: {rf_pca_acc}%\")\n",
    "print(f\"Balanced Accuracy: {rf_pca_bacc}%\")"
   ]
  },
  {
   "cell_type": "code",
   "execution_count": 79,
   "metadata": {},
   "outputs": [
    {
     "name": "stdout",
     "output_type": "stream",
     "text": [
      "[[7053  250]\n",
      " [ 488  444]]\n"
     ]
    }
   ],
   "source": [
    "rf_pca_cm = confusion_matrix(y_test, rf_pred)\n",
    "print(rf_pca_cm)\n"
   ]
  },
  {
   "cell_type": "code",
   "execution_count": 80,
   "metadata": {},
   "outputs": [
    {
     "data": {
      "text/plain": [
       "(<Figure size 432x288 with 1 Axes>,\n",
       " <AxesSubplot:xlabel='predicted label', ylabel='true label'>)"
      ]
     },
     "execution_count": 80,
     "metadata": {},
     "output_type": "execute_result"
    },
    {
     "data": {
      "image/png": "[encoded data removed]",
      "text/plain": [
       "<Figure size 432x288 with 1 Axes>"
      ]
     },
     "metadata": {
      "needs_background": "light"
     },
     "output_type": "display_data"
    }
   ],
   "source": [
    "plot_confusion_matrix(rf_pca_cm)"
   ]
  },
  {
   "cell_type": "code",
   "execution_count": 81,
   "metadata": {},
   "outputs": [
    {
     "name": "stdout",
     "output_type": "stream",
     "text": [
      "              precision    recall  f1-score   support\n",
      "\n",
      "           0       0.94      0.97      0.95      7303\n",
      "           1       0.64      0.48      0.55       932\n",
      "\n",
      "    accuracy                           0.91      8235\n",
      "   macro avg       0.79      0.72      0.75      8235\n",
      "weighted avg       0.90      0.91      0.90      8235\n",
      "\n"
     ]
    }
   ],
   "source": [
    "rf_pca_classification_report = classification_report(y_test, rf_pred)\n",
    "print(rf_pca_classification_report)"
   ]
  },
  {
   "cell_type": "code",
   "execution_count": 83,
   "metadata": {},
   "outputs": [
    {
     "data": {
      "image/png": "[encoded data removed]",
      "text/plain": [
       "<Figure size 432x288 with 2 Axes>"
      ]
     },
     "metadata": {
      "needs_background": "light"
     },
     "output_type": "display_data"
    }
   ],
   "source": [
    "rf_pca_cr = \"\"\"       precision    recall  f1-score   support\n",
    "\n",
    "           0       0.94      0.97      0.95      7303\n",
    "           1       0.64      0.48      0.55       932\n",
    "\n",
    "    accuracy                           0.91      8235\n",
    "   macro avg       0.79      0.72      0.75      8235\n",
    "weighted avg       0.90      0.91      0.90      8235\"\"\"\n",
    "\n",
    "plot_classification_report(rf_pca_cr)"
   ]
  },
  {
   "cell_type": "code",
   "execution_count": 82,
   "metadata": {},
   "outputs": [
    {
     "data": {
      "text/plain": [
       "array([0.95028294, 0.54612546])"
      ]
     },
     "execution_count": 82,
     "metadata": {},
     "output_type": "execute_result"
    }
   ],
   "source": [
    "rf_pca_f1 = f1_score(y_test, rf_pred, average=None)\n",
    "rf_pca_f1"
   ]
  },
  {
   "cell_type": "markdown",
   "metadata": {},
   "source": [
    "#### ROC Curve:"
   ]
  },
  {
   "cell_type": "code",
   "execution_count": 84,
   "metadata": {},
   "outputs": [
    {
     "name": "stdout",
     "output_type": "stream",
     "text": [
      "No Skill: ROC AUC=0.500\n",
      "RF: ROC AUC=0.939\n"
     ]
    },
    {
     "data": {
      "image/png": "[encoded data removed]",
      "text/plain": [
       "<Figure size 1152x576 with 1 Axes>"
      ]
     },
     "metadata": {
      "needs_background": "light"
     },
     "output_type": "display_data"
    }
   ],
   "source": [
    "ROC_function(rf_pca_model, X_pca_test, y_test)"
   ]
  },
  {
   "cell_type": "markdown",
   "metadata": {},
   "source": [
    "* ### Random Forest on PCA SMOTE Data"
   ]
  },
  {
   "cell_type": "code",
   "execution_count": 65,
   "metadata": {},
   "outputs": [
    {
     "data": {
      "text/plain": [
       "RandomForestClassifier(criterion='entropy', max_depth=8, max_features=6,\n",
       "                       min_samples_leaf=2, random_state=12)"
      ]
     },
     "execution_count": 65,
     "metadata": {},
     "output_type": "execute_result"
    }
   ],
   "source": [
    "rf_smote = RandomForestClassifier(criterion = 'entropy', n_estimators = 100, max_depth = 8, max_features = 6, min_samples_leaf=2, random_state=12)\n",
    "rf_smote.fit(X_smote_pca_train, y_SMOTE)"
   ]
  },
  {
   "cell_type": "code",
   "execution_count": 68,
   "metadata": {},
   "outputs": [],
   "source": [
    "rf_smote_pred = rf_smote.predict(X_smote_pca_test)"
   ]
  },
  {
   "cell_type": "code",
   "execution_count": 69,
   "metadata": {},
   "outputs": [
    {
     "name": "stdout",
     "output_type": "stream",
     "text": [
      "Accuracy: 90.1%\n",
      "Balanced Accuracy: 82.06%\n"
     ]
    }
   ],
   "source": [
    "rf_smote_acc = round(metrics.accuracy_score(y_test, rf_smote_pred)*100, 2)\n",
    "rf_smote_bacc = round(metrics.balanced_accuracy_score(y_test, rf_smote_pred)*100, 2)\n",
    "\n",
    "print(f\"Accuracy: {rf_smote_acc}%\")\n",
    "print(f\"Balanced Accuracy: {rf_smote_bacc}%\")"
   ]
  },
  {
   "cell_type": "code",
   "execution_count": 70,
   "metadata": {},
   "outputs": [
    {
     "name": "stdout",
     "output_type": "stream",
     "text": [
      "[[6752  551]\n",
      " [ 264  668]]\n"
     ]
    }
   ],
   "source": [
    "rf_smote_cm = confusion_matrix(y_test, rf_smote_pred)\n",
    "print(rf_smote_cm)"
   ]
  },
  {
   "cell_type": "code",
   "execution_count": 71,
   "metadata": {},
   "outputs": [
    {
     "data": {
      "text/plain": [
       "(<Figure size 432x288 with 1 Axes>,\n",
       " <AxesSubplot:xlabel='predicted label', ylabel='true label'>)"
      ]
     },
     "execution_count": 71,
     "metadata": {},
     "output_type": "execute_result"
    },
    {
     "data": {
      "image/png": "[encoded data removed]",
      "text/plain": [
       "<Figure size 432x288 with 1 Axes>"
      ]
     },
     "metadata": {
      "needs_background": "light"
     },
     "output_type": "display_data"
    }
   ],
   "source": [
    "plot_confusion_matrix(rf_smote_cm)"
   ]
  },
  {
   "cell_type": "code",
   "execution_count": 72,
   "metadata": {},
   "outputs": [
    {
     "name": "stdout",
     "output_type": "stream",
     "text": [
      "              precision    recall  f1-score   support\n",
      "\n",
      "           0       0.96      0.92      0.94      7303\n",
      "           1       0.55      0.72      0.62       932\n",
      "\n",
      "    accuracy                           0.90      8235\n",
      "   macro avg       0.76      0.82      0.78      8235\n",
      "weighted avg       0.92      0.90      0.91      8235\n",
      "\n"
     ]
    }
   ],
   "source": [
    "rf_smote_classification_report = classification_report(y_test, rf_smote_pred)\n",
    "print(rf_smote_classification_report)"
   ]
  },
  {
   "cell_type": "code",
   "execution_count": 73,
   "metadata": {},
   "outputs": [
    {
     "data": {
      "image/png": "[encoded data removed]",
      "text/plain": [
       "<Figure size 432x288 with 2 Axes>"
      ]
     },
     "metadata": {
      "needs_background": "light"
     },
     "output_type": "display_data"
    }
   ],
   "source": [
    "rf_smote_cr = \"\"\"       precision    recall  f1-score   support\n",
    "\n",
    "           0       0.96      0.92      0.94      7303\n",
    "           1       0.55      0.72      0.62       932\n",
    "\n",
    "    accuracy                           0.90      8235\n",
    "   macro avg       0.76      0.82      0.78      8235\n",
    "weighted avg       0.92      0.90      0.91      8235\"\"\"\n",
    "\n",
    "plot_classification_report(rf_smote_cr)"
   ]
  },
  {
   "cell_type": "code",
   "execution_count": 74,
   "metadata": {},
   "outputs": [
    {
     "data": {
      "text/plain": [
       "array([0.94308262, 0.62110646])"
      ]
     },
     "execution_count": 74,
     "metadata": {},
     "output_type": "execute_result"
    }
   ],
   "source": [
    "rf_smote_f1 = f1_score(y_test, rf_smote_pred, average=None)\n",
    "rf_smote_f1"
   ]
  },
  {
   "cell_type": "markdown",
   "metadata": {},
   "source": [
    "#### ROC Curve:"
   ]
  },
  {
   "cell_type": "code",
   "execution_count": 75,
   "metadata": {},
   "outputs": [
    {
     "name": "stdout",
     "output_type": "stream",
     "text": [
      "No Skill: ROC AUC=0.500\n",
      "RF: ROC AUC=0.938\n"
     ]
    },
    {
     "data": {
      "image/png": "[encoded data removed]",
      "text/plain": [
       "<Figure size 1152x576 with 1 Axes>"
      ]
     },
     "metadata": {
      "needs_background": "light"
     },
     "output_type": "display_data"
    }
   ],
   "source": [
    "ROC_function(rf_smote, X_smote_pca_test, y_test)"
   ]
  },
  {
   "cell_type": "markdown",
   "metadata": {},
   "source": [
    "***"
   ]
  },
  {
   "cell_type": "markdown",
   "metadata": {},
   "source": [
    "## Gradient Boosting Machine"
   ]
  },
  {
   "cell_type": "markdown",
   "metadata": {},
   "source": [
    "* ### GBM on PCA Imbalanced Data"
   ]
  },
  {
   "cell_type": "code",
   "execution_count": 56,
   "metadata": {},
   "outputs": [
    {
     "data": {
      "text/plain": [
       "GradientBoostingClassifier(random_state=12)"
      ]
     },
     "execution_count": 56,
     "metadata": {},
     "output_type": "execute_result"
    }
   ],
   "source": [
    "gbm_pca = GradientBoostingClassifier(random_state = 12)\n",
    "gbm_pca.fit(X_pca_train, y_train)"
   ]
  },
  {
   "cell_type": "code",
   "execution_count": 57,
   "metadata": {},
   "outputs": [],
   "source": [
    "gbm_pred = gbm_pca.predict(X_pca_test)"
   ]
  },
  {
   "cell_type": "code",
   "execution_count": 58,
   "metadata": {},
   "outputs": [
    {
     "name": "stdout",
     "output_type": "stream",
     "text": [
      "Accuracy: 91.01%\n",
      "Balanced Accuracy: 73.03%\n"
     ]
    }
   ],
   "source": [
    "gbm_pca_acc = round(metrics.accuracy_score(y_test, gbm_pred)*100, 2)\n",
    "gbm_pca_bacc = round(metrics.balanced_accuracy_score(y_test, gbm_pred)*100, 2)\n",
    "\n",
    "print(f\"Accuracy: {gbm_pca_acc}%\")\n",
    "print(f\"Balanced Accuracy: {gbm_pca_bacc}%\")"
   ]
  },
  {
   "cell_type": "code",
   "execution_count": 59,
   "metadata": {},
   "outputs": [
    {
     "name": "stdout",
     "output_type": "stream",
     "text": [
      "[[7031  272]\n",
      " [ 468  464]]\n"
     ]
    }
   ],
   "source": [
    "gbm_pca_cm = confusion_matrix(y_test, gbm_pred)\n",
    "print(gbm_pca_cm)"
   ]
  },
  {
   "cell_type": "code",
   "execution_count": 60,
   "metadata": {},
   "outputs": [
    {
     "data": {
      "text/plain": [
       "(<Figure size 432x288 with 1 Axes>,\n",
       " <AxesSubplot:xlabel='predicted label', ylabel='true label'>)"
      ]
     },
     "execution_count": 60,
     "metadata": {},
     "output_type": "execute_result"
    },
    {
     "data": {
      "image/png": "[encoded data removed]",
      "text/plain": [
       "<Figure size 432x288 with 1 Axes>"
      ]
     },
     "metadata": {
      "needs_background": "light"
     },
     "output_type": "display_data"
    }
   ],
   "source": [
    "plot_confusion_matrix(gbm_pca_cm)"
   ]
  },
  {
   "cell_type": "code",
   "execution_count": 61,
   "metadata": {},
   "outputs": [
    {
     "name": "stdout",
     "output_type": "stream",
     "text": [
      "              precision    recall  f1-score   support\n",
      "\n",
      "           0       0.94      0.96      0.95      7303\n",
      "           1       0.63      0.50      0.56       932\n",
      "\n",
      "    accuracy                           0.91      8235\n",
      "   macro avg       0.78      0.73      0.75      8235\n",
      "weighted avg       0.90      0.91      0.91      8235\n",
      "\n"
     ]
    }
   ],
   "source": [
    "gbm_pca_classification_report = classification_report(y_test, gbm_pred)\n",
    "print(gbm_pca_classification_report)"
   ]
  },
  {
   "cell_type": "code",
   "execution_count": 64,
   "metadata": {},
   "outputs": [
    {
     "data": {
      "image/png": "[encoded data removed]",
      "text/plain": [
       "<Figure size 432x288 with 2 Axes>"
      ]
     },
     "metadata": {
      "needs_background": "light"
     },
     "output_type": "display_data"
    }
   ],
   "source": [
    "gbm_pca_cr = \"\"\"       precision    recall  f1-score   support\n",
    "\n",
    "           0       0.94      0.96      0.95      7303\n",
    "           1       0.63      0.50      0.56       932\n",
    "\n",
    "    accuracy                           0.91      8235\n",
    "   macro avg       0.78      0.73      0.75      8235\n",
    "weighted avg       0.90      0.91      0.91      8235\"\"\"\n",
    "\n",
    "plot_classification_report(gbm_pca_cr)"
   ]
  },
  {
   "cell_type": "code",
   "execution_count": 62,
   "metadata": {},
   "outputs": [
    {
     "data": {
      "text/plain": [
       "array([0.95000676, 0.55635492])"
      ]
     },
     "execution_count": 62,
     "metadata": {},
     "output_type": "execute_result"
    }
   ],
   "source": [
    "gbm_pca_f1 = f1_score(y_test, gbm_pred, average=None)\n",
    "gbm_pca_f1"
   ]
  },
  {
   "cell_type": "markdown",
   "metadata": {},
   "source": [
    "#### ROC Curve:"
   ]
  },
  {
   "cell_type": "code",
   "execution_count": 63,
   "metadata": {},
   "outputs": [
    {
     "name": "stdout",
     "output_type": "stream",
     "text": [
      "No Skill: ROC AUC=0.500\n",
      "RF: ROC AUC=0.943\n"
     ]
    },
    {
     "data": {
      "image/png": "[encoded data removed]",
      "text/plain": [
       "<Figure size 1152x576 with 1 Axes>"
      ]
     },
     "metadata": {
      "needs_background": "light"
     },
     "output_type": "display_data"
    }
   ],
   "source": [
    "ROC_function(gbm_pca, X_pca_test, y_test)"
   ]
  },
  {
   "cell_type": "markdown",
   "metadata": {},
   "source": [
    "* ### GBM on PCA SMOTE Data"
   ]
  },
  {
   "cell_type": "code",
   "execution_count": 47,
   "metadata": {},
   "outputs": [
    {
     "data": {
      "text/plain": [
       "GradientBoostingClassifier(max_depth=8, max_features=7, random_state=12)"
      ]
     },
     "execution_count": 47,
     "metadata": {},
     "output_type": "execute_result"
    }
   ],
   "source": [
    "gbm_smote = GradientBoostingClassifier(n_estimators=100, max_depth = 8, max_features = 7, min_samples_leaf = 1, random_state=12)\n",
    "gbm_smote.fit(X_smote_pca_train, y_SMOTE)\n"
   ]
  },
  {
   "cell_type": "code",
   "execution_count": 48,
   "metadata": {},
   "outputs": [],
   "source": [
    "gbm_smote_pred = gbm_smote.predict(X_smote_pca_test)"
   ]
  },
  {
   "cell_type": "code",
   "execution_count": 49,
   "metadata": {},
   "outputs": [
    {
     "name": "stdout",
     "output_type": "stream",
     "text": [
      "Accuracy: 90.47%\n",
      "Balanced Accuracy: 76.28%\n"
     ]
    }
   ],
   "source": [
    "gbm_smote_acc = round(metrics.accuracy_score(y_test, gbm_smote_pred)*100, 2)\n",
    "gbm_smote_bacc = round(metrics.balanced_accuracy_score(y_test, gbm_smote_pred)*100, 2)\n",
    "\n",
    "print(f\"Accuracy: {gbm_smote_acc}%\")\n",
    "print(f\"Balanced Accuracy: {gbm_smote_bacc}%\")"
   ]
  },
  {
   "cell_type": "code",
   "execution_count": 50,
   "metadata": {},
   "outputs": [
    {
     "name": "stdout",
     "output_type": "stream",
     "text": [
      "[[6910  393]\n",
      " [ 392  540]]\n"
     ]
    }
   ],
   "source": [
    "gbm_smote_cm = confusion_matrix(y_test, gbm_smote_pred)\n",
    "print(gbm_smote_cm)"
   ]
  },
  {
   "cell_type": "code",
   "execution_count": 51,
   "metadata": {},
   "outputs": [
    {
     "data": {
      "text/plain": [
       "(<Figure size 432x288 with 1 Axes>,\n",
       " <AxesSubplot:xlabel='predicted label', ylabel='true label'>)"
      ]
     },
     "execution_count": 51,
     "metadata": {},
     "output_type": "execute_result"
    },
    {
     "data": {
      "image/png": "[encoded data removed]",
      "text/plain": [
       "<Figure size 432x288 with 1 Axes>"
      ]
     },
     "metadata": {
      "needs_background": "light"
     },
     "output_type": "display_data"
    }
   ],
   "source": [
    "plot_confusion_matrix(gbm_smote_cm)"
   ]
  },
  {
   "cell_type": "code",
   "execution_count": 52,
   "metadata": {},
   "outputs": [
    {
     "name": "stdout",
     "output_type": "stream",
     "text": [
      "              precision    recall  f1-score   support\n",
      "\n",
      "           0       0.95      0.95      0.95      7303\n",
      "           1       0.58      0.58      0.58       932\n",
      "\n",
      "    accuracy                           0.90      8235\n",
      "   macro avg       0.76      0.76      0.76      8235\n",
      "weighted avg       0.90      0.90      0.90      8235\n",
      "\n"
     ]
    }
   ],
   "source": [
    "gbm_smote_classification_report = classification_report(y_test, gbm_smote_pred)\n",
    "print(gbm_smote_classification_report)"
   ]
  },
  {
   "cell_type": "code",
   "execution_count": 55,
   "metadata": {},
   "outputs": [
    {
     "data": {
      "image/png": "[encoded data removed]",
      "text/plain": [
       "<Figure size 432x288 with 2 Axes>"
      ]
     },
     "metadata": {
      "needs_background": "light"
     },
     "output_type": "display_data"
    }
   ],
   "source": [
    "gbm_smote_cr = \"\"\"       precision    recall  f1-score   support\n",
    "\n",
    "           0       0.95      0.95      0.95      7303\n",
    "           1       0.58      0.58      0.58       932\n",
    "\n",
    "    accuracy                           0.90      8235\n",
    "   macro avg       0.76      0.76      0.76      8235\n",
    "weighted avg       0.90      0.90      0.90      8235\"\"\"\n",
    "\n",
    "plot_classification_report(gbm_smote_cr)"
   ]
  },
  {
   "cell_type": "code",
   "execution_count": 53,
   "metadata": {},
   "outputs": [
    {
     "data": {
      "text/plain": [
       "array([0.94625128, 0.57908847])"
      ]
     },
     "execution_count": 53,
     "metadata": {},
     "output_type": "execute_result"
    }
   ],
   "source": [
    "gbm_smote_f1 = f1_score(y_test, gbm_smote_pred, average=None)\n",
    "gbm_smote_f1"
   ]
  },
  {
   "cell_type": "markdown",
   "metadata": {},
   "source": [
    "#### ROC Curve:"
   ]
  },
  {
   "cell_type": "code",
   "execution_count": 54,
   "metadata": {},
   "outputs": [
    {
     "name": "stdout",
     "output_type": "stream",
     "text": [
      "No Skill: ROC AUC=0.500\n",
      "RF: ROC AUC=0.938\n"
     ]
    },
    {
     "data": {
      "image/png": "[encoded data removed]",
      "text/plain": [
       "<Figure size 1152x576 with 1 Axes>"
      ]
     },
     "metadata": {
      "needs_background": "light"
     },
     "output_type": "display_data"
    }
   ],
   "source": [
    "ROC_function(gbm_smote, X_smote_pca_test, y_test)"
   ]
  },
  {
   "cell_type": "markdown",
   "metadata": {},
   "source": [
    "***"
   ]
  },
  {
   "cell_type": "markdown",
   "metadata": {},
   "source": [
    "## References\n",
    "\n",
    "* https://towardsdatascience.com/pca-using-python-scikit-learn-e653f8989e60\n",
    "* https://www.datacamp.com/community/tutorials/principal-component-analysis-in-python\n",
    "* https://stackabuse.com/implementing-pca-in-python-with-scikit-learn/\n"
   ]
  },
  {
   "cell_type": "code",
   "execution_count": null,
   "metadata": {},
   "outputs": [],
   "source": []
  }
 ],
 "metadata": {
  "kernelspec": {
   "display_name": "Python 3",
   "language": "python",
   "name": "python3"
  },
  "language_info": {
   "codemirror_mode": {
    "name": "ipython",
    "version": 3
   },
   "file_extension": ".py",
   "mimetype": "text/x-python",
   "name": "python",
   "nbconvert_exporter": "python",
   "pygments_lexer": "ipython3",
   "version": "3.8.5"
  }
 },
 "nbformat": 4,
 "nbformat_minor": 4
}
