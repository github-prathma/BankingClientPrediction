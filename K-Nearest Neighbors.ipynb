{
 "cells": [
  {
   "cell_type": "code",
   "execution_count": 107,
   "metadata": {},
   "outputs": [],
   "source": [
    "import numpy as np\n",
    "import pandas as pd\n",
    "import seaborn as sns\n",
    "from sklearn.model_selection import train_test_split, ShuffleSplit, cross_val_score, GridSearchCV, LeaveOneOut, cross_validate\n",
    "from sklearn.neighbors import KNeighborsClassifier\n",
    "from sklearn import metrics\n",
    "from scipy.spatial.distance import cdist\n",
    "from sklearn.pipeline import make_pipeline\n",
    "import matplotlib.pyplot as plt\n",
    "from imblearn.over_sampling import RandomOverSampler, SMOTE\n",
    "from imblearn.under_sampling import RandomUnderSampler\n",
    "from sklearn.metrics import plot_confusion_matrix\n",
    "from mlxtend.plotting import plot_confusion_matrix\n",
    "from sklearn.metrics import roc_curve,roc_auc_score,balanced_accuracy_score\n",
    "from sklearn.preprocessing import StandardScaler\n",
    "from sklearn.metrics import classification_report, confusion_matrix\n",
    "from matplotlib.colors import ListedColormap\n",
    "from sklearn.metrics import f1_score\n",
    "\n"
   ]
  },
  {
   "cell_type": "code",
   "execution_count": 4,
   "metadata": {},
   "outputs": [
    {
     "data": {
      "text/html": [
       "<div>\n",
       "<style scoped>\n",
       "    .dataframe tbody tr th:only-of-type {\n",
       "        vertical-align: middle;\n",
       "    }\n",
       "\n",
       "    .dataframe tbody tr th {\n",
       "        vertical-align: top;\n",
       "    }\n",
       "\n",
       "    .dataframe thead th {\n",
       "        text-align: right;\n",
       "    }\n",
       "</style>\n",
       "<table border=\"1\" class=\"dataframe\">\n",
       "  <thead>\n",
       "    <tr style=\"text-align: right;\">\n",
       "      <th></th>\n",
       "      <th>age</th>\n",
       "      <th>duration</th>\n",
       "      <th>campaign</th>\n",
       "      <th>pdays</th>\n",
       "      <th>previous</th>\n",
       "      <th>emp.var.rate</th>\n",
       "      <th>cons.price.idx</th>\n",
       "      <th>cons.conf.idx</th>\n",
       "      <th>euribor3m</th>\n",
       "      <th>nr.employed</th>\n",
       "      <th>...</th>\n",
       "      <th>month_jul</th>\n",
       "      <th>month_jun</th>\n",
       "      <th>month_mar</th>\n",
       "      <th>month_may</th>\n",
       "      <th>month_nov</th>\n",
       "      <th>month_oct</th>\n",
       "      <th>month_sep</th>\n",
       "      <th>marital_divorced</th>\n",
       "      <th>marital_married</th>\n",
       "      <th>marital_single</th>\n",
       "    </tr>\n",
       "  </thead>\n",
       "  <tbody>\n",
       "    <tr>\n",
       "      <th>0</th>\n",
       "      <td>5</td>\n",
       "      <td>261</td>\n",
       "      <td>1</td>\n",
       "      <td>3</td>\n",
       "      <td>0</td>\n",
       "      <td>1.1</td>\n",
       "      <td>93.994</td>\n",
       "      <td>-36.4</td>\n",
       "      <td>4.857</td>\n",
       "      <td>5191.0</td>\n",
       "      <td>...</td>\n",
       "      <td>0</td>\n",
       "      <td>0</td>\n",
       "      <td>0</td>\n",
       "      <td>1</td>\n",
       "      <td>0</td>\n",
       "      <td>0</td>\n",
       "      <td>0</td>\n",
       "      <td>0</td>\n",
       "      <td>1</td>\n",
       "      <td>0</td>\n",
       "    </tr>\n",
       "    <tr>\n",
       "      <th>1</th>\n",
       "      <td>5</td>\n",
       "      <td>149</td>\n",
       "      <td>1</td>\n",
       "      <td>3</td>\n",
       "      <td>0</td>\n",
       "      <td>1.1</td>\n",
       "      <td>93.994</td>\n",
       "      <td>-36.4</td>\n",
       "      <td>4.857</td>\n",
       "      <td>5191.0</td>\n",
       "      <td>...</td>\n",
       "      <td>0</td>\n",
       "      <td>0</td>\n",
       "      <td>0</td>\n",
       "      <td>1</td>\n",
       "      <td>0</td>\n",
       "      <td>0</td>\n",
       "      <td>0</td>\n",
       "      <td>0</td>\n",
       "      <td>1</td>\n",
       "      <td>0</td>\n",
       "    </tr>\n",
       "    <tr>\n",
       "      <th>2</th>\n",
       "      <td>3</td>\n",
       "      <td>226</td>\n",
       "      <td>1</td>\n",
       "      <td>3</td>\n",
       "      <td>0</td>\n",
       "      <td>1.1</td>\n",
       "      <td>93.994</td>\n",
       "      <td>-36.4</td>\n",
       "      <td>4.857</td>\n",
       "      <td>5191.0</td>\n",
       "      <td>...</td>\n",
       "      <td>0</td>\n",
       "      <td>0</td>\n",
       "      <td>0</td>\n",
       "      <td>1</td>\n",
       "      <td>0</td>\n",
       "      <td>0</td>\n",
       "      <td>0</td>\n",
       "      <td>0</td>\n",
       "      <td>1</td>\n",
       "      <td>0</td>\n",
       "    </tr>\n",
       "    <tr>\n",
       "      <th>3</th>\n",
       "      <td>3</td>\n",
       "      <td>151</td>\n",
       "      <td>1</td>\n",
       "      <td>3</td>\n",
       "      <td>0</td>\n",
       "      <td>1.1</td>\n",
       "      <td>93.994</td>\n",
       "      <td>-36.4</td>\n",
       "      <td>4.857</td>\n",
       "      <td>5191.0</td>\n",
       "      <td>...</td>\n",
       "      <td>0</td>\n",
       "      <td>0</td>\n",
       "      <td>0</td>\n",
       "      <td>1</td>\n",
       "      <td>0</td>\n",
       "      <td>0</td>\n",
       "      <td>0</td>\n",
       "      <td>0</td>\n",
       "      <td>1</td>\n",
       "      <td>0</td>\n",
       "    </tr>\n",
       "    <tr>\n",
       "      <th>4</th>\n",
       "      <td>5</td>\n",
       "      <td>307</td>\n",
       "      <td>1</td>\n",
       "      <td>3</td>\n",
       "      <td>0</td>\n",
       "      <td>1.1</td>\n",
       "      <td>93.994</td>\n",
       "      <td>-36.4</td>\n",
       "      <td>4.857</td>\n",
       "      <td>5191.0</td>\n",
       "      <td>...</td>\n",
       "      <td>0</td>\n",
       "      <td>0</td>\n",
       "      <td>0</td>\n",
       "      <td>1</td>\n",
       "      <td>0</td>\n",
       "      <td>0</td>\n",
       "      <td>0</td>\n",
       "      <td>0</td>\n",
       "      <td>1</td>\n",
       "      <td>0</td>\n",
       "    </tr>\n",
       "    <tr>\n",
       "      <th>...</th>\n",
       "      <td>...</td>\n",
       "      <td>...</td>\n",
       "      <td>...</td>\n",
       "      <td>...</td>\n",
       "      <td>...</td>\n",
       "      <td>...</td>\n",
       "      <td>...</td>\n",
       "      <td>...</td>\n",
       "      <td>...</td>\n",
       "      <td>...</td>\n",
       "      <td>...</td>\n",
       "      <td>...</td>\n",
       "      <td>...</td>\n",
       "      <td>...</td>\n",
       "      <td>...</td>\n",
       "      <td>...</td>\n",
       "      <td>...</td>\n",
       "      <td>...</td>\n",
       "      <td>...</td>\n",
       "      <td>...</td>\n",
       "      <td>...</td>\n",
       "    </tr>\n",
       "    <tr>\n",
       "      <th>41183</th>\n",
       "      <td>5</td>\n",
       "      <td>334</td>\n",
       "      <td>1</td>\n",
       "      <td>3</td>\n",
       "      <td>0</td>\n",
       "      <td>-1.1</td>\n",
       "      <td>94.767</td>\n",
       "      <td>-50.8</td>\n",
       "      <td>1.028</td>\n",
       "      <td>4963.6</td>\n",
       "      <td>...</td>\n",
       "      <td>0</td>\n",
       "      <td>0</td>\n",
       "      <td>0</td>\n",
       "      <td>0</td>\n",
       "      <td>1</td>\n",
       "      <td>0</td>\n",
       "      <td>0</td>\n",
       "      <td>0</td>\n",
       "      <td>1</td>\n",
       "      <td>0</td>\n",
       "    </tr>\n",
       "    <tr>\n",
       "      <th>41184</th>\n",
       "      <td>4</td>\n",
       "      <td>383</td>\n",
       "      <td>1</td>\n",
       "      <td>3</td>\n",
       "      <td>0</td>\n",
       "      <td>-1.1</td>\n",
       "      <td>94.767</td>\n",
       "      <td>-50.8</td>\n",
       "      <td>1.028</td>\n",
       "      <td>4963.6</td>\n",
       "      <td>...</td>\n",
       "      <td>0</td>\n",
       "      <td>0</td>\n",
       "      <td>0</td>\n",
       "      <td>0</td>\n",
       "      <td>1</td>\n",
       "      <td>0</td>\n",
       "      <td>0</td>\n",
       "      <td>0</td>\n",
       "      <td>1</td>\n",
       "      <td>0</td>\n",
       "    </tr>\n",
       "    <tr>\n",
       "      <th>41185</th>\n",
       "      <td>5</td>\n",
       "      <td>189</td>\n",
       "      <td>2</td>\n",
       "      <td>3</td>\n",
       "      <td>0</td>\n",
       "      <td>-1.1</td>\n",
       "      <td>94.767</td>\n",
       "      <td>-50.8</td>\n",
       "      <td>1.028</td>\n",
       "      <td>4963.6</td>\n",
       "      <td>...</td>\n",
       "      <td>0</td>\n",
       "      <td>0</td>\n",
       "      <td>0</td>\n",
       "      <td>0</td>\n",
       "      <td>1</td>\n",
       "      <td>0</td>\n",
       "      <td>0</td>\n",
       "      <td>0</td>\n",
       "      <td>1</td>\n",
       "      <td>0</td>\n",
       "    </tr>\n",
       "    <tr>\n",
       "      <th>41186</th>\n",
       "      <td>4</td>\n",
       "      <td>442</td>\n",
       "      <td>1</td>\n",
       "      <td>3</td>\n",
       "      <td>0</td>\n",
       "      <td>-1.1</td>\n",
       "      <td>94.767</td>\n",
       "      <td>-50.8</td>\n",
       "      <td>1.028</td>\n",
       "      <td>4963.6</td>\n",
       "      <td>...</td>\n",
       "      <td>0</td>\n",
       "      <td>0</td>\n",
       "      <td>0</td>\n",
       "      <td>0</td>\n",
       "      <td>1</td>\n",
       "      <td>0</td>\n",
       "      <td>0</td>\n",
       "      <td>0</td>\n",
       "      <td>1</td>\n",
       "      <td>0</td>\n",
       "    </tr>\n",
       "    <tr>\n",
       "      <th>41187</th>\n",
       "      <td>5</td>\n",
       "      <td>239</td>\n",
       "      <td>3</td>\n",
       "      <td>3</td>\n",
       "      <td>1</td>\n",
       "      <td>-1.1</td>\n",
       "      <td>94.767</td>\n",
       "      <td>-50.8</td>\n",
       "      <td>1.028</td>\n",
       "      <td>4963.6</td>\n",
       "      <td>...</td>\n",
       "      <td>0</td>\n",
       "      <td>0</td>\n",
       "      <td>0</td>\n",
       "      <td>0</td>\n",
       "      <td>1</td>\n",
       "      <td>0</td>\n",
       "      <td>0</td>\n",
       "      <td>0</td>\n",
       "      <td>1</td>\n",
       "      <td>0</td>\n",
       "    </tr>\n",
       "  </tbody>\n",
       "</table>\n",
       "<p>41173 rows × 58 columns</p>\n",
       "</div>"
      ],
      "text/plain": [
       "       age  duration  campaign  pdays  previous  emp.var.rate  cons.price.idx  \\\n",
       "0        5       261         1      3         0           1.1          93.994   \n",
       "1        5       149         1      3         0           1.1          93.994   \n",
       "2        3       226         1      3         0           1.1          93.994   \n",
       "3        3       151         1      3         0           1.1          93.994   \n",
       "4        5       307         1      3         0           1.1          93.994   \n",
       "...    ...       ...       ...    ...       ...           ...             ...   \n",
       "41183    5       334         1      3         0          -1.1          94.767   \n",
       "41184    4       383         1      3         0          -1.1          94.767   \n",
       "41185    5       189         2      3         0          -1.1          94.767   \n",
       "41186    4       442         1      3         0          -1.1          94.767   \n",
       "41187    5       239         3      3         1          -1.1          94.767   \n",
       "\n",
       "       cons.conf.idx  euribor3m  nr.employed  ... month_jul  month_jun  \\\n",
       "0              -36.4      4.857       5191.0  ...         0          0   \n",
       "1              -36.4      4.857       5191.0  ...         0          0   \n",
       "2              -36.4      4.857       5191.0  ...         0          0   \n",
       "3              -36.4      4.857       5191.0  ...         0          0   \n",
       "4              -36.4      4.857       5191.0  ...         0          0   \n",
       "...              ...        ...          ...  ...       ...        ...   \n",
       "41183          -50.8      1.028       4963.6  ...         0          0   \n",
       "41184          -50.8      1.028       4963.6  ...         0          0   \n",
       "41185          -50.8      1.028       4963.6  ...         0          0   \n",
       "41186          -50.8      1.028       4963.6  ...         0          0   \n",
       "41187          -50.8      1.028       4963.6  ...         0          0   \n",
       "\n",
       "       month_mar  month_may  month_nov  month_oct  month_sep  \\\n",
       "0              0          1          0          0          0   \n",
       "1              0          1          0          0          0   \n",
       "2              0          1          0          0          0   \n",
       "3              0          1          0          0          0   \n",
       "4              0          1          0          0          0   \n",
       "...          ...        ...        ...        ...        ...   \n",
       "41183          0          0          1          0          0   \n",
       "41184          0          0          1          0          0   \n",
       "41185          0          0          1          0          0   \n",
       "41186          0          0          1          0          0   \n",
       "41187          0          0          1          0          0   \n",
       "\n",
       "       marital_divorced  marital_married  marital_single  \n",
       "0                     0                1               0  \n",
       "1                     0                1               0  \n",
       "2                     0                1               0  \n",
       "3                     0                1               0  \n",
       "4                     0                1               0  \n",
       "...                 ...              ...             ...  \n",
       "41183                 0                1               0  \n",
       "41184                 0                1               0  \n",
       "41185                 0                1               0  \n",
       "41186                 0                1               0  \n",
       "41187                 0                1               0  \n",
       "\n",
       "[41173 rows x 58 columns]"
      ]
     },
     "execution_count": 4,
     "metadata": {},
     "output_type": "execute_result"
    }
   ],
   "source": [
    "df = pd.read_csv('processedData.csv', index_col=[0])\n",
    "df"
   ]
  },
  {
   "cell_type": "code",
   "execution_count": 5,
   "metadata": {},
   "outputs": [],
   "source": [
    "def converty(x):\n",
    "    if x=='yes':\n",
    "        return 1\n",
    "    return 0\n",
    "\n",
    "y = df['y']\n",
    "y = y.apply(converty)\n",
    "X = df.drop(columns=['y'])"
   ]
  },
  {
   "cell_type": "markdown",
   "metadata": {},
   "source": [
    "### Splitting data into training and test dataset"
   ]
  },
  {
   "cell_type": "code",
   "execution_count": 6,
   "metadata": {},
   "outputs": [],
   "source": [
    "X_train, X_test, y_train, y_test = train_test_split(X, y, test_size = 0.2, random_state = 17)\n"
   ]
  },
  {
   "cell_type": "markdown",
   "metadata": {},
   "source": [
    "### SMOTE oversampled data"
   ]
  },
  {
   "cell_type": "code",
   "execution_count": 7,
   "metadata": {},
   "outputs": [],
   "source": [
    "# Create an oversampled training data\n",
    "smote = SMOTE(random_state = 17)\n",
    "X_SMOTE, y_SMOTE = smote.fit_resample(X_train, y_train)"
   ]
  },
  {
   "cell_type": "markdown",
   "metadata": {},
   "source": [
    "### Standard Scaled Data"
   ]
  },
  {
   "cell_type": "code",
   "execution_count": 76,
   "metadata": {},
   "outputs": [],
   "source": [
    "standardizer = StandardScaler()"
   ]
  },
  {
   "cell_type": "markdown",
   "metadata": {},
   "source": [
    "### Classification Report plot function"
   ]
  },
  {
   "cell_type": "code",
   "execution_count": 8,
   "metadata": {},
   "outputs": [],
   "source": [
    "def plot_classification_report(cr, title='Classification report ', with_avg_total=False, cmap=plt.cm.summer):\n",
    "    title = title or 'Classification report'\n",
    "    lines = cr.split('\\n')\n",
    "    classes = []\n",
    "    matrix = []\n",
    "\n",
    "    for line in lines[2:(len(lines)-4)]:\n",
    "        s = line.split()\n",
    "        classes.append(s[0])\n",
    "        value = [float(x) for x in s[1: len(s) - 1]]\n",
    "        matrix.append(value)\n",
    "\n",
    "    fig, ax = plt.subplots(1)\n",
    "\n",
    "    for column in range(len(matrix)+1):\n",
    "        for row in range(len(classes)):\n",
    "            txt = matrix[row][column]\n",
    "            ax.text(column,row,matrix[row][column],va='center',ha='center')\n",
    "\n",
    "    fig = plt.imshow(matrix, interpolation='nearest', cmap=cmap)\n",
    "    plt.title(title)\n",
    "    plt.colorbar()\n",
    "    x_tick_marks = np.arange(len(classes)+1)\n",
    "    y_tick_marks = np.arange(len(classes))\n",
    "    plt.xticks(x_tick_marks, ['precision', 'recall', 'f1-score'], rotation=45)\n",
    "    plt.yticks(y_tick_marks, classes)\n",
    "    plt.ylabel('Classes')\n",
    "    plt.xlabel('Measures')\n",
    "    plt.show()"
   ]
  },
  {
   "cell_type": "markdown",
   "metadata": {},
   "source": [
    "### ROC Curve Plot function"
   ]
  },
  {
   "cell_type": "code",
   "execution_count": 9,
   "metadata": {},
   "outputs": [],
   "source": [
    "def ROC_function(model,X_test,y_test):\n",
    "    noskill_probs = [0 for _ in range(len(y_test))]\n",
    "\n",
    "    # predict probabilities\n",
    "    prob = model.predict_proba(X_test)\n",
    "    # keep probabilities for the positive outcome only\n",
    "    prob = prob[:, 1]\n",
    "    # calculate scores\n",
    "    noskill_auc = roc_auc_score(y_test, noskill_probs)\n",
    "    auc = roc_auc_score(y_test, prob)\n",
    "    # summarize scores\n",
    "    print('No Skill: ROC AUC=%.3f' % (noskill_auc))\n",
    "    print('RF: ROC AUC=%.3f' % (auc))\n",
    "    # calculate roc curves\n",
    "    noskill_fpr, noskill_tpr, _ = roc_curve(y_test, noskill_probs)\n",
    "    fpr, tpr, _ = roc_curve(y_test, prob)\n",
    "    # plot the roc curve for the model\n",
    "    plt.figure(figsize=(16,8))\n",
    "    plt.plot(noskill_fpr, noskill_tpr, linestyle='--', label='No Skill')\n",
    "    plt.plot(fpr, tpr, marker='.', label='RF')\n",
    "    # axis labels\n",
    "    plt.xlabel('False Positive Rate')\n",
    "    plt.ylabel('True Positive Rate')\n",
    "    # show the legend\n",
    "    plt.legend()\n",
    "    # show the plot\n",
    "    plt.show()"
   ]
  },
  {
   "cell_type": "markdown",
   "metadata": {},
   "source": [
    "***\n",
    "\n",
    "## KNN "
   ]
  },
  {
   "cell_type": "markdown",
   "metadata": {},
   "source": [
    "### KNN on imbalanced data\n"
   ]
  },
  {
   "cell_type": "markdown",
   "metadata": {},
   "source": [
    "* #### Without Standard Scaling of data"
   ]
  },
  {
   "cell_type": "code",
   "execution_count": 10,
   "metadata": {},
   "outputs": [
    {
     "data": {
      "text/plain": [
       "0.9026108075288403"
      ]
     },
     "execution_count": 10,
     "metadata": {},
     "output_type": "execute_result"
    }
   ],
   "source": [
    "knn = KNeighborsClassifier(n_neighbors=5)\n",
    "knn.fit(X_train, y_train)\n",
    "knn.score(X_test, y_test)"
   ]
  },
  {
   "cell_type": "code",
   "execution_count": 11,
   "metadata": {},
   "outputs": [],
   "source": [
    "y_pred = knn.predict(X_test)"
   ]
  },
  {
   "cell_type": "code",
   "execution_count": 12,
   "metadata": {},
   "outputs": [
    {
     "name": "stdout",
     "output_type": "stream",
     "text": [
      "Accuracy: 90.26%\n",
      "Balanced Accuracy: 71.3%\n"
     ]
    }
   ],
   "source": [
    "knn_acc = round(metrics.accuracy_score(y_test, y_pred)*100, 2)\n",
    "knn_bacc = round(metrics.balanced_accuracy_score(y_test, y_pred)*100, 2)\n",
    "\n",
    "print(f\"Accuracy: {knn_acc}%\")\n",
    "print(f\"Balanced Accuracy: {knn_bacc}%\")\n"
   ]
  },
  {
   "cell_type": "code",
   "execution_count": 13,
   "metadata": {},
   "outputs": [
    {
     "name": "stdout",
     "output_type": "stream",
     "text": [
      "              precision    recall  f1-score   support\n",
      "\n",
      "           0       0.93      0.96      0.95      7303\n",
      "           1       0.59      0.47      0.52       932\n",
      "\n",
      "    accuracy                           0.90      8235\n",
      "   macro avg       0.76      0.71      0.73      8235\n",
      "weighted avg       0.89      0.90      0.90      8235\n",
      "\n"
     ]
    }
   ],
   "source": [
    "knn_classification_report = classification_report(y_test, y_pred)\n",
    "print(knn_classification_report)"
   ]
  },
  {
   "cell_type": "code",
   "execution_count": 14,
   "metadata": {},
   "outputs": [
    {
     "name": "stdout",
     "output_type": "stream",
     "text": [
      "[[6997  306]\n",
      " [ 496  436]]\n"
     ]
    }
   ],
   "source": [
    "knn_cm = confusion_matrix(y_test, y_pred)\n",
    "print(knn_cm)"
   ]
  },
  {
   "cell_type": "code",
   "execution_count": 15,
   "metadata": {},
   "outputs": [
    {
     "data": {
      "text/plain": [
       "(<Figure size 432x288 with 1 Axes>,\n",
       " <AxesSubplot:xlabel='predicted label', ylabel='true label'>)"
      ]
     },
     "execution_count": 15,
     "metadata": {},
     "output_type": "execute_result"
    },
    {
     "data": {
      "image/png": "[encoded data removed]",
      "text/plain": [
       "<Figure size 432x288 with 1 Axes>"
      ]
     },
     "metadata": {
      "needs_background": "light"
     },
     "output_type": "display_data"
    }
   ],
   "source": [
    "plot_confusion_matrix(knn_cm)"
   ]
  },
  {
   "cell_type": "code",
   "execution_count": 16,
   "metadata": {},
   "outputs": [
    {
     "data": {
      "image/png": "[encoded data removed]",
      "text/plain": [
       "<Figure size 432x288 with 2 Axes>"
      ]
     },
     "metadata": {
      "needs_background": "light"
     },
     "output_type": "display_data"
    }
   ],
   "source": [
    "knn_plot_cr = \"\"\"  precision    recall  f1-score   support\n",
    "\n",
    "           0       0.93      0.96      0.95      7303\n",
    "           1       0.59      0.47      0.52       932\n",
    "\n",
    "    accuracy                           0.90      8235\n",
    "   macro avg       0.76      0.71      0.73      8235\n",
    "weighted avg       0.89      0.90      0.90      8235\"\"\"\n",
    "\n",
    "plot_classification_report(knn_plot_cr)"
   ]
  },
  {
   "cell_type": "markdown",
   "metadata": {},
   "source": [
    "### ROC Curve"
   ]
  },
  {
   "cell_type": "code",
   "execution_count": 17,
   "metadata": {},
   "outputs": [
    {
     "name": "stdout",
     "output_type": "stream",
     "text": [
      "No Skill: ROC AUC=0.500\n",
      "RF: ROC AUC=0.868\n"
     ]
    },
    {
     "data": {
      "image/png": "[encoded data removed]",
      "text/plain": [
       "<Figure size 1152x576 with 1 Axes>"
      ]
     },
     "metadata": {
      "needs_background": "light"
     },
     "output_type": "display_data"
    }
   ],
   "source": [
    "ROC_function(knn, X_test, y_test)"
   ]
  },
  {
   "cell_type": "code",
   "execution_count": 111,
   "metadata": {},
   "outputs": [
    {
     "data": {
      "text/plain": [
       "array([0.94579616, 0.520908  ])"
      ]
     },
     "execution_count": 111,
     "metadata": {},
     "output_type": "execute_result"
    }
   ],
   "source": [
    "knn_f1 = f1_score(y_test, y_pred, average=None)\n",
    "knn_f1"
   ]
  },
  {
   "cell_type": "markdown",
   "metadata": {},
   "source": [
    "* #### With Standard Scaling of data"
   ]
  },
  {
   "cell_type": "code",
   "execution_count": 77,
   "metadata": {},
   "outputs": [
    {
     "data": {
      "text/plain": [
       "0.8970248937462052"
      ]
     },
     "execution_count": 77,
     "metadata": {},
     "output_type": "execute_result"
    }
   ],
   "source": [
    "knn_ss = make_pipeline(standardizer, KNeighborsClassifier())\n",
    "knn_ss.fit(X_train, y_train)\n",
    "knn_ss.score(X_test, y_test)"
   ]
  },
  {
   "cell_type": "code",
   "execution_count": 78,
   "metadata": {},
   "outputs": [],
   "source": [
    "y_pred_ss = knn_ss.predict(X_test)"
   ]
  },
  {
   "cell_type": "code",
   "execution_count": 79,
   "metadata": {},
   "outputs": [
    {
     "name": "stdout",
     "output_type": "stream",
     "text": [
      "Accuracy: 89.7%\n",
      "Balanced Accuracy: 64.62%\n"
     ]
    }
   ],
   "source": [
    "knn_ss_acc = round(metrics.accuracy_score(y_test, y_pred_ss)*100, 2)\n",
    "knn_ss_bacc = round(metrics.balanced_accuracy_score(y_test, y_pred_ss)*100, 2)\n",
    "\n",
    "print(f\"Accuracy: {knn_ss_acc}%\")\n",
    "print(f\"Balanced Accuracy: {knn_ss_bacc}%\")\n"
   ]
  },
  {
   "cell_type": "code",
   "execution_count": 80,
   "metadata": {},
   "outputs": [
    {
     "name": "stdout",
     "output_type": "stream",
     "text": [
      "              precision    recall  f1-score   support\n",
      "\n",
      "           0       0.92      0.97      0.94      7303\n",
      "           1       0.58      0.32      0.41       932\n",
      "\n",
      "    accuracy                           0.90      8235\n",
      "   macro avg       0.75      0.65      0.68      8235\n",
      "weighted avg       0.88      0.90      0.88      8235\n",
      "\n"
     ]
    }
   ],
   "source": [
    "knn_ss_classification_report = classification_report(y_test, y_pred_ss)\n",
    "print(knn_ss_classification_report)"
   ]
  },
  {
   "cell_type": "code",
   "execution_count": 81,
   "metadata": {},
   "outputs": [
    {
     "name": "stdout",
     "output_type": "stream",
     "text": [
      "[[7087  216]\n",
      " [ 632  300]]\n"
     ]
    }
   ],
   "source": [
    "knn_ss_cm = confusion_matrix(y_test, y_pred_ss)\n",
    "print(knn_ss_cm)"
   ]
  },
  {
   "cell_type": "code",
   "execution_count": 82,
   "metadata": {},
   "outputs": [
    {
     "data": {
      "text/plain": [
       "(<Figure size 432x288 with 1 Axes>,\n",
       " <AxesSubplot:xlabel='predicted label', ylabel='true label'>)"
      ]
     },
     "execution_count": 82,
     "metadata": {},
     "output_type": "execute_result"
    },
    {
     "data": {
      "image/png": "[encoded data removed]",
      "text/plain": [
       "<Figure size 432x288 with 1 Axes>"
      ]
     },
     "metadata": {
      "needs_background": "light"
     },
     "output_type": "display_data"
    }
   ],
   "source": [
    "plot_confusion_matrix(knn_ss_cm)"
   ]
  },
  {
   "cell_type": "code",
   "execution_count": 85,
   "metadata": {},
   "outputs": [
    {
     "data": {
      "image/png": "[encoded data removed]",
      "text/plain": [
       "<Figure size 432x288 with 2 Axes>"
      ]
     },
     "metadata": {
      "needs_background": "light"
     },
     "output_type": "display_data"
    }
   ],
   "source": [
    "knn_plot_ss_cr = \"\"\"  precision    recall  f1-score   support\n",
    "\n",
    "           0       0.92      0.97      0.94      7303\n",
    "           1       0.58      0.32      0.41       932\n",
    "\n",
    "    accuracy                           0.90      8235\n",
    "   macro avg       0.75      0.65      0.68      8235\n",
    "weighted avg       0.88      0.90      0.88      8235\"\"\"\n",
    "\n",
    "plot_classification_report(knn_plot_ss_cr)"
   ]
  },
  {
   "cell_type": "code",
   "execution_count": 84,
   "metadata": {},
   "outputs": [
    {
     "name": "stdout",
     "output_type": "stream",
     "text": [
      "No Skill: ROC AUC=0.500\n",
      "RF: ROC AUC=0.816\n"
     ]
    },
    {
     "data": {
      "image/png": "[encoded data removed]",
      "text/plain": [
       "<Figure size 1152x576 with 1 Axes>"
      ]
     },
     "metadata": {
      "needs_background": "light"
     },
     "output_type": "display_data"
    }
   ],
   "source": [
    "ROC_function(knn_ss, X_test, y_test)"
   ]
  },
  {
   "cell_type": "code",
   "execution_count": 110,
   "metadata": {},
   "outputs": [
    {
     "data": {
      "text/plain": [
       "array([0.94354946, 0.41436464])"
      ]
     },
     "execution_count": 110,
     "metadata": {},
     "output_type": "execute_result"
    }
   ],
   "source": [
    "knn_ss_f1 = f1_score(y_test, y_pred_ss, average=None)\n",
    "knn_ss_f1"
   ]
  },
  {
   "cell_type": "markdown",
   "metadata": {},
   "source": [
    "### k-fold cross validation"
   ]
  },
  {
   "cell_type": "code",
   "execution_count": 28,
   "metadata": {},
   "outputs": [
    {
     "name": "stdout",
     "output_type": "stream",
     "text": [
      "[0.89981785 0.89738919 0.90771099 0.90771099 0.89678203]\n"
     ]
    }
   ],
   "source": [
    "knn_kfold = KNeighborsClassifier(n_neighbors = 5)\n",
    "knn_kfold.fit(X_train, y_train)\n",
    "\n",
    "# 5-fold\n",
    "scores = cross_val_score(knn_kfold, X_test, y_test, cv=5, scoring='accuracy')\n",
    "\n",
    "print(scores)"
   ]
  },
  {
   "cell_type": "code",
   "execution_count": 29,
   "metadata": {},
   "outputs": [
    {
     "name": "stdout",
     "output_type": "stream",
     "text": [
      "0.9018822100789314\n"
     ]
    }
   ],
   "source": [
    "print(scores.mean())"
   ]
  },
  {
   "cell_type": "markdown",
   "metadata": {},
   "source": [
    "### Simulating for k"
   ]
  },
  {
   "cell_type": "code",
   "execution_count": 30,
   "metadata": {},
   "outputs": [
    {
     "data": {
      "image/png": "[encoded data removed]",
      "text/plain": [
       "<Figure size 432x288 with 1 Axes>"
      ]
     },
     "metadata": {
      "needs_background": "light"
     },
     "output_type": "display_data"
    }
   ],
   "source": [
    "k_range = range(1, 100)\n",
    "k_scores = []\n",
    "\n",
    "# calculate different k in models, then return the average accuracy based on the cross validation\n",
    "for k in k_range:\n",
    "    knn = KNeighborsClassifier(n_neighbors=k)\n",
    "    knn.fit(X_train, y_train)\n",
    "    scores = cross_val_score(knn, X_test, y_test, cv=5, scoring='accuracy')\n",
    "    k_scores.append(scores.mean())\n",
    "    \n",
    "# plot to see clearly\n",
    "plt.plot(k_range, k_scores)\n",
    "plt.xlabel('Value of K for KNN')\n",
    "plt.ylabel('Cross-Validated Accuracy')\n",
    "plt.show()\n",
    "\n"
   ]
  },
  {
   "cell_type": "code",
   "execution_count": 31,
   "metadata": {},
   "outputs": [
    {
     "data": {
      "image/png": "[encoded data removed]",
      "text/plain": [
       "<Figure size 432x288 with 1 Axes>"
      ]
     },
     "metadata": {
      "needs_background": "light"
     },
     "output_type": "display_data"
    }
   ],
   "source": [
    "k_range = range(1, 100)\n",
    "k_scores = []\n",
    "\n",
    "for k in k_range:\n",
    "    knn = KNeighborsClassifier(n_neighbors=k)\n",
    "    knn.fit(X_train, y_train)\n",
    "    loss = abs(cross_val_score(knn, X_test, y_test, cv=5, scoring='neg_mean_squared_error'))\n",
    "    k_scores.append(loss.mean())\n",
    "    \n",
    "plt.plot(k_range, k_scores)\n",
    "plt.xlabel('Value of K for KNN')\n",
    "plt.ylabel('Cross-Validated MSE')\n",
    "plt.show()"
   ]
  },
  {
   "cell_type": "markdown",
   "metadata": {},
   "source": [
    "### KNN on SMOTE Data"
   ]
  },
  {
   "cell_type": "markdown",
   "metadata": {},
   "source": [
    "* #### Without Standard Scaling Data"
   ]
  },
  {
   "cell_type": "code",
   "execution_count": 33,
   "metadata": {},
   "outputs": [
    {
     "data": {
      "text/plain": [
       "KNeighborsClassifier(n_neighbors=15)"
      ]
     },
     "execution_count": 33,
     "metadata": {},
     "output_type": "execute_result"
    }
   ],
   "source": [
    "knn_smote = KNeighborsClassifier(n_neighbors = 15)\n",
    "knn_smote.fit(X_SMOTE, y_SMOTE)"
   ]
  },
  {
   "cell_type": "code",
   "execution_count": 34,
   "metadata": {},
   "outputs": [],
   "source": [
    "y_smote_pred = knn_smote.predict(X_test)"
   ]
  },
  {
   "cell_type": "code",
   "execution_count": 35,
   "metadata": {},
   "outputs": [
    {
     "name": "stdout",
     "output_type": "stream",
     "text": [
      "Accuracy: 83.67%\n",
      "Balanced Accuracy: 85.03%\n"
     ]
    }
   ],
   "source": [
    "knn_smote_acc = round(metrics.accuracy_score(y_test, y_smote_pred)*100, 2)\n",
    "knn_smote_bacc = round(metrics.balanced_accuracy_score(y_test, y_smote_pred)*100, 2)\n",
    "\n",
    "print(f\"Accuracy: {knn_smote_acc}%\")\n",
    "print(f\"Balanced Accuracy: {knn_smote_bacc}%\")"
   ]
  },
  {
   "cell_type": "code",
   "execution_count": 36,
   "metadata": {},
   "outputs": [
    {
     "name": "stdout",
     "output_type": "stream",
     "text": [
      "              precision    recall  f1-score   support\n",
      "\n",
      "           0       0.98      0.83      0.90      7303\n",
      "           1       0.40      0.87      0.55       932\n",
      "\n",
      "    accuracy                           0.84      8235\n",
      "   macro avg       0.69      0.85      0.72      8235\n",
      "weighted avg       0.91      0.84      0.86      8235\n",
      "\n"
     ]
    }
   ],
   "source": [
    "knn_smote_classification_report = classification_report(y_test, y_smote_pred)\n",
    "print(knn_smote_classification_report)"
   ]
  },
  {
   "cell_type": "code",
   "execution_count": 37,
   "metadata": {},
   "outputs": [
    {
     "name": "stdout",
     "output_type": "stream",
     "text": [
      "[[6081 1222]\n",
      " [ 123  809]]\n"
     ]
    }
   ],
   "source": [
    "knn_smote_cm = confusion_matrix(y_test, y_smote_pred)\n",
    "print(knn_smote_cm)"
   ]
  },
  {
   "cell_type": "code",
   "execution_count": 38,
   "metadata": {},
   "outputs": [
    {
     "data": {
      "text/plain": [
       "(<Figure size 432x288 with 1 Axes>,\n",
       " <AxesSubplot:xlabel='predicted label', ylabel='true label'>)"
      ]
     },
     "execution_count": 38,
     "metadata": {},
     "output_type": "execute_result"
    },
    {
     "data": {
      "image/png": "[encoded data removed]",
      "text/plain": [
       "<Figure size 432x288 with 1 Axes>"
      ]
     },
     "metadata": {
      "needs_background": "light"
     },
     "output_type": "display_data"
    }
   ],
   "source": [
    "plot_confusion_matrix(knn_smote_cm)"
   ]
  },
  {
   "cell_type": "code",
   "execution_count": 39,
   "metadata": {},
   "outputs": [
    {
     "data": {
      "image/png": "[encoded data removed]",
      "text/plain": [
       "<Figure size 432x288 with 2 Axes>"
      ]
     },
     "metadata": {
      "needs_background": "light"
     },
     "output_type": "display_data"
    }
   ],
   "source": [
    "knn__smote_plot_cr = \"\"\"  precision    recall  f1-score   support\n",
    "\n",
    "           0       0.98      0.83      0.90      7303\n",
    "           1       0.40      0.87      0.55       932\n",
    "\n",
    "    accuracy                           0.84      8235\n",
    "   macro avg       0.69      0.85      0.72      8235\n",
    "weighted avg       0.91      0.84      0.86      8235\"\"\"\n",
    "\n",
    "plot_classification_report(knn__smote_plot_cr)"
   ]
  },
  {
   "cell_type": "markdown",
   "metadata": {},
   "source": [
    "### ROC Curve"
   ]
  },
  {
   "cell_type": "code",
   "execution_count": 40,
   "metadata": {},
   "outputs": [
    {
     "name": "stdout",
     "output_type": "stream",
     "text": [
      "No Skill: ROC AUC=0.500\n",
      "RF: ROC AUC=0.913\n"
     ]
    },
    {
     "data": {
      "image/png": "[encoded data removed]",
      "text/plain": [
       "<Figure size 1152x576 with 1 Axes>"
      ]
     },
     "metadata": {
      "needs_background": "light"
     },
     "output_type": "display_data"
    }
   ],
   "source": [
    "ROC_function(knn_smote, X_test, y_test)"
   ]
  },
  {
   "cell_type": "code",
   "execution_count": 109,
   "metadata": {},
   "outputs": [
    {
     "data": {
      "text/plain": [
       "array([0.900422  , 0.54606817])"
      ]
     },
     "execution_count": 109,
     "metadata": {},
     "output_type": "execute_result"
    }
   ],
   "source": [
    "knn_smote_f1 = f1_score(y_test, y_smote_pred, average=None)\n",
    "knn_smote_f1"
   ]
  },
  {
   "cell_type": "markdown",
   "metadata": {},
   "source": [
    "* #### With Standard Scaling Data\n"
   ]
  },
  {
   "cell_type": "code",
   "execution_count": 86,
   "metadata": {},
   "outputs": [
    {
     "data": {
      "text/plain": [
       "0.8931390406800243"
      ]
     },
     "execution_count": 86,
     "metadata": {},
     "output_type": "execute_result"
    }
   ],
   "source": [
    "knn_smote_ss = make_pipeline(standardizer, KNeighborsClassifier())\n",
    "knn_smote_ss.fit(X_SMOTE, y_SMOTE)\n",
    "knn_smote_ss.score(X_test, y_test)"
   ]
  },
  {
   "cell_type": "code",
   "execution_count": 87,
   "metadata": {},
   "outputs": [],
   "source": [
    "y_smote_ss_pred = knn_smote_ss.predict(X_test)"
   ]
  },
  {
   "cell_type": "code",
   "execution_count": 88,
   "metadata": {},
   "outputs": [
    {
     "name": "stdout",
     "output_type": "stream",
     "text": [
      "Accuracy: 89.31%\n",
      "Balanced Accuracy: 65.61%\n"
     ]
    }
   ],
   "source": [
    "knn_smote_ss_acc = round(metrics.accuracy_score(y_test, y_smote_ss_pred)*100, 2)\n",
    "knn_smote_ss_bacc = round(metrics.balanced_accuracy_score(y_test, y_smote_ss_pred)*100, 2)\n",
    "\n",
    "print(f\"Accuracy: {knn_smote_ss_acc}%\")\n",
    "print(f\"Balanced Accuracy: {knn_smote_ss_bacc}%\")"
   ]
  },
  {
   "cell_type": "code",
   "execution_count": 89,
   "metadata": {},
   "outputs": [
    {
     "name": "stdout",
     "output_type": "stream",
     "text": [
      "              precision    recall  f1-score   support\n",
      "\n",
      "           0       0.92      0.96      0.94      7303\n",
      "           1       0.54      0.35      0.43       932\n",
      "\n",
      "    accuracy                           0.89      8235\n",
      "   macro avg       0.73      0.66      0.68      8235\n",
      "weighted avg       0.88      0.89      0.88      8235\n",
      "\n"
     ]
    }
   ],
   "source": [
    "knn_smote_ss_cr = classification_report(y_test, y_smote_ss_pred)\n",
    "print(knn_smote_ss_cr)"
   ]
  },
  {
   "cell_type": "code",
   "execution_count": 90,
   "metadata": {},
   "outputs": [
    {
     "name": "stdout",
     "output_type": "stream",
     "text": [
      "[[7029  274]\n",
      " [ 606  326]]\n"
     ]
    }
   ],
   "source": [
    "knn_smote_ss_cm = confusion_matrix(y_test, y_smote_ss_pred)\n",
    "print(knn_smote_ss_cm)"
   ]
  },
  {
   "cell_type": "code",
   "execution_count": 91,
   "metadata": {},
   "outputs": [
    {
     "data": {
      "text/plain": [
       "(<Figure size 432x288 with 1 Axes>,\n",
       " <AxesSubplot:xlabel='predicted label', ylabel='true label'>)"
      ]
     },
     "execution_count": 91,
     "metadata": {},
     "output_type": "execute_result"
    },
    {
     "data": {
      "image/png": "[encoded data removed]",
      "text/plain": [
       "<Figure size 432x288 with 1 Axes>"
      ]
     },
     "metadata": {
      "needs_background": "light"
     },
     "output_type": "display_data"
    }
   ],
   "source": [
    "plot_confusion_matrix(knn_smote_ss_cm)"
   ]
  },
  {
   "cell_type": "code",
   "execution_count": 93,
   "metadata": {},
   "outputs": [
    {
     "data": {
      "image/png": "[encoded data removed]",
      "text/plain": [
       "<Figure size 432x288 with 2 Axes>"
      ]
     },
     "metadata": {
      "needs_background": "light"
     },
     "output_type": "display_data"
    }
   ],
   "source": [
    "knn__smote_ss_plot_cr = \"\"\"  precision    recall  f1-score   support\n",
    "\n",
    "           0       0.92      0.96      0.94      7303\n",
    "           1       0.54      0.35      0.43       932\n",
    "\n",
    "    accuracy                           0.89      8235\n",
    "   macro avg       0.73      0.66      0.68      8235\n",
    "weighted avg       0.88      0.89      0.88      8235\"\"\"\n",
    "\n",
    "plot_classification_report(knn__smote_ss_plot_cr)"
   ]
  },
  {
   "cell_type": "code",
   "execution_count": 92,
   "metadata": {},
   "outputs": [
    {
     "name": "stdout",
     "output_type": "stream",
     "text": [
      "No Skill: ROC AUC=0.500\n",
      "RF: ROC AUC=0.782\n"
     ]
    },
    {
     "data": {
      "image/png": "[encoded data removed]",
      "text/plain": [
       "<Figure size 1152x576 with 1 Axes>"
      ]
     },
     "metadata": {
      "needs_background": "light"
     },
     "output_type": "display_data"
    }
   ],
   "source": [
    "ROC_function(knn_smote_ss, X_test, y_test)"
   ]
  },
  {
   "cell_type": "code",
   "execution_count": 108,
   "metadata": {},
   "outputs": [
    {
     "data": {
      "text/plain": [
       "array([0.94108984, 0.42558747])"
      ]
     },
     "execution_count": 108,
     "metadata": {},
     "output_type": "execute_result"
    }
   ],
   "source": [
    "knn_smote_ss_f1 = f1_score(y_test, y_smote_ss_pred, average=None)\n",
    "knn_smote_ss_f1"
   ]
  },
  {
   "cell_type": "markdown",
   "metadata": {},
   "source": [
    "***"
   ]
  },
  {
   "cell_type": "markdown",
   "metadata": {},
   "source": [
    "## Final Results:"
   ]
  },
  {
   "cell_type": "code",
   "execution_count": 112,
   "metadata": {},
   "outputs": [
    {
     "data": {
      "text/html": [
       "<div>\n",
       "<style scoped>\n",
       "    .dataframe tbody tr th:only-of-type {\n",
       "        vertical-align: middle;\n",
       "    }\n",
       "\n",
       "    .dataframe tbody tr th {\n",
       "        vertical-align: top;\n",
       "    }\n",
       "\n",
       "    .dataframe thead th {\n",
       "        text-align: right;\n",
       "    }\n",
       "</style>\n",
       "<table border=\"1\" class=\"dataframe\">\n",
       "  <thead>\n",
       "    <tr style=\"text-align: right;\">\n",
       "      <th></th>\n",
       "      <th>Models</th>\n",
       "      <th>Accuracies</th>\n",
       "      <th>Balanced Accuracies</th>\n",
       "      <th>f1-Scores</th>\n",
       "    </tr>\n",
       "  </thead>\n",
       "  <tbody>\n",
       "    <tr>\n",
       "      <th>0</th>\n",
       "      <td>KNN: Imbalanced Data</td>\n",
       "      <td>90.26</td>\n",
       "      <td>71.30</td>\n",
       "      <td>0.520908</td>\n",
       "    </tr>\n",
       "    <tr>\n",
       "      <th>1</th>\n",
       "      <td>KNN: Imbalanced Scaled Data</td>\n",
       "      <td>89.70</td>\n",
       "      <td>64.62</td>\n",
       "      <td>0.414365</td>\n",
       "    </tr>\n",
       "    <tr>\n",
       "      <th>2</th>\n",
       "      <td>KNN: SMOTE data</td>\n",
       "      <td>83.67</td>\n",
       "      <td>85.03</td>\n",
       "      <td>0.546068</td>\n",
       "    </tr>\n",
       "    <tr>\n",
       "      <th>3</th>\n",
       "      <td>KNN: SMOTE Scaled Data</td>\n",
       "      <td>89.31</td>\n",
       "      <td>65.61</td>\n",
       "      <td>0.425587</td>\n",
       "    </tr>\n",
       "  </tbody>\n",
       "</table>\n",
       "</div>"
      ],
      "text/plain": [
       "                        Models  Accuracies  Balanced Accuracies  f1-Scores\n",
       "0         KNN: Imbalanced Data       90.26                71.30   0.520908\n",
       "1  KNN: Imbalanced Scaled Data       89.70                64.62   0.414365\n",
       "2              KNN: SMOTE data       83.67                85.03   0.546068\n",
       "3       KNN: SMOTE Scaled Data       89.31                65.61   0.425587"
      ]
     },
     "execution_count": 112,
     "metadata": {},
     "output_type": "execute_result"
    }
   ],
   "source": [
    "models = ['KNN: Imbalanced Data', 'KNN: Imbalanced Scaled Data', 'KNN: SMOTE data', 'KNN: SMOTE Scaled Data']\n",
    "accs = [knn_acc, knn_ss_acc, knn_smote_acc, knn_smote_ss_acc]\n",
    "balanced_accs = [knn_bacc, knn_ss_bacc, knn_smote_bacc, knn_smote_ss_bacc]\n",
    "f1_scores = [knn_f1[1], knn_ss_f1[1], knn_smote_f1[1], knn_smote_ss_f1[1]]\n",
    "\n",
    "modelsResult = {'Models': models, 'Accuracies': accs, 'Balanced Accuracies': balanced_accs, 'f1-Scores': f1_scores}\n",
    "\n",
    "modelsDf = pd.DataFrame(modelsResult)\n",
    "modelsDf"
   ]
  },
  {
   "cell_type": "markdown",
   "metadata": {},
   "source": [
    "### Models Performance Comparison"
   ]
  },
  {
   "cell_type": "code",
   "execution_count": 103,
   "metadata": {},
   "outputs": [
    {
     "data": {
      "text/plain": [
       "Text(0.5, 1.0, 'Accuracies vs Balanced Accuracies')"
      ]
     },
     "execution_count": 103,
     "metadata": {},
     "output_type": "execute_result"
    },
    {
     "data": {
      "image/png": "[encoded data removed]",
      "text/plain": [
       "<Figure size 432x288 with 1 Axes>"
      ]
     },
     "metadata": {
      "needs_background": "light"
     },
     "output_type": "display_data"
    }
   ],
   "source": [
    "x = modelsDf['Accuracies']\n",
    "y = modelsDf['Balanced Accuracies']\n",
    "classes = list(modelsDf['Models'])\n",
    "values = [0, 1, 2, 3]\n",
    "colours = ListedColormap(['red','brown','cyan', 'green', 'blue', 'orange'])\n",
    "scatter = plt.scatter(x, y,c=values, cmap=colours)\n",
    "plt.xlabel('Accuracies', labelpad=10)\n",
    "plt.ylabel('Balanced Accuracies', labelpad=10)\n",
    "plt.legend(handles=scatter.legend_elements()[0], labels=classes)\n",
    "plt.title('Accuracies vs Balanced Accuracies', fontweight='bold', size=14)"
   ]
  },
  {
   "cell_type": "code",
   "execution_count": 113,
   "metadata": {},
   "outputs": [
    {
     "data": {
      "text/plain": [
       "Text(0.5, 1.0, 'f1-Scores vs Balanced Accuracies')"
      ]
     },
     "execution_count": 113,
     "metadata": {},
     "output_type": "execute_result"
    },
    {
     "data": {
      "image/png": "[encoded data removed]",
      "text/plain": [
       "<Figure size 432x288 with 1 Axes>"
      ]
     },
     "metadata": {
      "needs_background": "light"
     },
     "output_type": "display_data"
    }
   ],
   "source": [
    "x = modelsDf['f1-Scores']\n",
    "y = modelsDf['Balanced Accuracies']\n",
    "classes = list(modelsDf['Models'])\n",
    "values = [0, 1, 2, 3]\n",
    "colours = ListedColormap(['red','brown','cyan', 'green', 'blue', 'orange'])\n",
    "scatter = plt.scatter(x, y,c=values, cmap=colours)\n",
    "plt.xlabel('f1-Scores', labelpad=10)\n",
    "plt.ylabel('Balanced Accuracies', labelpad=10)\n",
    "plt.legend(handles=scatter.legend_elements()[0], labels=classes)\n",
    "plt.title('f1-Scores vs Balanced Accuracies', fontweight='bold', size=14)"
   ]
  },
  {
   "cell_type": "markdown",
   "metadata": {},
   "source": [
    "## References\n",
    "\n",
    "* https://www.dataquest.io/blog/k-nearest-neighbors-in-python/\n",
    "* https://towardsdatascience.com/implementing-k-nearest-neighbors-with-scikit-learn-9e4858e231ea\n",
    "* https://machinelearningmastery.com/roc-curves-and-precision-recall-curves-for-classification-in-python/\n",
    "* https://medium.com/@svanillasun/how-to-deal-with-cross-validation-based-on-knn-algorithm-compute-auc-based-on-naive-bayes-ff4b8284cff4\n",
    "* https://medium.com/datadriveninvestor/increase-10-accuracy-with-re-scaling-features-in-k-nearest-neighbors-python-code-677d28032a45\n"
   ]
  },
  {
   "cell_type": "code",
   "execution_count": null,
   "metadata": {},
   "outputs": [],
   "source": []
  }
 ],
 "metadata": {
  "kernelspec": {
   "display_name": "Python 3",
   "language": "python",
   "name": "python3"
  },
  "language_info": {
   "codemirror_mode": {
    "name": "ipython",
    "version": 3
   },
   "file_extension": ".py",
   "mimetype": "text/x-python",
   "name": "python",
   "nbconvert_exporter": "python",
   "pygments_lexer": "ipython3",
   "version": "3.8.5"
  }
 },
 "nbformat": 4,
 "nbformat_minor": 4
}
